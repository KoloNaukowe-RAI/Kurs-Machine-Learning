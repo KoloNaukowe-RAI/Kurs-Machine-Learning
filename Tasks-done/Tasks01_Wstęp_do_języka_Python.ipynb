{
 "cells": [
  {
   "cell_type": "markdown",
   "metadata": {
    "id": "qwY8yhIHecec"
   },
   "source": [
    "# Zadania do tematu \"Wstęp do języka Python\""
   ]
  },
  {
   "cell_type": "markdown",
   "metadata": {
    "id": "rjyh9METepfq"
   },
   "source": [
    "W tym Notebooku znajdują się zadania do tematu \"Wstęp do języka Python\", które mają na celu pokazać podstawy programowania w Pythonie. Zadania można wykonywać w komórkach z kodem w Notebooku, lub jeżeli ktoś woli to w formie skryptów, np. w PyCharmie.\n",
    "\n",
    "Jeżeli w danym zadaniu będzie należało wczytać dane, to w treści zadania umieszczony będzie link skąd te dane można pobrać. W przypadku korzystania z Notebooków online (Google Colab lub Kaggle) należy pamiętać, żeby te dane wgrać na stronę - może być konieczność robienia tego przy każdym łączeniu się ze środowiskiem."
   ]
  },
  {
   "cell_type": "markdown",
   "metadata": {
    "id": "0niJ2xqMp1QZ"
   },
   "source": [
    "**Jeżeli w jakimś momencie pojawią się pytania to śmiało pytaj.**"
   ]
  },
  {
   "cell_type": "markdown",
   "metadata": {
    "id": "01yVpiXAgNDV"
   },
   "source": [
    "# 0. Przetestowanie jak działa Jupyter Notebook\n",
    "\n",
    "Jupyter Notebook to interaktywne środowisko programistyczne umożliwiające tworzenie i uruchamianie kodu w różnych językach programowania, z naciskiem na Python. Umożliwia łączenie kodu, tekstu (w formacie Markdown), wizualizacji oraz innych multimediów w jednym dokumencie, co jest szczególnie przydatne w analizie danych, uczeniu maszynowym i badaniach naukowych. Zaletą jest to, że umożliwia uruchamianie fragmentów kodu, a wartości zmiennych są \"zapamiętywane\" i można się do nich odnieść, bez konieczności wykonywania całego kodu.\n",
    "\n",
    "Zacznijmy od uruchomienia kilku fragmentów kodu (**zwróć uwagę na komentarze - czasami wystarczy po prostu uruchomić fragment kodu a czasem należy coś uzupełnić**). Kod można wpisywać w widocznych komórkach, a po jego wykonaniu poniżej pojawi się wynik w formie tekstowej (w przypadku wykorzystania np. `print()`) lub obrazka (to przy korzystaniu np. z bibliotek do tworzenia wykresów)."
   ]
  },
  {
   "cell_type": "code",
   "execution_count": 10,
   "metadata": {
    "id": "SMF1EtNMgIwa"
   },
   "outputs": [
    {
     "name": "stdout",
     "output_type": "stream",
     "text": [
      "Hello World!\n"
     ]
    }
   ],
   "source": [
    "# Uruchom kod\n",
    "print(\"Hello World!\")"
   ]
  },
  {
   "cell_type": "markdown",
   "metadata": {
    "id": "TMbRDHDqiPPP"
   },
   "source": [
    "Teraz przypiszemy wartość do zmiennej i ją wyświetlimy."
   ]
  },
  {
   "cell_type": "code",
   "execution_count": 11,
   "metadata": {
    "id": "eWwScqiBiJ-r"
   },
   "outputs": [
    {
     "name": "stdout",
     "output_type": "stream",
     "text": [
      "123\n"
     ]
    }
   ],
   "source": [
    "# Uruchom kod\n",
    "x = 123\n",
    "print(x)"
   ]
  },
  {
   "cell_type": "markdown",
   "metadata": {
    "id": "ghR6PTGLig4T"
   },
   "source": [
    "Tak jak było wspomniane wcześniej, wartości zmiennych pozostają \"zapamiętane\" między kolejnymi fragmentami kodu."
   ]
  },
  {
   "cell_type": "code",
   "execution_count": 12,
   "metadata": {
    "id": "ARbJT0_BigiT"
   },
   "outputs": [
    {
     "name": "stdout",
     "output_type": "stream",
     "text": [
      "23\n"
     ]
    }
   ],
   "source": [
    "# Uruchom kod\n",
    "y = x - 100\n",
    "print(y)"
   ]
  },
  {
   "cell_type": "markdown",
   "metadata": {
    "id": "5T07WscojFe3"
   },
   "source": [
    "Teraz pierwsze zadanie dla Ciebie, wybierz dowolną operację matematyczną i przedstaw `z` jako wynik tej operacji na zmiennych `x` i `y`. Jeżeli potrzebujesz się upewnić jakie są możliwe operacje matematyczne, to sprawdź tabelkę na stronie kursu."
   ]
  },
  {
   "cell_type": "code",
   "execution_count": 13,
   "metadata": {
    "id": "Q2zVlXHTd-pO"
   },
   "outputs": [
    {
     "name": "stdout",
     "output_type": "stream",
     "text": [
      "146\n"
     ]
    }
   ],
   "source": [
    "# Uzupełnij kod przed uruchomieniem\n",
    "z = x + y\n",
    "print(z)"
   ]
  },
  {
   "cell_type": "markdown",
   "metadata": {
    "id": "AKrroozvk_6Y"
   },
   "source": [
    "Zapisywanie wartości pomiędzy komórkami kodu niesie za sobą pewne niebezpieczeństwa, które nie występują kiedy piszemy skrypt. Należy kontrolować czy komórki, które rekurencyjnie zmieniają wartość zmiennej, nie są wywoływane więcej razy niż jest to konieczne. Poniżej znajduje się taki przykład, który możesz uruchomić kilkukrotnie i w ten sposób \"zepsuć\" `x`."
   ]
  },
  {
   "cell_type": "code",
   "execution_count": 14,
   "metadata": {
    "id": "dnwnpvwJi4zK"
   },
   "outputs": [
    {
     "name": "stdout",
     "output_type": "stream",
     "text": [
      "122\n"
     ]
    }
   ],
   "source": [
    "# Uruchom kod\n",
    "x = x - 1\n",
    "print(x)"
   ]
  },
  {
   "cell_type": "markdown",
   "metadata": {
    "id": "rLfmgCqdmiZk"
   },
   "source": [
    "Jest to szczególnie problematyczne w przypadku uczenia maszynowego, jeżeli podzielimy dane na zbiór testowy i treningowy, a następnie zbiór treningowy podzielimy na zbiór walidacyjny i ... znowu zbiór treningowy. Jeżeli ktoś wykorzysta tę samą nazwę (zwykle `X_train`) przy podziale na zbiór testowy i treningowy, a następnie na zbiór walidacyjny i **właściwy** zbiór treningowy, to przy kilkukrotnym wywołaniu mocno zmniejszy liczebność tego zbioru.\n",
    "\n",
    "Późniejsza zmiana wartości danej zmiennej, nie powoduje jednak zmiany obliczonych wartości zmiennych `y` i `z`, kiedy to `x=123`. Aby zmienić wartości tamtych zmiennych konieczne byłoby uruchomienie ponownie tamtych komórek kodu (jak chcesz możesz to zrobić)."
   ]
  },
  {
   "cell_type": "code",
   "execution_count": 15,
   "metadata": {
    "id": "aXUGilrjnCVR"
   },
   "outputs": [
    {
     "name": "stdout",
     "output_type": "stream",
     "text": [
      "23\n",
      "146\n"
     ]
    }
   ],
   "source": [
    "# Uruchom kod\n",
    "print(y)\n",
    "print(z)"
   ]
  },
  {
   "cell_type": "markdown",
   "metadata": {
    "id": "kT1SG1UwpkEv"
   },
   "source": [
    "Myślę, że to krótkie wprowadzenie pokazało jak można korzystać z Jupyter Notebooks i możemy przejść do zadań."
   ]
  },
  {
   "cell_type": "markdown",
   "metadata": {
    "id": "dI5Lv5i9qOOe"
   },
   "source": [
    "# 1. Utwórz 3 zmienne: `a`, `b` i `c`. Przypisz im kolejno wartości: 3.33, \"abc\" i 135. Wykorzystaj `type()` to sprawdzenia typu każdej zmiennej."
   ]
  },
  {
   "cell_type": "code",
   "execution_count": 16,
   "metadata": {
    "id": "lt9cz3U9qMUX"
   },
   "outputs": [
    {
     "name": "stdout",
     "output_type": "stream",
     "text": [
      "<class 'float'>\n",
      "<class 'str'>\n",
      "<class 'int'>\n"
     ]
    }
   ],
   "source": [
    "# Wpisz swój kod poniżej\n",
    "a = 3.33\n",
    "b = \"abc\"\n",
    "c = 135\n",
    "\n",
    "print(type(a))\n",
    "print(type(b))\n",
    "print(type(c))"
   ]
  },
  {
   "cell_type": "code",
   "execution_count": 18,
   "metadata": {},
   "outputs": [
    {
     "name": "stdout",
     "output_type": "stream",
     "text": [
      "<class 'str'>\n"
     ]
    }
   ],
   "source": [
    "a = \"cos tam\"\n",
    "print(type(a))"
   ]
  },
  {
   "cell_type": "markdown",
   "metadata": {
    "id": "NOj6vuu2rXbh"
   },
   "source": [
    "# 2. Wykorzystaj zmienne z poprzedniego zadania i wstaw je w listę `d` oraz utwórz słownik `e`, w którym jako klucz będzie litera alfabetu odpowiadająca danej zmiennej (czyli dla zmiennej `a` będzie to `\"a\"`), a wartościami typy tej zmiennej."
   ]
  },
  {
   "cell_type": "code",
   "execution_count": 19,
   "metadata": {
    "id": "SLRV2g-zsjqm"
   },
   "outputs": [],
   "source": [
    "# Wpisz swój kod poniżej\n",
    "d = [a, b, c]\n",
    "e = {\"a\": a, \"b\": b, \"c\": c}"
   ]
  },
  {
   "cell_type": "markdown",
   "metadata": {
    "id": "u05iX1rmtoVh"
   },
   "source": [
    "Następnie wykorzystaj `print()` i odwołaj się do drugiej wartości utworzonej listy (czyli tej o indeksie `1`, bo indeksowanie zaczyna się od 0) oraz do klucza `\"b\"` ze słownika."
   ]
  },
  {
   "cell_type": "code",
   "execution_count": 22,
   "metadata": {
    "id": "CjxemEA_tnsq"
   },
   "outputs": [
    {
     "name": "stdout",
     "output_type": "stream",
     "text": [
      "abc\n",
      "abc\n"
     ]
    }
   ],
   "source": [
    "# Wpisz swój kod poniżej\n",
    "print(d[1])\n",
    "print(e[\"b\"])"
   ]
  },
  {
   "cell_type": "markdown",
   "metadata": {
    "id": "98VaGEj3GyKp"
   },
   "source": [
    "# 3. Utwórz pętlę `while`, która w swoim wyniku spowoduje przeiterowanie i wypisanie w konsoli każdej wartości z listy `d` (wykorzystaj metodę `len()`). Następnie napisz pętlę `for`, która odwoła się do kluczy słownika `e` i wypisze w konsoli: [klucz] - [przechowywana wartość]. Wykorzystaj `keys()`."
   ]
  },
  {
   "cell_type": "code",
   "execution_count": 31,
   "metadata": {
    "id": "cdofuTNmH7fU"
   },
   "outputs": [
    {
     "name": "stdout",
     "output_type": "stream",
     "text": [
      "cos tam\n",
      "abc\n",
      "135\n",
      "a-cos tam\n",
      "b-abc\n",
      "c-135\n",
      "cos tam\n",
      "abc\n",
      "135\n",
      "0cos tam\n",
      "1abc\n",
      "2135\n"
     ]
    }
   ],
   "source": [
    "# Wpisz swój kod poniżej\n",
    "i = 0\n",
    "while i < len(d):\n",
    "    print(d[i])\n",
    "    i += 1\n",
    "\n",
    "for key in e.keys():\n",
    "    print(str(key) + \"-\" + str(e[key]))\n",
    "\n",
    "for element in d:\n",
    "    print(element)\n",
    "\n",
    "for index, element in enumerate(d):\n",
    "    print(str(index) + str(element))"
   ]
  },
  {
   "cell_type": "markdown",
   "metadata": {
    "id": "fPWflsTDsilC"
   },
   "source": [
    "# 4. Utwórz funkcję `powitanie`, która przyjmie jako argument `name`, a jako wynik zwróci \"Welcome [tutaj imię]! How are you today?\". Przetestuj działanie uruchamiając kolejną komórkę kodu"
   ]
  },
  {
   "cell_type": "code",
   "execution_count": 35,
   "metadata": {
    "id": "zAUT3IQouzuh"
   },
   "outputs": [],
   "source": [
    "# Wpisz swój kod poniżej\n",
    "def powitanie(name):\n",
    "    return(\"Welcome \" + str(name) + \"! How are you today?\")"
   ]
  },
  {
   "cell_type": "code",
   "execution_count": 33,
   "metadata": {
    "id": "h9Fxfl2hvGM9"
   },
   "outputs": [
    {
     "name": "stdout",
     "output_type": "stream",
     "text": [
      "Welcome James! How are you today?\n"
     ]
    }
   ],
   "source": [
    "# Jeżeli chcesz to możesz zmienić wartość zmiennej \"imie\" na swoje imię, a następnie uruchom tę komórkę\n",
    "imie = \"James\"\n",
    "welcome_message = powitanie(imie)\n",
    "print(welcome_message)"
   ]
  },
  {
   "cell_type": "code",
   "execution_count": 36,
   "metadata": {},
   "outputs": [
    {
     "name": "stdout",
     "output_type": "stream",
     "text": [
      "Welcome Ja! How are you today?\n"
     ]
    }
   ],
   "source": [
    "print(powitanie(\"Ja\"))"
   ]
  },
  {
   "cell_type": "markdown",
   "metadata": {
    "id": "HMbFtSnrvW6Q"
   },
   "source": [
    "# 5. Przejdźmy do czegoś ciekawszego. Wykorzystaj gotową klasę `Kula`, aby utworzyć funkcję `czy_kolizja`, która będzie służyła do wyliczenia czy dwie kule kolidują ze sobą - funkcja powinna zwracać wartość binarną `True` albo `False`. **Koniecznie uruchom komórkę kodu z definicją klasy `Kula` i utworzeniem obiektów tej klasy**."
   ]
  },
  {
   "cell_type": "code",
   "execution_count": 41,
   "metadata": {
    "id": "a6k9tRjzw_z8"
   },
   "outputs": [],
   "source": [
    "# Uruchom ten fragment kodu\n",
    "class Kula:\n",
    "    def __init__(self, r, pos):\n",
    "        self.r = r               # promień kuli\n",
    "        self.pos = pos           # pozycja środka kuli (x, y, z)\n",
    "\n",
    "kula1 = Kula(1, (1, 1, 1))\n",
    "kula2 = Kula(2, (2, 1, 1))\n",
    "kula3 = Kula(1, (4, 0, 0))"
   ]
  },
  {
   "cell_type": "markdown",
   "metadata": {
    "id": "Vr5DJgYxwom0"
   },
   "source": [
    "**Podpowiedź:** 2 kule kolidują ze sobą jeżeli odległość między ich środkami jest niewiększa niż suma ich promieni."
   ]
  },
  {
   "cell_type": "code",
   "execution_count": 39,
   "metadata": {
    "id": "onnH2_NYwkgk"
   },
   "outputs": [],
   "source": [
    "# Wpisz swój kod poniżej\n",
    "def czy_kolizja(k1, k2):\n",
    "    odleglosc = ((k1.pos[0] - k2.pos[0])**2 + (k1.pos[1] - k2.pos[1])**2 + (k1.pos[2] - k2.pos[2])**2)**0.5\n",
    "    if odleglosc < k1.r + k2.r:\n",
    "        return True\n",
    "    else:\n",
    "        return False"
   ]
  },
  {
   "cell_type": "code",
   "execution_count": 42,
   "metadata": {
    "id": "seIi7zXcwcW8"
   },
   "outputs": [
    {
     "name": "stdout",
     "output_type": "stream",
     "text": [
      "True\n",
      "False\n",
      "True\n"
     ]
    }
   ],
   "source": [
    "# Przetestuj działanie swojej funkcji - wynikiem powinno być kolejno: True False True\n",
    "print(czy_kolizja(kula1, kula2))\n",
    "print(czy_kolizja(kula1, kula3))\n",
    "print(czy_kolizja(kula2, kula3))"
   ]
  },
  {
   "cell_type": "markdown",
   "metadata": {
    "id": "PjkTQI9e33O0"
   },
   "source": [
    "# 6. Przygotuj klasę `Tor`, która będzie miała atrybuty `kraj`, `dlugosc` i `rekord`. Daj możliwość ustawienia tych wartości przy inicjalizacji obiektu. Dodaj 2 funkcje: `srednia_predkosc` (oblicza średnią prędkość na rekordowym okrążeniu i przelicza ją z $\\frac{m}{s}$ na $\\frac{km}{h}$ i ją zwraca) oraz `wypisz_dane`, która przy pomocy `print()` wypisze wszystkie atrybuty klasy w jednej linijce tekstu."
   ]
  },
  {
   "cell_type": "code",
   "execution_count": 43,
   "metadata": {
    "id": "9Xf_tMvm62B5"
   },
   "outputs": [],
   "source": [
    "# Wpisz swój kod poniżej\n",
    "class Tor:\n",
    "    def __init__(self, kraj, dlugosc, rekord):\n",
    "        self.kraj = kraj\n",
    "        self.dlugosc = dlugosc\n",
    "        self.rekord = rekord\n",
    "\n",
    "    def srednia_predkosc(self):\n",
    "        predkosc = self.dlugosc/self.rekord\n",
    "        predkosc_kmh = predkosc * 3.6\n",
    "        return predkosc_kmh\n",
    "    \n",
    "    def wypisz_dane(self):\n",
    "        print(str(self.kraj) + \", \"+str(self.dlugosc) + \", \" + str(self.rekord))"
   ]
  },
  {
   "cell_type": "code",
   "execution_count": 44,
   "metadata": {
    "id": "jSmI_75R7UA9"
   },
   "outputs": [
    {
     "name": "stdout",
     "output_type": "stream",
     "text": [
      "36.0\n",
      "Pewien kraj, 100, 10\n"
     ]
    }
   ],
   "source": [
    "# Przetestuj działanie swojej klasy - wynikiem powinno być kolejno: 10.0, wypisane dane\n",
    "testowy_tor = Tor(\"Pewien kraj\", 100, 10)\n",
    "print(testowy_tor.srednia_predkosc())\n",
    "testowy_tor.wypisz_dane()"
   ]
  },
  {
   "cell_type": "markdown",
   "metadata": {
    "id": "1X692gt15Mbt"
   },
   "source": [
    "# 7. Wykorzystaj utworzone poniżej obiekty (tory), które zgromadzone zostały słownik \"tory\" i na ich podstawie utwórz listę `srednie_predkosci` (wykorzystać możesz `append()`), w której znajdować się będą średnie prędkości z wszystkich torów. Następnie posortuj tę listę malejąco i wypisz w konsoli pierwsze 3 wartości."
   ]
  },
  {
   "cell_type": "markdown",
   "metadata": {
    "id": "CMatDTZnFHUP"
   },
   "source": [
    "Umieszone poniżej dane pochodzą z Wikipedii."
   ]
  },
  {
   "cell_type": "code",
   "execution_count": 45,
   "metadata": {
    "id": "r3LVpAYADWPJ"
   },
   "outputs": [],
   "source": [
    "# Uruchom ten fragment kodu\n",
    "Monza = Tor(\"Włochy\", 5793, 81.046)\n",
    "Monaco = Tor(\"Monaco\", 3337, 72.909)\n",
    "Silverstone = Tor(\"Wielka Brytania\", 5891, 87.097)\n",
    "Spa = Tor(\"Belgia\", 7004, 104.701)\n",
    "COTA = Tor(\"USA\", 5513, 96.169)\n",
    "YasMarina = Tor(\"Zjednoczone Emiraty Arabskie\", 5281, 86.103)\n",
    "\n",
    "tory = {\n",
    "    \"Monza\": Monza,\n",
    "    \"Monaco\": Monaco,\n",
    "    \"Silverstone\": Silverstone,\n",
    "    \"Spa\": Spa,\n",
    "    \"COTA\": COTA,\n",
    "    \"YasMarina\": YasMarina\n",
    "}"
   ]
  },
  {
   "cell_type": "code",
   "execution_count": 48,
   "metadata": {
    "id": "GDIDlAvgDbnN"
   },
   "outputs": [
    {
     "name": "stdout",
     "output_type": "stream",
     "text": [
      "[257.32053401771833, 243.49403538583422, 240.8229147763632]\n"
     ]
    }
   ],
   "source": [
    "# Wpisz swój kod poniżej - wynik powinien być następujący: [257.32053401771833, 243.49403538583422, 240.8229147763632]\n",
    "\n",
    "srednie_predkosci = []\n",
    "\n",
    "for tor in tory.keys():\n",
    "    srednie_predkosci.append(tory[tor].srednia_predkosc())\n",
    "\n",
    "srednie_predkosci.sort(reverse=True)\n",
    "print(srednie_predkosci[:3])"
   ]
  },
  {
   "cell_type": "markdown",
   "metadata": {
    "id": "SdX7DnQ5IZCx"
   },
   "source": [
    "# 8. Wykorzystaj słownik `tory` z poprzedniego zadania i utwórz nowy słownik `dlugosci`, w którym mają być te same klucze co w `tory`, a wartościami mają być długości poszczególnych torów."
   ]
  },
  {
   "cell_type": "code",
   "execution_count": 50,
   "metadata": {
    "id": "xIL1sUBKJ4GK"
   },
   "outputs": [
    {
     "name": "stdout",
     "output_type": "stream",
     "text": [
      "{'Monza': 5793, 'Monaco': 3337, 'Silverstone': 5891, 'Spa': 7004, 'COTA': 5513, 'YasMarina': 5281}\n"
     ]
    }
   ],
   "source": [
    "# Wpisz swój kod poniżej\n",
    "\n",
    "dlugosci = {}\n",
    "\n",
    "for tor in tory.keys():\n",
    "    dlugosci[tor] = tory[tor].dlugosc\n",
    "\n",
    "print(dlugosci)"
   ]
  },
  {
   "cell_type": "markdown",
   "metadata": {
    "id": "zr8WpS81J6Mq"
   },
   "source": [
    "Teraz posortujemy ten słownik po długościach torów, a Twoim zadaniem jest następnie przeiterowanie po posortowanym słowniku i z każdej pary `klucz` `wartość` utworzyć jeden string w postaci `nazwa_toru, długość_toru` i zapisać to pliku txt.\n",
    "\n",
    "Przykład zapisywania do pliku i odczytywania z pliku:\n",
    "```Python\n",
    "# Lista danych do zapisania w pliku\n",
    "lines = [\n",
    "    \"Pierwsza linijka tekstu.\",\n",
    "    \"Druga linijka tekstu.\",\n",
    "    \"Trzecia linijka tekstu.\"\n",
    "]\n",
    "\n",
    "# Otwieramy plik do zapisu ('w' - write, ale można też użyć 'a' - append, żeby nie nadpisać wcześniejszych danych)\n",
    "with open(\"plik.txt\", \"w\") as file:\n",
    "    # Zapisujemy każdą linijkę z listy do pliku\n",
    "    for line in lines:\n",
    "        file.write(line + \"\\n\")  # Dodajemy znak nowej linii na końcu każdej linijki\n",
    "\n",
    "# Otwieramy plik do oczytu ('r' - read)\n",
    "with open(\"plik.txt\", \"r\" as file:\n",
    "    for line in file:\n",
    "        print(line.strip())  # strip() usuwa znak nowej linii na końcu każdej linijki\n",
    "\n",
    "# Wczytanie wszystkich danych na raz\n",
    "with open(\"plik.txt\", \"r\") as file:\n",
    "    # Wczytanie do zmiennej jako string\n",
    "    content = file.read()\n",
    "    print(content)\n",
    "    # Wczytanie do listy, gdzie każda linia jest oddzielną wartością\n",
    "    lines = file.readlines()\n",
    "```"
   ]
  },
  {
   "cell_type": "code",
   "execution_count": 51,
   "metadata": {
    "id": "M4v3AXdUNRc3"
   },
   "outputs": [
    {
     "name": "stdout",
     "output_type": "stream",
     "text": [
      "{'Monaco': 3337, 'YasMarina': 5281, 'COTA': 5513, 'Monza': 5793, 'Silverstone': 5891, 'Spa': 7004}\n"
     ]
    }
   ],
   "source": [
    "# Uruchom ten fragment kodu\n",
    "dlugosci_posortowane = dict(sorted(dlugosci.items(), key=lambda item: item[1]))\n",
    "print(dlugosci_posortowane)"
   ]
  },
  {
   "cell_type": "code",
   "execution_count": 53,
   "metadata": {
    "id": "H73dBR2jL6a1"
   },
   "outputs": [],
   "source": [
    "# Wpisz swój kod poniżej\n",
    "\n",
    "with open(\"plik.txt\", \"w\") as plik:\n",
    "    for nazwa, dlugosc in dlugosci_posortowane.items():\n",
    "        linia = str(nazwa) + \", \" + str(dlugosc) + \"\\n\"\n",
    "        plik.write(linia)"
   ]
  },
  {
   "cell_type": "markdown",
   "metadata": {
    "id": "vOx-ht8EN4Oh"
   },
   "source": [
    "# 9. Teraz zaimportuj bibliotekę `json` (jest ona wbudowana w Pythona, więc nie trzeba jej instalować, a jedynie zaimportować). Następnie korzystając z [dokumentacji](https://docs.python.org/3/library/json.html#json.dump) wykorzystaj `json.dump()`, aby zapisać słownik `dlugosci_posortowane` do pliku (możesz też sprawdzić te [przykłady](https://www.geeksforgeeks.org/json-dump-in-python/))."
   ]
  },
  {
   "cell_type": "code",
   "execution_count": 54,
   "metadata": {
    "id": "GxEwVhEQQaWs"
   },
   "outputs": [],
   "source": [
    "# Wpisz swój kod poniżej\n",
    "import json\n",
    "\n",
    "with open(\"plik_json.json\", \"w\") as plik:\n",
    "    json.dump(dlugosci_posortowane, plik)\n"
   ]
  },
  {
   "cell_type": "markdown",
   "metadata": {
    "id": "lYwSk4FMQ0ZG"
   },
   "source": [
    "# 10. Wykorzystaj bibliotekę `datetime`, aby obliczyć ile czasu zostało do wakacji. Wynik podaj w godzinach. Wykorzystaj składową `datetime` biblioteki `datetime` (już została zaimportowana), która ma następujące atrybuty `year, month, day, hour, minute, second, microsecond, and tzinfo`, a dostęp do obecnej chwili czasu jest możliwy przy pomocy `datetime.now()`. Dokumentacja biblioteki `datetime` wraz z przykładami znajduje się [tutaj](https://docs.python.org/3/library/datetime.html#examples-of-usage-datetime)."
   ]
  },
  {
   "cell_type": "code",
   "execution_count": 56,
   "metadata": {
    "id": "hP4g7AUJRtMR"
   },
   "outputs": [
    {
     "name": "stdout",
     "output_type": "stream",
     "text": [
      "229 days, 1:51:20.553943\n",
      "5497.855709428612\n"
     ]
    }
   ],
   "source": [
    "# Wpisz swój kod poniżej\n",
    "from datetime import datetime\n",
    "\n",
    "pierwszy_dzien_wakacji = datetime(year = 2025, month = 7, day = 1, hour = 0, minute = 0, second = 0)\n",
    "\n",
    "now = datetime.now()\n",
    "\n",
    "za_ile_czasu_wakacje = pierwszy_dzien_wakacji - now\n",
    "\n",
    "za_ile_godzin_wakacje = za_ile_czasu_wakacje.total_seconds() / (60 * 60)\n",
    "\n",
    "print(za_ile_czasu_wakacje)\n",
    "print(za_ile_godzin_wakacje)"
   ]
  }
 ],
 "metadata": {
  "colab": {
   "provenance": []
  },
  "kernelspec": {
   "display_name": ".venv",
   "language": "python",
   "name": "python3"
  },
  "language_info": {
   "codemirror_mode": {
    "name": "ipython",
    "version": 3
   },
   "file_extension": ".py",
   "mimetype": "text/x-python",
   "name": "python",
   "nbconvert_exporter": "python",
   "pygments_lexer": "ipython3",
   "version": "3.11.10"
  }
 },
 "nbformat": 4,
 "nbformat_minor": 0
}
