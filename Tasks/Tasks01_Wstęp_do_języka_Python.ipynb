{
  "nbformat": 4,
  "nbformat_minor": 0,
  "metadata": {
    "colab": {
      "provenance": []
    },
    "kernelspec": {
      "name": "python3",
      "display_name": "Python 3"
    },
    "language_info": {
      "name": "python"
    }
  },
  "cells": [
    {
      "cell_type": "markdown",
      "source": [
        "# Zadania do tematu \"Wstęp do języka Python\""
      ],
      "metadata": {
        "id": "qwY8yhIHecec"
      }
    },
    {
      "cell_type": "markdown",
      "source": [
        "W tym Notebooku znajdują się zadania do tematu \"Wstęp do języka Python\", które mają na celu pokazać podstawy programowania w Pythonie. Zadania można wykonywać w komórkach z kodem w Notebooku, lub jeżeli ktoś woli to w formie skryptów, np. w PyCharmie.\n",
        "\n",
        "Jeżeli w danym zadaniu będzie należało wczytać dane, to w treści zadania umieszczony będzie link skąd te dane można pobrać. W przypadku korzystania z Notebooków online (Google Colab lub Kaggle) należy pamiętać, żeby te dane wgrać na stronę - może być konieczność robienia tego przy każdym łączeniu się ze środowiskiem."
      ],
      "metadata": {
        "id": "rjyh9METepfq"
      }
    },
    {
      "cell_type": "markdown",
      "source": [
        "**Jeżeli w jakimś momencie pojawią się pytania to śmiało pytaj.**"
      ],
      "metadata": {
        "id": "0niJ2xqMp1QZ"
      }
    },
    {
      "cell_type": "markdown",
      "source": [
        "# 0. Przetestowanie jak działa Jupyter Notebook\n",
        "\n",
        "Jupyter Notebook to interaktywne środowisko programistyczne umożliwiające tworzenie i uruchamianie kodu w różnych językach programowania, z naciskiem na Python. Umożliwia łączenie kodu, tekstu (w formacie Markdown), wizualizacji oraz innych multimediów w jednym dokumencie, co jest szczególnie przydatne w analizie danych, uczeniu maszynowym i badaniach naukowych. Zaletą jest to, że umożliwia uruchamianie fragmentów kodu, a wartości zmiennych są \"zapamiętywane\" i można się do nich odnieść, bez konieczności wykonywania całego kodu.\n",
        "\n",
        "Zacznijmy od uruchomienia kilku fragmentów kodu (**zwróć uwagę na komentarze - czasami wystarczy po prostu uruchomić fragment kodu a czasem należy coś uzupełnić**). Kod można wpisywać w widocznych komórkach, a po jego wykonaniu poniżej pojawi się wynik w formie tekstowej (w przypadku wykorzystania np. `print()`) lub obrazka (to przy korzystaniu np. z bibliotek do tworzenia wykresów)."
      ],
      "metadata": {
        "id": "01yVpiXAgNDV"
      }
    },
    {
      "cell_type": "code",
      "source": [
        "# Uruchom kod\n",
        "print(\"Hello World!\")"
      ],
      "metadata": {
        "id": "SMF1EtNMgIwa"
      },
      "execution_count": null,
      "outputs": []
    },
    {
      "cell_type": "markdown",
      "source": [
        "Teraz przypiszemy wartość do zmiennej i ją wyświetlimy."
      ],
      "metadata": {
        "id": "TMbRDHDqiPPP"
      }
    },
    {
      "cell_type": "code",
      "source": [
        "# Uruchom kod\n",
        "x = 123\n",
        "print(x)"
      ],
      "metadata": {
        "id": "eWwScqiBiJ-r"
      },
      "execution_count": null,
      "outputs": []
    },
    {
      "cell_type": "markdown",
      "source": [
        "Tak jak było wspomniane wcześniej, wartości zmiennych pozostają \"zapamiętane\" między kolejnymi fragmentami kodu."
      ],
      "metadata": {
        "id": "ghR6PTGLig4T"
      }
    },
    {
      "cell_type": "code",
      "source": [
        "# Uruchom kod\n",
        "y = x - 100\n",
        "print(y)"
      ],
      "metadata": {
        "id": "ARbJT0_BigiT"
      },
      "execution_count": null,
      "outputs": []
    },
    {
      "cell_type": "markdown",
      "source": [
        "Teraz pierwsze zadanie dla Ciebie, wybierz dowolną operację matematyczną i przedstaw `z` jako wynik tej operacji na zmiennych `x` i `y`. Jeżeli potrzebujesz się upewnić jakie są możliwe operacje matematyczne, to sprawdź tabelkę na stronie kursu."
      ],
      "metadata": {
        "id": "5T07WscojFe3"
      }
    },
    {
      "cell_type": "code",
      "execution_count": null,
      "metadata": {
        "id": "Q2zVlXHTd-pO"
      },
      "outputs": [],
      "source": [
        "# Uzupełnij kod przed uruchomieniem\n",
        "z = #####\n",
        "print(z)"
      ]
    },
    {
      "cell_type": "markdown",
      "source": [
        "Zapisywanie wartości pomiędzy komórkami kodu niesie za sobą pewne niebezpieczeństwa, które nie występują kiedy piszemy skrypt. Należy kontrolować czy komórki, które rekurencyjnie zmieniają wartość zmiennej, nie są wywoływane więcej razy niż jest to konieczne. Poniżej znajduje się taki przykład, który możesz uruchomić kilkukrotnie i w ten sposób \"zepsuć\" `x`."
      ],
      "metadata": {
        "id": "AKrroozvk_6Y"
      }
    },
    {
      "cell_type": "code",
      "source": [
        "# Uruchom kod\n",
        "x = x - 1\n",
        "print(x)"
      ],
      "metadata": {
        "id": "dnwnpvwJi4zK"
      },
      "execution_count": null,
      "outputs": []
    },
    {
      "cell_type": "markdown",
      "source": [
        "Jest to szczególnie problematyczne w przypadku uczenia maszynowego, jeżeli podzielimy dane na zbiór testowy i treningowy, a następnie zbiór treningowy podzielimy na zbiór walidacyjny i ... znowu zbiór treningowy. Jeżeli ktoś wykorzysta tę samą nazwę (zwykle `X_train`) przy podziale na zbiór testowy i treningowy, a następnie na zbiór walidacyjny i **właściwy** zbiór treningowy, to przy kilkukrotnym wywołaniu mocno zmniejszy liczebność tego zbioru.\n",
        "\n",
        "Późniejsza zmiana wartości danej zmiennej, nie powoduje jednak zmiany obliczonych wartości zmiennych `y` i `z`, kiedy to `x=123`. Aby zmienić wartości tamtych zmiennych konieczne byłoby uruchomienie ponownie tamtych komórek kodu (jak chcesz możesz to zrobić)."
      ],
      "metadata": {
        "id": "rLfmgCqdmiZk"
      }
    },
    {
      "cell_type": "code",
      "source": [
        "# Uruchom kod\n",
        "print(y)\n",
        "print(z)"
      ],
      "metadata": {
        "id": "aXUGilrjnCVR"
      },
      "execution_count": null,
      "outputs": []
    },
    {
      "cell_type": "markdown",
      "source": [
        "Myślę, że to krótkie wprowadzenie pokazało jak można korzystać z Jupyter Notebooks i możemy przejść do zadań."
      ],
      "metadata": {
        "id": "kT1SG1UwpkEv"
      }
    },
    {
      "cell_type": "markdown",
      "source": [
        "# 1. Utwórz 3 zmienne: `a`, `b` i `c`. Przypisz im kolejno wartości: 3.33, \"abc\" i 135. Wykorzystaj `type()` to sprawdzenia typu każdej zmiennej."
      ],
      "metadata": {
        "id": "dI5Lv5i9qOOe"
      }
    },
    {
      "cell_type": "code",
      "source": [
        "# Wpisz swój kod poniżej\n"
      ],
      "metadata": {
        "id": "lt9cz3U9qMUX"
      },
      "execution_count": null,
      "outputs": []
    },
    {
      "cell_type": "markdown",
      "source": [
        "# 2. Wykorzystaj zmienne z poprzedniego zadania i wstaw je w listę `d` oraz utwórz słownik `e`, w którym jako klucz będzie litera alfabetu odpowiadająca danej zmiennej (czyli dla zmiennej `a` będzie to `\"a\"`), a wartościami typy tej zmiennej."
      ],
      "metadata": {
        "id": "NOj6vuu2rXbh"
      }
    },
    {
      "cell_type": "code",
      "source": [
        "# Wpisz swój kod poniżej\n"
      ],
      "metadata": {
        "id": "SLRV2g-zsjqm"
      },
      "execution_count": null,
      "outputs": []
    },
    {
      "cell_type": "markdown",
      "source": [
        "Następnie wykorzystaj `print()` i odwołaj się do drugiej wartości utworzonej listy (czyli tej o indeksie `1`, bo indeksowanie zaczyna się od 0) oraz do klucza `\"b\"` ze słownika."
      ],
      "metadata": {
        "id": "u05iX1rmtoVh"
      }
    },
    {
      "cell_type": "code",
      "source": [
        "# Wpisz swój kod poniżej\n"
      ],
      "metadata": {
        "id": "CjxemEA_tnsq"
      },
      "execution_count": null,
      "outputs": []
    },
    {
      "cell_type": "markdown",
      "source": [
        "# 3. Utwórz pętlę `while`, która w swoim wyniku spowoduje przeiterowanie i wypisanie w konsoli każdej wartości z listy `d` (wykorzystaj metodę `len()`). Następnie napisz pętlę `for`, która odwoła się do kluczy słownika `e` i wypisze w konsoli: [klucz] - [przechowywana wartość]. Wykorzystaj `keys()`."
      ],
      "metadata": {
        "id": "98VaGEj3GyKp"
      }
    },
    {
      "cell_type": "code",
      "source": [
        "# Wpisz swój kod poniżej\n"
      ],
      "metadata": {
        "id": "cdofuTNmH7fU"
      },
      "execution_count": null,
      "outputs": []
    },
    {
      "cell_type": "markdown",
      "source": [
        "# 4. Utwórz funkcję `powitanie`, która przyjmie jako argument `name`, a jako wynik zwróci \"Welcome [tutaj imię]! How are you today?\". Przetestuj działanie uruchamiając kolejną komórkę kodu"
      ],
      "metadata": {
        "id": "fPWflsTDsilC"
      }
    },
    {
      "cell_type": "code",
      "source": [
        "# Wpisz swój kod poniżej\n"
      ],
      "metadata": {
        "id": "zAUT3IQouzuh"
      },
      "execution_count": null,
      "outputs": []
    },
    {
      "cell_type": "code",
      "source": [
        "# Jeżeli chcesz to możesz zmienić wartość zmiennej \"imie\" na swoje imię, a następnie uruchom tę komórkę\n",
        "imie = \"James\"\n",
        "welcome_message = powitanie(imie)\n",
        "print(welcome_message)"
      ],
      "metadata": {
        "id": "h9Fxfl2hvGM9"
      },
      "execution_count": null,
      "outputs": []
    },
    {
      "cell_type": "markdown",
      "source": [
        "# 5. Przejdźmy do czegoś ciekawszego. Wykorzystaj gotową klasę `Kula`, aby utworzyć funkcję `czy_kolizja`, która będzie służyła do wyliczenia czy dwie kule kolidują ze sobą - funkcja powinna zwracać wartość binarną `True` albo `False`. **Koniecznie uruchom komórkę kodu z definicją klasy `Kula` i utworzeniem obiektów tej klasy**."
      ],
      "metadata": {
        "id": "HMbFtSnrvW6Q"
      }
    },
    {
      "cell_type": "code",
      "source": [
        "# Uruchom ten fragment kodu\n",
        "class Kula:\n",
        "    def __init__(self, r, pos):\n",
        "        self.r = r               # promień kuli\n",
        "        self.pos = pos           # pozycja środka kuli (x, y, z)\n",
        "\n",
        "kula1 = Kula(1, (1, 1, 1))\n",
        "kula2 = Kula(2, (2, 1, 1))\n",
        "kula3 = Kula(3, (4, 0, 0))"
      ],
      "metadata": {
        "id": "a6k9tRjzw_z8"
      },
      "execution_count": null,
      "outputs": []
    },
    {
      "cell_type": "markdown",
      "source": [
        "**Podpowiedź:** 2 kule kolidują ze sobą jeżeli odległość między ich środkami jest niewiększa niż suma ich promieni."
      ],
      "metadata": {
        "id": "Vr5DJgYxwom0"
      }
    },
    {
      "cell_type": "code",
      "source": [
        "# Wpisz swój kod poniżej\n"
      ],
      "metadata": {
        "id": "onnH2_NYwkgk"
      },
      "execution_count": null,
      "outputs": []
    },
    {
      "cell_type": "code",
      "source": [
        "# Przetestuj działanie swojej funkcji - wynikiem powinno być kolejno: True False True\n",
        "print(czy_kolizja(kula1, kula2))\n",
        "print(czy_kolizja(kula1, kula3))\n",
        "print(czy_kolizja(kula2, kula3))"
      ],
      "metadata": {
        "id": "seIi7zXcwcW8"
      },
      "execution_count": null,
      "outputs": []
    },
    {
      "cell_type": "markdown",
      "source": [
        "# 6. Przygotuj klasę `Tor`, która będzie miała atrybuty `kraj`, `dlugosc` i `rekord`. Daj możliwość ustawienia tych wartości przy inicjalizacji obiektu. Dodaj 2 funkcje: `srednia_predkosc` (oblicza średnią prędkość na rekordowym okrążeniu i przelicza ją z $\\frac{m}{s}$ na $\\frac{km}{h}$ i ją zwraca) oraz `wypisz_dane`, która przy pomocy `print()` wypisze wszystkie atrybuty klasy w jednej linijce tekstu."
      ],
      "metadata": {
        "id": "PjkTQI9e33O0"
      }
    },
    {
      "cell_type": "code",
      "source": [
        "# Wpisz swój kod poniżej\n"
      ],
      "metadata": {
        "id": "9Xf_tMvm62B5"
      },
      "execution_count": null,
      "outputs": []
    },
    {
      "cell_type": "code",
      "source": [
        "# Przetestuj działanie swojej klasy - wynikiem powinno być kolejno: 10.0, wypisane dane\n",
        "testowy_tor = Tor(\"Pewien kraj\", 100, 10)\n",
        "print(testowy_tor.srednia_predkosc())\n",
        "testowy_tor.wypisz_dane()"
      ],
      "metadata": {
        "id": "jSmI_75R7UA9"
      },
      "execution_count": null,
      "outputs": []
    },
    {
      "cell_type": "markdown",
      "source": [
        "# 7. Wykorzystaj utworzone poniżej obiekty (tory), które zgromadzone zostały słownik \"tory\" i na ich podstawie utwórz listę `srednie_predkosci` (wykorzystać możesz `append()`), w której znajdować się będą średnie prędkości z wszystkich torów. Następnie posortuj tę listę malejąco i wypisz w konsoli pierwsze 3 wartości."
      ],
      "metadata": {
        "id": "1X692gt15Mbt"
      }
    },
    {
      "cell_type": "markdown",
      "source": [
        "Umieszone poniżej dane pochodzą z Wikipedii."
      ],
      "metadata": {
        "id": "CMatDTZnFHUP"
      }
    },
    {
      "cell_type": "code",
      "source": [
        "# Uruchom ten fragment kodu\n",
        "Monza = Tor(\"Włochy\", 5793, 81.046)\n",
        "Monaco = Tor(\"Monaco\", 3337, 72.909)\n",
        "Silverstone = Tor(\"Wielka Brytania\", 5891, 87.097)\n",
        "Spa = Tor(\"Belgia\", 7004, 104.701)\n",
        "COTA = Tor(\"USA\", 5513, 96.169)\n",
        "YasMarina = Tor(\"Zjednoczone Emiraty Arabskie\", 5281, 86.103)\n",
        "\n",
        "tory = {\n",
        "    \"Monza\": Monza,\n",
        "    \"Monaco\": Monaco,\n",
        "    \"Silverstone\": Silverstone,\n",
        "    \"Spa\": Spa,\n",
        "    \"COTA\": COTA,\n",
        "    \"YasMarina\": YasMarina\n",
        "}"
      ],
      "metadata": {
        "id": "r3LVpAYADWPJ"
      },
      "execution_count": null,
      "outputs": []
    },
    {
      "cell_type": "code",
      "source": [
        "# Wpisz swój kod poniżej - wynik powinien być następujący: [257.32053401771833, 243.49403538583422, 240.8229147763632]\n"
      ],
      "metadata": {
        "id": "GDIDlAvgDbnN"
      },
      "execution_count": null,
      "outputs": []
    },
    {
      "cell_type": "markdown",
      "source": [
        "# 8. Wykorzystaj słownik `tory` z poprzedniego zadania i utwórz nowy słownik `dlugosci`, w którym mają być te same klucze co w `tory`, a wartościami mają być długości poszczególnych torów."
      ],
      "metadata": {
        "id": "SdX7DnQ5IZCx"
      }
    },
    {
      "cell_type": "code",
      "source": [
        "# Wpisz swój kod poniżej\n"
      ],
      "metadata": {
        "id": "xIL1sUBKJ4GK"
      },
      "execution_count": null,
      "outputs": []
    },
    {
      "cell_type": "markdown",
      "source": [
        "Teraz posortujemy ten słownik po długościach torów, a Twoim zadaniem jest następnie przeiterowanie po posortowanym słowniku i z każdej pary `klucz` `wartość` utworzyć jeden string w postaci `nazwa_toru, długość_toru` i zapisać to pliku txt.\n",
        "\n",
        "Przykład zapisywania do pliku i odczytywania z pliku:\n",
        "```Python\n",
        "# Lista danych do zapisania w pliku\n",
        "lines = [\n",
        "    \"Pierwsza linijka tekstu.\",\n",
        "    \"Druga linijka tekstu.\",\n",
        "    \"Trzecia linijka tekstu.\"\n",
        "]\n",
        "\n",
        "# Otwieramy plik do zapisu ('w' - write, ale można też użyć 'a' - append, żeby nie nadpisać wcześniejszych danych)\n",
        "with open(\"plik.txt\", \"w\") as file:\n",
        "    # Zapisujemy każdą linijkę z listy do pliku\n",
        "    for line in lines:\n",
        "        file.write(line + \"\\n\")  # Dodajemy znak nowej linii na końcu każdej linijki\n",
        "\n",
        "# Otwieramy plik do oczytu ('r' - read)\n",
        "with open(\"plik.txt\", \"r\" as file:\n",
        "    for line in file:\n",
        "        print(line.strip())  # strip() usuwa znak nowej linii na końcu każdej linijki\n",
        "\n",
        "# Wczytanie wszystkich danych na raz\n",
        "with open(\"plik.txt\", \"r\") as file:\n",
        "    # Wczytanie do zmiennej jako string\n",
        "    content = file.read()\n",
        "    print(content)\n",
        "    # Wczytanie do listy, gdzie każda linia jest oddzielną wartością\n",
        "    lines = file.readlines()\n",
        "```"
      ],
      "metadata": {
        "id": "zr8WpS81J6Mq"
      }
    },
    {
      "cell_type": "code",
      "source": [
        "# Uruchom ten fragment kodu\n",
        "dlugosci_posortowane = dict(sorted(dlugosci.items(), key=lambda item: item[1]))\n",
        "print(dlugosci_posortowane)"
      ],
      "metadata": {
        "id": "M4v3AXdUNRc3"
      },
      "execution_count": null,
      "outputs": []
    },
    {
      "cell_type": "code",
      "source": [
        "# Wpisz swój kod poniżej\n"
      ],
      "metadata": {
        "id": "H73dBR2jL6a1"
      },
      "execution_count": null,
      "outputs": []
    },
    {
      "cell_type": "markdown",
      "source": [
        "# 9. Teraz zaimportuj bibliotekę `json` (jest ona wbudowana w Pythona, więc nie trzeba jej instalować, a jedynie zaimportować). Następnie korzystając z [dokumentacji](https://docs.python.org/3/library/json.html#json.dump) wykorzystaj `json.dump()`, aby zapisać słownik `dlugosci_posortowane` do pliku (możesz też sprawdzić te [przykłady](https://www.geeksforgeeks.org/json-dump-in-python/))."
      ],
      "metadata": {
        "id": "vOx-ht8EN4Oh"
      }
    },
    {
      "cell_type": "code",
      "source": [
        "# Wpisz swój kod poniżej\n"
      ],
      "metadata": {
        "id": "GxEwVhEQQaWs"
      },
      "execution_count": null,
      "outputs": []
    },
    {
      "cell_type": "markdown",
      "source": [
        "# 10. Wykorzystaj bibliotekę `datetime`, aby obliczyć ile czasu zostało do wakacji. Wynik podaj w godzinach. Wykorzystaj składową `datetime` biblioteki `datetime` (już została zaimportowana), która ma następujące atrybuty `year, month, day, hour, minute, second, microsecond, and tzinfo`, a dostęp do obecnej chwili czasu jest możliwy przy pomocy `datetime.now()`. Dokumentacja biblioteki `datetime` wraz z przykładami znajduje się [tutaj](https://docs.python.org/3/library/datetime.html#examples-of-usage-datetime)."
      ],
      "metadata": {
        "id": "lYwSk4FMQ0ZG"
      }
    },
    {
      "cell_type": "code",
      "source": [
        "# Wpisz swój kod poniżej\n",
        "from datetime import datetime\n"
      ],
      "metadata": {
        "id": "hP4g7AUJRtMR"
      },
      "execution_count": null,
      "outputs": []
    }
  ]
}