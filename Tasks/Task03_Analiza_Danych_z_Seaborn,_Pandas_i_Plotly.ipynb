{
  "nbformat": 4,
  "nbformat_minor": 0,
  "metadata": {
    "colab": {
      "provenance": []
    },
    "kernelspec": {
      "name": "python3",
      "display_name": "Python 3"
    },
    "language_info": {
      "name": "python"
    }
  },
  "cells": [
    {
      "cell_type": "code",
      "execution_count": 1,
      "metadata": {
        "colab": {
          "base_uri": "https://localhost:8080/"
        },
        "id": "IphxTeeCSm4H",
        "outputId": "c2eb6bc9-1d57-4778-c009-045cc1832d88"
      },
      "outputs": [
        {
          "output_type": "stream",
          "name": "stdout",
          "text": [
            "Collecting openml\n",
            "  Downloading openml-0.15.0-py3-none-any.whl.metadata (9.9 kB)\n",
            "Collecting liac-arff>=2.4.0 (from openml)\n",
            "  Downloading liac-arff-2.5.0.tar.gz (13 kB)\n",
            "  Preparing metadata (setup.py) ... \u001b[?25l\u001b[?25hdone\n",
            "Collecting xmltodict (from openml)\n",
            "  Downloading xmltodict-0.14.2-py2.py3-none-any.whl.metadata (8.0 kB)\n",
            "Requirement already satisfied: requests in /usr/local/lib/python3.10/dist-packages (from openml) (2.32.3)\n",
            "Requirement already satisfied: scikit-learn>=0.18 in /usr/local/lib/python3.10/dist-packages (from openml) (1.5.2)\n",
            "Requirement already satisfied: python-dateutil in /usr/local/lib/python3.10/dist-packages (from openml) (2.8.2)\n",
            "Requirement already satisfied: pandas>=1.0.0 in /usr/local/lib/python3.10/dist-packages (from openml) (2.2.2)\n",
            "Requirement already satisfied: scipy>=0.13.3 in /usr/local/lib/python3.10/dist-packages (from openml) (1.13.1)\n",
            "Requirement already satisfied: numpy>=1.6.2 in /usr/local/lib/python3.10/dist-packages (from openml) (1.26.4)\n",
            "Collecting minio (from openml)\n",
            "  Downloading minio-7.2.10-py3-none-any.whl.metadata (6.5 kB)\n",
            "Requirement already satisfied: pyarrow in /usr/local/lib/python3.10/dist-packages (from openml) (17.0.0)\n",
            "Requirement already satisfied: tqdm in /usr/local/lib/python3.10/dist-packages (from openml) (4.66.6)\n",
            "Requirement already satisfied: packaging in /usr/local/lib/python3.10/dist-packages (from openml) (24.1)\n",
            "Requirement already satisfied: pytz>=2020.1 in /usr/local/lib/python3.10/dist-packages (from pandas>=1.0.0->openml) (2024.2)\n",
            "Requirement already satisfied: tzdata>=2022.7 in /usr/local/lib/python3.10/dist-packages (from pandas>=1.0.0->openml) (2024.2)\n",
            "Requirement already satisfied: six>=1.5 in /usr/local/lib/python3.10/dist-packages (from python-dateutil->openml) (1.16.0)\n",
            "Requirement already satisfied: joblib>=1.2.0 in /usr/local/lib/python3.10/dist-packages (from scikit-learn>=0.18->openml) (1.4.2)\n",
            "Requirement already satisfied: threadpoolctl>=3.1.0 in /usr/local/lib/python3.10/dist-packages (from scikit-learn>=0.18->openml) (3.5.0)\n",
            "Requirement already satisfied: certifi in /usr/local/lib/python3.10/dist-packages (from minio->openml) (2024.8.30)\n",
            "Requirement already satisfied: urllib3 in /usr/local/lib/python3.10/dist-packages (from minio->openml) (2.2.3)\n",
            "Requirement already satisfied: argon2-cffi in /usr/local/lib/python3.10/dist-packages (from minio->openml) (23.1.0)\n",
            "Collecting pycryptodome (from minio->openml)\n",
            "  Downloading pycryptodome-3.21.0-cp36-abi3-manylinux_2_17_x86_64.manylinux2014_x86_64.whl.metadata (3.4 kB)\n",
            "Requirement already satisfied: typing-extensions in /usr/local/lib/python3.10/dist-packages (from minio->openml) (4.12.2)\n",
            "Requirement already satisfied: charset-normalizer<4,>=2 in /usr/local/lib/python3.10/dist-packages (from requests->openml) (3.4.0)\n",
            "Requirement already satisfied: idna<4,>=2.5 in /usr/local/lib/python3.10/dist-packages (from requests->openml) (3.10)\n",
            "Requirement already satisfied: argon2-cffi-bindings in /usr/local/lib/python3.10/dist-packages (from argon2-cffi->minio->openml) (21.2.0)\n",
            "Requirement already satisfied: cffi>=1.0.1 in /usr/local/lib/python3.10/dist-packages (from argon2-cffi-bindings->argon2-cffi->minio->openml) (1.17.1)\n",
            "Requirement already satisfied: pycparser in /usr/local/lib/python3.10/dist-packages (from cffi>=1.0.1->argon2-cffi-bindings->argon2-cffi->minio->openml) (2.22)\n",
            "Downloading openml-0.15.0-py3-none-any.whl (157 kB)\n",
            "\u001b[2K   \u001b[90m━━━━━━━━━━━━━━━━━━━━━━━━━━━━━━━━━━━━━━━━\u001b[0m \u001b[32m158.0/158.0 kB\u001b[0m \u001b[31m9.0 MB/s\u001b[0m eta \u001b[36m0:00:00\u001b[0m\n",
            "\u001b[?25hDownloading minio-7.2.10-py3-none-any.whl (93 kB)\n",
            "\u001b[2K   \u001b[90m━━━━━━━━━━━━━━━━━━━━━━━━━━━━━━━━━━━━━━━━\u001b[0m \u001b[32m93.9/93.9 kB\u001b[0m \u001b[31m6.5 MB/s\u001b[0m eta \u001b[36m0:00:00\u001b[0m\n",
            "\u001b[?25hDownloading xmltodict-0.14.2-py2.py3-none-any.whl (10.0 kB)\n",
            "Downloading pycryptodome-3.21.0-cp36-abi3-manylinux_2_17_x86_64.manylinux2014_x86_64.whl (2.3 MB)\n",
            "\u001b[2K   \u001b[90m━━━━━━━━━━━━━━━━━━━━━━━━━━━━━━━━━━━━━━━━\u001b[0m \u001b[32m2.3/2.3 MB\u001b[0m \u001b[31m48.1 MB/s\u001b[0m eta \u001b[36m0:00:00\u001b[0m\n",
            "\u001b[?25hBuilding wheels for collected packages: liac-arff\n",
            "  Building wheel for liac-arff (setup.py) ... \u001b[?25l\u001b[?25hdone\n",
            "  Created wheel for liac-arff: filename=liac_arff-2.5.0-py3-none-any.whl size=11716 sha256=59a4aaf2e1b32ef98ac114304a55e24d3c4e659b3f0c6ca27b96eda0152f39e7\n",
            "  Stored in directory: /root/.cache/pip/wheels/5d/2a/9c/3895d9617f8f49a0883ba686326d598e78a1c2f54fe3cae86d\n",
            "Successfully built liac-arff\n",
            "Installing collected packages: xmltodict, pycryptodome, liac-arff, minio, openml\n",
            "Successfully installed liac-arff-2.5.0 minio-7.2.10 openml-0.15.0 pycryptodome-3.21.0 xmltodict-0.14.2\n"
          ]
        }
      ],
      "source": [
        "!pip install openml"
      ]
    },
    {
      "cell_type": "markdown",
      "source": [
        "#### Wczytanie zbioru danych za pomocą openml"
      ],
      "metadata": {
        "id": "vbng0s1uSvpT"
      }
    },
    {
      "cell_type": "code",
      "source": [
        "import openml\n",
        "import pandas as pd\n",
        "import matplotlib.pyplot as plt\n",
        "\n",
        "\n",
        "dataset_id = 43566\n",
        "data = openml.datasets.get_dataset(dataset_id)\n",
        "df, *_ = data.get_data()"
      ],
      "metadata": {
        "colab": {
          "base_uri": "https://localhost:8080/"
        },
        "id": "zEq6hiiGSqLB",
        "outputId": "68d7706f-e28d-44f9-d001-640915f779f6"
      },
      "execution_count": 3,
      "outputs": [
        {
          "output_type": "stream",
          "name": "stderr",
          "text": [
            "WARNING:openml:No permission to create OpenML directory at /root/.config/openml! This can result in OpenML-Python not working properly.\n"
          ]
        }
      ]
    },
    {
      "cell_type": "markdown",
      "source": [
        "# 📊 Analiza Aktywnych Graczy i Federacji 🌎\n",
        "\n",
        "### Opis Zadania\n",
        "W tej analizie przeprowadzimy kroki, aby zbadać liczbę aktywnych graczy, reprezentowane federacje oraz średnie rankingi graczy.\n",
        "\n",
        "---\n",
        "\n",
        "#### 📌 Krok 1: Obliczenie Liczby Aktywnych Graczy\n",
        "Najpierw zidentyfikujemy liczbę aktywnych graczy w zbiorze danych. Kolumna `Inactive_flag` wskazuje, czy gracz jest aktywny – jeśli wartość w tej kolumnie jest pusta (`NaN`), oznacza to, że gracz jest aktywny.\n",
        "\n",
        "- **Cel**: Policz wszystkich aktywnych graczy w zbiorze danych.\n",
        "\n",
        "#### 📌 Krok 2: Liczba Unikalnych Federacji\n",
        "Następnie określimy, ile różnych federacji (krajów/regionów) jest reprezentowanych przez graczy.\n",
        "\n",
        "- **Cel**: Użyj metody `nunique()` na kolumnie `Federation`, aby policzyć liczbę unikalnych federacji.\n",
        "\n",
        "#### 📌 Krok 3: Liczba Aktywnych Graczy w Każdej Federacji\n",
        "W kolejnym kroku sprawdzimy liczbę aktywnych graczy w każdej federacji.\n",
        "\n",
        "- **Cel**: Wybierz tylko aktywnych graczy, a następnie użyj `groupby('Federation').size()` na kolumnie `Federation`, aby uzyskać liczbę aktywnych graczy w każdej federacji.\n",
        "\n",
        "#### 📌 Krok 4: Średni Ranking Aktywnych Graczy w Każdej Federacji\n",
        "Na koniec obliczymy średni standardowy ranking (`Standard_Rating`) aktywnych graczy w każdej federacji.\n",
        "\n",
        "- **Cel**: Filtruj aktywnych graczy, a następnie użyj `groupby('Federation')` i oblicz średnią wartość w kolumnie `Standard_Rating`.\n"
      ],
      "metadata": {
        "id": "d5VoCYzCTDhS"
      }
    },
    {
      "cell_type": "code",
      "source": [
        "#1 Liczba aktywnych graczy\n",
        "# Zakładamy, że NaN w 'Inactive_flag' oznacza aktywnego gracza\n",
        "num_active_players = df['Inactive_flag'].isna().sum()\n",
        "print(\"Liczba aktywnych graczy:\", num_active_players)\n",
        "\n",
        "#2\n",
        "\n",
        "\n",
        "#3\n",
        "\n",
        "\n",
        "#4\n"
      ],
      "metadata": {
        "id": "Z1C8tpksTFS0"
      },
      "execution_count": null,
      "outputs": []
    },
    {
      "cell_type": "markdown",
      "source": [
        "# 📊 Analiza Rankingów Szachowych\n",
        "\n",
        "\n",
        "#### 🎯 Zadanie 1: Top 5 Graczy z Najwyższym Rankingiem Rapid\n",
        "- **Opis Zadania**: Znajdź pięciu zawodników z najwyższym rankingiem w kategorii Rapid, aby odkryć, kto dominuje w szybkim tempie gry.\n",
        "\n",
        "Jak nazywa się zawodnik z najwyższym wynikiem i z jakiej jest federacji?\n",
        "\n",
        "---\n",
        "\n",
        "#### 👑 Zadanie 2: Najwyższy Ranking Standardowy dla Każdego Tytułu\n",
        "- **Opis Zadania**: Znajdź najwyższy ranking standardowy dla każdego tytułu (`GM`, `IM`, `FM`, itp.) i sprawdź, którzy gracze wyróżniają się w swojej kategorii tytułowej.\n",
        "\n",
        "Na podstawie uzyskanych wskaż najważniejszy tytuł szachowy? Czy średnie wyniki w danych kategoriach różnią się znacząco?\n",
        "\n",
        "---\n",
        "\n",
        "####🏅 Zadanie 3: Top 5 Graczy z Najwyższym Rankingiem Blitz\n",
        "- **Opis Zadania**: Znajdź pięciu najlepszych graczy w kategorii Blitz.\n",
        "\n",
        "Skąd pochodzą Ci zawodnicy i jaki wynik osiągnął lider w tym rankingu?\n"
      ],
      "metadata": {
        "id": "fHrRmp2oTaXt"
      }
    },
    {
      "cell_type": "code",
      "source": [
        "top_5_rapid_players = df.sort_values(by='Rapid_rating', ascending=False).head(5)\n",
        "print(\"\\nTop 5 graczy z najwyższym rankingiem Rapid:\")\n",
        "print(top_5_rapid_players[['Name', 'Federation', 'Rapid_rating']])"
      ],
      "metadata": {
        "id": "Wiw8z_nCTbt1"
      },
      "execution_count": null,
      "outputs": []
    },
    {
      "cell_type": "markdown",
      "source": [
        "🥇 Analiza Udziału Tytułów wśród Aktywnych Graczy\n",
        "\n",
        "### 🎯 Cel zadania\n",
        "\n",
        "Stworzymy wykres kołowy pokazujący procentowy udział poszczególnych tytułów wśród aktywnych graczy. W wersji rozszerzonej uwzględnimy także podział na płeć, aby wizualizacja była bardziej informatywna.\n",
        "\n",
        "---------------------------------------\n",
        "\n",
        "### 📝 Instrukcje\n",
        "\n",
        "#### Podstawowa wersja ✅\n",
        "1. **Przygotowanie danych**:\n",
        "   - Oblicz liczbę graczy w każdej kategorii tytułów, korzystając z `value_counts()` na kolumnie `Title`.\n",
        "2. **Tworzenie wykresu kołowego**:\n",
        "   - Wykorzystaj `plotly.express.pie` do utworzenia wykresu:\n",
        "     - Parametr `names` ustawia etykiety dla poszczególnych segmentów ( w tym przypadku nazwę tytułu).\n",
        "     - Parametr `values` ustawia wartości segmentów ( w tym przypadku  liczbę zawodników w każdej kategorii).\n",
        "   - W Plotly, gdy ustawisz `textinfo='percent+label` w fig.update_traces, procenty są automatycznie obliczane przez bibliotekę\n",
        "\n",
        "#### 🔗 Linki pomocnicze\n",
        "- https://plotly.com/python-api-reference/generated/plotly.express.pie\n",
        "-https://www.geeksforgeeks.org/pie-plot-using-plotly-in-python/\n",
        "\n",
        "#### Rozszerzona wersja z podziałem na płeć 🚀\n",
        "\n",
        "1. **Przygotuj dane**: Pogrupuj dane według Title i Gender, a następnie przekształć wynik, aby uzyskać liczbę mężczyzn i kobiet w każdej kategorii tytułów. Użyj groupby(['Title', 'Gender']).size().unstack(fill_value=0), aby stworzyć tabelę, w której wiersze odpowiadają tytułom, a kolumny zawierają liczbę mężczyzn (M) i kobiet (F).\n",
        "\n",
        "2. **Stwórz listę etykiet**: Korzystając z pętli, przejdź przez każdy tytuł w danych i dla każdego z nich pobierz liczbę mężczyzn i kobiet z tabeli `(  .loc[title, 'M'] i .loc[title, 'F']`). Następnie połącz te informacje w jednym napisie, np. `\"GM (M: 10, F: 2)\"`.\n",
        "\n",
        "---------------------------------\n"
      ],
      "metadata": {
        "id": "RoQowUANTf0A"
      }
    },
    {
      "cell_type": "code",
      "source": [
        "import plotly.express as px"
      ],
      "metadata": {
        "id": "Qc8UmN77TknP"
      },
      "execution_count": null,
      "outputs": []
    },
    {
      "cell_type": "markdown",
      "source": [
        "# 🎯 Analiza Proporcji Aktywnych Graczy według Płci\n",
        "\n",
        "### 📄 Opis\n",
        "Celem tego zadania jest przeanalizowanie proporcji aktywnych graczy według płci oraz ich wizualizacja przy pomocy wykresu kołowego. Wykorzystamy bibliotekę Matplotlib do stworzenia wykresu, który pokazuje udział mężczyzn i kobiet w zbiorze aktywnych zawodników.\n",
        "\n",
        "---\n",
        "\n",
        "### 📝 Kroki do wykonania:\n",
        "\n",
        "#### 1. Filtracja aktywnych graczy 🕵️‍♀️\n",
        "   - Wyodrębnij jedynie aktywnych graczy, czyli tych, dla których kolumna `Inactive_flag` ma wartość `NaN`.\n",
        "   - To oznacza, że gracz jest aktywny i zostanie uwzględniony w analizie.\n",
        "\n",
        "#### 2. Obliczenie liczby aktywnych mężczyzn i kobiet 👩‍🔬👨‍🔬\n",
        "   - Użyj metody `value_counts()` na kolumnie `Gender` w przefiltrowanym zbiorze danych, aby policzyć, ilu aktywnych graczy jest wśród mężczyzn i kobiet.\n",
        "\n",
        "#### 3. Przeliczenie liczby na tysiące oraz wyliczenie procentów 📊\n",
        "   - Oblicz procentowy udział każdej płci, aby zobaczyć proporcje mężczyzn i kobiet w zbiorze aktywnych graczy.\n",
        "   - Dla lepszej czytelności przelicz liczby na tysiące i przygotuj je do wyświetlenia na wykresie.\n",
        "\n",
        "#### 4. Tworzenie legendy 🏷️\n",
        "   - Przygotuj etykiety z liczbą graczy oraz ich procentowym udziałem.\n",
        "   - Użyj f-stringów, aby sformatować tekst etykiet w formacie: `\"Kobiety: 120.5k (16.3%)\"`.\n",
        "\n",
        "#### 5. Tworzenie wykresu kołowego 🥧\n",
        "   - Użyj `plt.pie()` z Matplotlib, aby stworzyć wykres kołowy pokazujący proporcje mężczyzn i kobiet.\n",
        "   - Ustaw parametr `autopct='%1.1f%%'`, aby na wykresie były widoczne wartości procentowe dla każdej płci.\n",
        "\n",
        "---\n",
        "\n",
        "\n",
        "📌 Podpowiedzi:\n",
        "\n",
        "- Zliczanie liczby mężczyzn i kobiet: Użyj value_counts() na kolumnie Gender, aby uzyskać liczby mężczyzn i kobiet. Na przykład: gender_counts_active = active_players['Gender'].value_counts().\n",
        "\n",
        "- Przeliczenie liczby na tysiące: Podziel każdą wartość przez 1000 i zaokrąglij wynik do jednego miejsca po przecinku, aby wartości były wyświetlane jako tysiące. Przykład: (gender_counts_active / 1000).round(1).\n",
        "\n",
        "- Etykiety dla legendy: Użyj f-stringów do formatowania tekstu, np. f\"Mężczyźni: {liczba}k ({procent}%)\", aby stworzyć informacyjne etykiety z liczbą i procentem graczy każdej płci."
      ],
      "metadata": {
        "id": "KbgaXsQhToEl"
      }
    },
    {
      "cell_type": "code",
      "source": [
        "import pandas as pd\n",
        "import matplotlib.pyplot as plt\n",
        "import seaborn as sns\n"
      ],
      "metadata": {
        "id": "WJLn9X5sTuOA"
      },
      "execution_count": null,
      "outputs": []
    },
    {
      "cell_type": "markdown",
      "source": [
        "####🌍 Analiza Liczby Aktywnych Graczy w Poszczególnych Federacjach na Mapie Świata\n",
        "------------------------------------------\n",
        "#### 🎯 Cel zadania\n",
        "# 🌍 Analiza Aktywnych Szachistów w Różnych Federacjach za pomocą Interaktywnej Mapy\n",
        "\n",
        "### 🎯 Cel zadania\n",
        "Celem tego zadania jest wizualizacja liczby aktywnych szachistów na całym świecie w różnych federacjach, przedstawiona za pomocą interaktywnej mapy.\n",
        "\n",
        "---\n",
        "\n",
        "### 🔧 Instrukcje\n",
        "#### Krok 1: Przygotowanie danych\n",
        "1. **Filtracja aktywnych graczy**: Uwzględniamy tylko aktywnych zawodników. W kolumnie `Inactive_flag` wartość `NaN` oznacza gracza aktywnego.\n",
        "2. **Agregacja danych**: Korzystamy z `value_counts()` na kolumnie `Federation`, aby uzyskać liczbę aktywnych zawodników dla każdej federacji.\n",
        "\n",
        "#### Krok 2: Tworzenie mapy\n",
        "Używamy funkcji `plotly.express.choropleth`, aby stworzyć interaktywną mapę świata, gdzie kolor każdego kraju reprezentuje liczbę aktywnych graczy.\n",
        "\n",
        "### Parametry dla `px.choropleth`\n",
        "- **`locations`** 🌐 – kolumna zawierająca kody krajów w formacie ISO Alpha-3, np. \"POL\" dla Polski. W naszym przypadku będzie to kolumna `\"Federation\"`.\n",
        "- **`color`** 🎨 – kolumna z wartościami liczbowymi, które będą reprezentowane kolorem na mapie, czyli `\"Active_Players\"`.\n",
        "- **`hover_name`** 🖱️ – kolumna, która wyświetla nazwę federacji po najechaniu kursorem na kraj, również `\"Federation\"`.\n",
        "\n",
        "\n",
        "### 🔗 Dodatkowe linki\n",
        "https://plotly.com/python/choropleth-maps/\n",
        "\n",
        "https://plotly.github.io/plotly.py-docs/generated/plotly.express.choropleth.html"
      ],
      "metadata": {
        "id": "VSGEGJTjT2FX"
      }
    },
    {
      "cell_type": "markdown",
      "source": [
        "Przykład wizualizacji przedstawiający liczbę graczy z tytułem GM wsródza pomocą biblioteki Plotly"
      ],
      "metadata": {
        "id": "_62cn2kAUKrX"
      }
    },
    {
      "cell_type": "code",
      "source": [
        "import plotly.express as px\n",
        "import pandas as pd\n",
        "\n",
        "# Przykładowy tytuł (GM, IM, FM)\n",
        "title_filter = 'GM'\n",
        "\n",
        "title_players = df[df['Title'] == title_filter]\n",
        "\n",
        "title_counts = title_players['Federation'].value_counts().reset_index()\n",
        "title_counts.columns = ['Federation', 'Title_Count']\n",
        "\n",
        "fig = px.choropleth(\n",
        "    title_counts,\n",
        "    locations='Federation',\n",
        "    color='Title_Count',\n",
        "    hover_name='Federation',\n",
        "    color_continuous_scale='YlOrRd',\n",
        "    title=f\"Liczba zawodników z tytułem {title_filter} w każdej federacji\"\n",
        ")\n",
        "\n",
        "fig.show()"
      ],
      "metadata": {
        "colab": {
          "base_uri": "https://localhost:8080/",
          "height": 542
        },
        "id": "4tJ9Ep00T1ZW",
        "outputId": "084aa3f2-d8cb-4245-9ead-4ef6bce74e5e"
      },
      "execution_count": 4,
      "outputs": [
        {
          "output_type": "display_data",
          "data": {
            "text/html": [
              "<html>\n",
              "<head><meta charset=\"utf-8\" /></head>\n",
              "<body>\n",
              "    <div>            <script src=\"https://cdnjs.cloudflare.com/ajax/libs/mathjax/2.7.5/MathJax.js?config=TeX-AMS-MML_SVG\"></script><script type=\"text/javascript\">if (window.MathJax && window.MathJax.Hub && window.MathJax.Hub.Config) {window.MathJax.Hub.Config({SVG: {font: \"STIX-Web\"}});}</script>                <script type=\"text/javascript\">window.PlotlyConfig = {MathJaxConfig: 'local'};</script>\n",
              "        <script charset=\"utf-8\" src=\"https://cdn.plot.ly/plotly-2.35.2.min.js\"></script>                <div id=\"a4791b1e-5e00-4e46-a20e-1e507aab5cdc\" class=\"plotly-graph-div\" style=\"height:525px; width:100%;\"></div>            <script type=\"text/javascript\">                                    window.PLOTLYENV=window.PLOTLYENV || {};                                    if (document.getElementById(\"a4791b1e-5e00-4e46-a20e-1e507aab5cdc\")) {                    Plotly.newPlot(                        \"a4791b1e-5e00-4e46-a20e-1e507aab5cdc\",                        [{\"coloraxis\":\"coloraxis\",\"geo\":\"geo\",\"hovertemplate\":\"\\u003cb\\u003e%{hovertext}\\u003c\\u002fb\\u003e\\u003cbr\\u003e\\u003cbr\\u003eFederation=%{location}\\u003cbr\\u003eTitle_Count=%{z}\\u003cextra\\u003e\\u003c\\u002fextra\\u003e\",\"hovertext\":[\"RUS\",\"GER\",\"USA\",\"UKR\",\"IND\",\"ESP\",\"HUN\",\"FRA\",\"SRB\",\"CHN\",\"POL\",\"ISR\",\"ARM\",\"NED\",\"ENG\",\"CZE\",\"BUL\",\"GEO\",\"CRO\",\"CUB\",\"AZE\",\"ARG\",\"SWE\",\"ROU\",\"UZB\",\"BLR\",\"ITA\",\"NOR\",\"IRI\",\"KAZ\",\"DEN\",\"GRE\",\"CAN\",\"BRA\",\"PHI\",\"SVK\",\"ISL\",\"TUR\",\"VIE\",\"SLO\",\"LAT\",\"MKD\",\"AUS\",\"PER\",\"COL\",\"AUT\",\"BEL\",\"SUI\",\"LTU\",\"BIH\",\"MGL\",\"MDA\",\"SCO\",\"CHI\",\"EGY\",\"MNE\",\"EST\",\"BAN\",\"FIN\",\"TKM\",\"SGP\",\"POR\",\"MEX\",\"PAR\",\"QAT\",\"TUN\",\"INA\",\"ALG\",\"VEN\",\"MNC\",\"AND\",\"URU\",\"FID\",\"UAE\",\"TJK\",\"ECU\",\"NZL\",\"FAI\",\"WLS\",\"KOR\",\"ALB\",\"CRC\",\"ZAM\",\"BOL\",\"IRL\",\"DOM\",\"MAR\",\"RSA\"],\"locations\":[\"RUS\",\"GER\",\"USA\",\"UKR\",\"IND\",\"ESP\",\"HUN\",\"FRA\",\"SRB\",\"CHN\",\"POL\",\"ISR\",\"ARM\",\"NED\",\"ENG\",\"CZE\",\"BUL\",\"GEO\",\"CRO\",\"CUB\",\"AZE\",\"ARG\",\"SWE\",\"ROU\",\"UZB\",\"BLR\",\"ITA\",\"NOR\",\"IRI\",\"KAZ\",\"DEN\",\"GRE\",\"CAN\",\"BRA\",\"PHI\",\"SVK\",\"ISL\",\"TUR\",\"VIE\",\"SLO\",\"LAT\",\"MKD\",\"AUS\",\"PER\",\"COL\",\"AUT\",\"BEL\",\"SUI\",\"LTU\",\"BIH\",\"MGL\",\"MDA\",\"SCO\",\"CHI\",\"EGY\",\"MNE\",\"EST\",\"BAN\",\"FIN\",\"TKM\",\"SGP\",\"POR\",\"MEX\",\"PAR\",\"QAT\",\"TUN\",\"INA\",\"ALG\",\"VEN\",\"MNC\",\"AND\",\"URU\",\"FID\",\"UAE\",\"TJK\",\"ECU\",\"NZL\",\"FAI\",\"WLS\",\"KOR\",\"ALB\",\"CRC\",\"ZAM\",\"BOL\",\"IRL\",\"DOM\",\"MAR\",\"RSA\"],\"name\":\"\",\"z\":[237,96,95,88,66,55,52,51,50,48,47,44,40,38,36,34,32,31,30,27,26,23,22,21,17,17,16,16,15,15,14,14,14,14,13,13,13,12,12,11,11,10,10,9,9,9,9,9,8,8,7,7,7,6,6,6,6,5,5,5,4,4,4,4,3,3,3,3,2,2,2,2,2,2,1,1,1,1,1,1,1,1,1,1,1,1,1,1],\"type\":\"choropleth\"}],                        {\"template\":{\"data\":{\"histogram2dcontour\":[{\"type\":\"histogram2dcontour\",\"colorbar\":{\"outlinewidth\":0,\"ticks\":\"\"},\"colorscale\":[[0.0,\"#0d0887\"],[0.1111111111111111,\"#46039f\"],[0.2222222222222222,\"#7201a8\"],[0.3333333333333333,\"#9c179e\"],[0.4444444444444444,\"#bd3786\"],[0.5555555555555556,\"#d8576b\"],[0.6666666666666666,\"#ed7953\"],[0.7777777777777778,\"#fb9f3a\"],[0.8888888888888888,\"#fdca26\"],[1.0,\"#f0f921\"]]}],\"choropleth\":[{\"type\":\"choropleth\",\"colorbar\":{\"outlinewidth\":0,\"ticks\":\"\"}}],\"histogram2d\":[{\"type\":\"histogram2d\",\"colorbar\":{\"outlinewidth\":0,\"ticks\":\"\"},\"colorscale\":[[0.0,\"#0d0887\"],[0.1111111111111111,\"#46039f\"],[0.2222222222222222,\"#7201a8\"],[0.3333333333333333,\"#9c179e\"],[0.4444444444444444,\"#bd3786\"],[0.5555555555555556,\"#d8576b\"],[0.6666666666666666,\"#ed7953\"],[0.7777777777777778,\"#fb9f3a\"],[0.8888888888888888,\"#fdca26\"],[1.0,\"#f0f921\"]]}],\"heatmap\":[{\"type\":\"heatmap\",\"colorbar\":{\"outlinewidth\":0,\"ticks\":\"\"},\"colorscale\":[[0.0,\"#0d0887\"],[0.1111111111111111,\"#46039f\"],[0.2222222222222222,\"#7201a8\"],[0.3333333333333333,\"#9c179e\"],[0.4444444444444444,\"#bd3786\"],[0.5555555555555556,\"#d8576b\"],[0.6666666666666666,\"#ed7953\"],[0.7777777777777778,\"#fb9f3a\"],[0.8888888888888888,\"#fdca26\"],[1.0,\"#f0f921\"]]}],\"heatmapgl\":[{\"type\":\"heatmapgl\",\"colorbar\":{\"outlinewidth\":0,\"ticks\":\"\"},\"colorscale\":[[0.0,\"#0d0887\"],[0.1111111111111111,\"#46039f\"],[0.2222222222222222,\"#7201a8\"],[0.3333333333333333,\"#9c179e\"],[0.4444444444444444,\"#bd3786\"],[0.5555555555555556,\"#d8576b\"],[0.6666666666666666,\"#ed7953\"],[0.7777777777777778,\"#fb9f3a\"],[0.8888888888888888,\"#fdca26\"],[1.0,\"#f0f921\"]]}],\"contourcarpet\":[{\"type\":\"contourcarpet\",\"colorbar\":{\"outlinewidth\":0,\"ticks\":\"\"}}],\"contour\":[{\"type\":\"contour\",\"colorbar\":{\"outlinewidth\":0,\"ticks\":\"\"},\"colorscale\":[[0.0,\"#0d0887\"],[0.1111111111111111,\"#46039f\"],[0.2222222222222222,\"#7201a8\"],[0.3333333333333333,\"#9c179e\"],[0.4444444444444444,\"#bd3786\"],[0.5555555555555556,\"#d8576b\"],[0.6666666666666666,\"#ed7953\"],[0.7777777777777778,\"#fb9f3a\"],[0.8888888888888888,\"#fdca26\"],[1.0,\"#f0f921\"]]}],\"surface\":[{\"type\":\"surface\",\"colorbar\":{\"outlinewidth\":0,\"ticks\":\"\"},\"colorscale\":[[0.0,\"#0d0887\"],[0.1111111111111111,\"#46039f\"],[0.2222222222222222,\"#7201a8\"],[0.3333333333333333,\"#9c179e\"],[0.4444444444444444,\"#bd3786\"],[0.5555555555555556,\"#d8576b\"],[0.6666666666666666,\"#ed7953\"],[0.7777777777777778,\"#fb9f3a\"],[0.8888888888888888,\"#fdca26\"],[1.0,\"#f0f921\"]]}],\"mesh3d\":[{\"type\":\"mesh3d\",\"colorbar\":{\"outlinewidth\":0,\"ticks\":\"\"}}],\"scatter\":[{\"fillpattern\":{\"fillmode\":\"overlay\",\"size\":10,\"solidity\":0.2},\"type\":\"scatter\"}],\"parcoords\":[{\"type\":\"parcoords\",\"line\":{\"colorbar\":{\"outlinewidth\":0,\"ticks\":\"\"}}}],\"scatterpolargl\":[{\"type\":\"scatterpolargl\",\"marker\":{\"colorbar\":{\"outlinewidth\":0,\"ticks\":\"\"}}}],\"bar\":[{\"error_x\":{\"color\":\"#2a3f5f\"},\"error_y\":{\"color\":\"#2a3f5f\"},\"marker\":{\"line\":{\"color\":\"#E5ECF6\",\"width\":0.5},\"pattern\":{\"fillmode\":\"overlay\",\"size\":10,\"solidity\":0.2}},\"type\":\"bar\"}],\"scattergeo\":[{\"type\":\"scattergeo\",\"marker\":{\"colorbar\":{\"outlinewidth\":0,\"ticks\":\"\"}}}],\"scatterpolar\":[{\"type\":\"scatterpolar\",\"marker\":{\"colorbar\":{\"outlinewidth\":0,\"ticks\":\"\"}}}],\"histogram\":[{\"marker\":{\"pattern\":{\"fillmode\":\"overlay\",\"size\":10,\"solidity\":0.2}},\"type\":\"histogram\"}],\"scattergl\":[{\"type\":\"scattergl\",\"marker\":{\"colorbar\":{\"outlinewidth\":0,\"ticks\":\"\"}}}],\"scatter3d\":[{\"type\":\"scatter3d\",\"line\":{\"colorbar\":{\"outlinewidth\":0,\"ticks\":\"\"}},\"marker\":{\"colorbar\":{\"outlinewidth\":0,\"ticks\":\"\"}}}],\"scattermapbox\":[{\"type\":\"scattermapbox\",\"marker\":{\"colorbar\":{\"outlinewidth\":0,\"ticks\":\"\"}}}],\"scatterternary\":[{\"type\":\"scatterternary\",\"marker\":{\"colorbar\":{\"outlinewidth\":0,\"ticks\":\"\"}}}],\"scattercarpet\":[{\"type\":\"scattercarpet\",\"marker\":{\"colorbar\":{\"outlinewidth\":0,\"ticks\":\"\"}}}],\"carpet\":[{\"aaxis\":{\"endlinecolor\":\"#2a3f5f\",\"gridcolor\":\"white\",\"linecolor\":\"white\",\"minorgridcolor\":\"white\",\"startlinecolor\":\"#2a3f5f\"},\"baxis\":{\"endlinecolor\":\"#2a3f5f\",\"gridcolor\":\"white\",\"linecolor\":\"white\",\"minorgridcolor\":\"white\",\"startlinecolor\":\"#2a3f5f\"},\"type\":\"carpet\"}],\"table\":[{\"cells\":{\"fill\":{\"color\":\"#EBF0F8\"},\"line\":{\"color\":\"white\"}},\"header\":{\"fill\":{\"color\":\"#C8D4E3\"},\"line\":{\"color\":\"white\"}},\"type\":\"table\"}],\"barpolar\":[{\"marker\":{\"line\":{\"color\":\"#E5ECF6\",\"width\":0.5},\"pattern\":{\"fillmode\":\"overlay\",\"size\":10,\"solidity\":0.2}},\"type\":\"barpolar\"}],\"pie\":[{\"automargin\":true,\"type\":\"pie\"}]},\"layout\":{\"autotypenumbers\":\"strict\",\"colorway\":[\"#636efa\",\"#EF553B\",\"#00cc96\",\"#ab63fa\",\"#FFA15A\",\"#19d3f3\",\"#FF6692\",\"#B6E880\",\"#FF97FF\",\"#FECB52\"],\"font\":{\"color\":\"#2a3f5f\"},\"hovermode\":\"closest\",\"hoverlabel\":{\"align\":\"left\"},\"paper_bgcolor\":\"white\",\"plot_bgcolor\":\"#E5ECF6\",\"polar\":{\"bgcolor\":\"#E5ECF6\",\"angularaxis\":{\"gridcolor\":\"white\",\"linecolor\":\"white\",\"ticks\":\"\"},\"radialaxis\":{\"gridcolor\":\"white\",\"linecolor\":\"white\",\"ticks\":\"\"}},\"ternary\":{\"bgcolor\":\"#E5ECF6\",\"aaxis\":{\"gridcolor\":\"white\",\"linecolor\":\"white\",\"ticks\":\"\"},\"baxis\":{\"gridcolor\":\"white\",\"linecolor\":\"white\",\"ticks\":\"\"},\"caxis\":{\"gridcolor\":\"white\",\"linecolor\":\"white\",\"ticks\":\"\"}},\"coloraxis\":{\"colorbar\":{\"outlinewidth\":0,\"ticks\":\"\"}},\"colorscale\":{\"sequential\":[[0.0,\"#0d0887\"],[0.1111111111111111,\"#46039f\"],[0.2222222222222222,\"#7201a8\"],[0.3333333333333333,\"#9c179e\"],[0.4444444444444444,\"#bd3786\"],[0.5555555555555556,\"#d8576b\"],[0.6666666666666666,\"#ed7953\"],[0.7777777777777778,\"#fb9f3a\"],[0.8888888888888888,\"#fdca26\"],[1.0,\"#f0f921\"]],\"sequentialminus\":[[0.0,\"#0d0887\"],[0.1111111111111111,\"#46039f\"],[0.2222222222222222,\"#7201a8\"],[0.3333333333333333,\"#9c179e\"],[0.4444444444444444,\"#bd3786\"],[0.5555555555555556,\"#d8576b\"],[0.6666666666666666,\"#ed7953\"],[0.7777777777777778,\"#fb9f3a\"],[0.8888888888888888,\"#fdca26\"],[1.0,\"#f0f921\"]],\"diverging\":[[0,\"#8e0152\"],[0.1,\"#c51b7d\"],[0.2,\"#de77ae\"],[0.3,\"#f1b6da\"],[0.4,\"#fde0ef\"],[0.5,\"#f7f7f7\"],[0.6,\"#e6f5d0\"],[0.7,\"#b8e186\"],[0.8,\"#7fbc41\"],[0.9,\"#4d9221\"],[1,\"#276419\"]]},\"xaxis\":{\"gridcolor\":\"white\",\"linecolor\":\"white\",\"ticks\":\"\",\"title\":{\"standoff\":15},\"zerolinecolor\":\"white\",\"automargin\":true,\"zerolinewidth\":2},\"yaxis\":{\"gridcolor\":\"white\",\"linecolor\":\"white\",\"ticks\":\"\",\"title\":{\"standoff\":15},\"zerolinecolor\":\"white\",\"automargin\":true,\"zerolinewidth\":2},\"scene\":{\"xaxis\":{\"backgroundcolor\":\"#E5ECF6\",\"gridcolor\":\"white\",\"linecolor\":\"white\",\"showbackground\":true,\"ticks\":\"\",\"zerolinecolor\":\"white\",\"gridwidth\":2},\"yaxis\":{\"backgroundcolor\":\"#E5ECF6\",\"gridcolor\":\"white\",\"linecolor\":\"white\",\"showbackground\":true,\"ticks\":\"\",\"zerolinecolor\":\"white\",\"gridwidth\":2},\"zaxis\":{\"backgroundcolor\":\"#E5ECF6\",\"gridcolor\":\"white\",\"linecolor\":\"white\",\"showbackground\":true,\"ticks\":\"\",\"zerolinecolor\":\"white\",\"gridwidth\":2}},\"shapedefaults\":{\"line\":{\"color\":\"#2a3f5f\"}},\"annotationdefaults\":{\"arrowcolor\":\"#2a3f5f\",\"arrowhead\":0,\"arrowwidth\":1},\"geo\":{\"bgcolor\":\"white\",\"landcolor\":\"#E5ECF6\",\"subunitcolor\":\"white\",\"showland\":true,\"showlakes\":true,\"lakecolor\":\"white\"},\"title\":{\"x\":0.05},\"mapbox\":{\"style\":\"light\"}}},\"geo\":{\"domain\":{\"x\":[0.0,1.0],\"y\":[0.0,1.0]},\"center\":{}},\"coloraxis\":{\"colorbar\":{\"title\":{\"text\":\"Title_Count\"}},\"colorscale\":[[0.0,\"rgb(255,255,204)\"],[0.125,\"rgb(255,237,160)\"],[0.25,\"rgb(254,217,118)\"],[0.375,\"rgb(254,178,76)\"],[0.5,\"rgb(253,141,60)\"],[0.625,\"rgb(252,78,42)\"],[0.75,\"rgb(227,26,28)\"],[0.875,\"rgb(189,0,38)\"],[1.0,\"rgb(128,0,38)\"]]},\"legend\":{\"tracegroupgap\":0},\"title\":{\"text\":\"Liczba zawodników z tytułem GM w każdej federacji\"}},                        {\"responsive\": true}                    ).then(function(){\n",
              "                            \n",
              "var gd = document.getElementById('a4791b1e-5e00-4e46-a20e-1e507aab5cdc');\n",
              "var x = new MutationObserver(function (mutations, observer) {{\n",
              "        var display = window.getComputedStyle(gd).display;\n",
              "        if (!display || display === 'none') {{\n",
              "            console.log([gd, 'removed!']);\n",
              "            Plotly.purge(gd);\n",
              "            observer.disconnect();\n",
              "        }}\n",
              "}});\n",
              "\n",
              "// Listen for the removal of the full notebook cells\n",
              "var notebookContainer = gd.closest('#notebook-container');\n",
              "if (notebookContainer) {{\n",
              "    x.observe(notebookContainer, {childList: true});\n",
              "}}\n",
              "\n",
              "// Listen for the clearing of the current output cell\n",
              "var outputEl = gd.closest('.output');\n",
              "if (outputEl) {{\n",
              "    x.observe(outputEl, {childList: true});\n",
              "}}\n",
              "\n",
              "                        })                };                            </script>        </div>\n",
              "</body>\n",
              "</html>"
            ]
          },
          "metadata": {}
        }
      ]
    },
    {
      "cell_type": "code",
      "source": [
        "#Twoja kolej\n",
        "\n",
        "import plotly.express as px\n",
        "import pandas as pd"
      ],
      "metadata": {
        "id": "trL5boFyUOV-"
      },
      "execution_count": null,
      "outputs": []
    },
    {
      "cell_type": "markdown",
      "source": [
        "# 📊 Analiza Rankingów Rapid dla Aktywnych Graczy według Tytułu i Płci\n",
        "\n",
        "### 🎯 Cel Zadania\n",
        "Celem tej analizy jest zbadanie, jak rankingi Rapid różnią się między graczami o różnych tytułach oraz płci, wśród aktywnych zawodników. Chcemy zobaczyć, czy poziom gry (określony przez ranking Rapid) koreluje z tytułem zawodnika oraz czy występują różnice pomiędzy rankingami mężczyzn i kobiet na poszczególnych poziomach.\n",
        "\n",
        "---\n",
        "\n",
        "### 🔧 Instrukcje\n",
        "\n",
        "#### Krok 1: Przygotowanie danych 📈\n",
        "1. **Filtracja aktywnych graczy**:\n",
        "   - Uwzględniamy tylko aktywnych graczy, dla których `Inactive_flag` jest puste (`NaN`), aby skoncentrować się na zawodnikach obecnie uczestniczących w rozgrywkach.\n",
        "   \n",
        "2. **Selekcja kolumn**:\n",
        "   - Dane powinny zawierać kolumny `Title` (tytuł gracza), `Gender` (płeć) oraz `Rapid_Rating` (ranking Rapid). Usuwamy wartości `NaN` z kolumny `Rapid_Rating`, aby uniknąć błędów przy wizualizacji.\n",
        "\n",
        "#### Krok 2: Tworzenie Wykresu Pudełkowego\n",
        " **Wizualizacja zależności między tytułem, płcią a rankingiem**:\n",
        "   - Korzystamy z `seaborn.boxplot`, aby stworzyć wykres pudełkowy, pokazujący rozkład rankingów Rapid według tytułów i płci.\n",
        "   - Parametr `hue='Gender'` pozwala rozróżnić rankingi mężczyzn i kobiet w ramach każdego tytułu, co umożliwia wizualne porównanie."
      ],
      "metadata": {
        "id": "L_R4YGtOUYvl"
      }
    },
    {
      "cell_type": "code",
      "source": [
        "\n",
        "import seaborn as sns\n",
        "import matplotlib.pyplot as plt\n",
        "\n",
        "active_players = df[df['Inactive_flag'].isna()]"
      ],
      "metadata": {
        "id": "r6h-hBT8UYI-"
      },
      "execution_count": null,
      "outputs": []
    },
    {
      "cell_type": "markdown",
      "source": [
        "### 📊 Wykres Słupkowy Liczby Aktywnych Graczy w Top 10 Federacjach Szachowych 🌍🏆\n",
        "\n",
        "### 🎯 Cel Zadania\n",
        "Celem tej analizy jest stworzenie wykresu słupkowego 📊 przedstawiającego liczbę aktywnych graczy 🧑‍💻👩‍💻 w 10 federacjach szachowych z największą liczbą aktywnych zawodników. Wykres pomoże zidentyfikować federacje z najliczniejszymi reprezentacjami wśród aktywnych graczy, co jest istotne dla analizy rozkładu popularności szachów na świecie 🌎.\n",
        "\n",
        "---\n",
        "\n",
        "### 🔧 Instrukcje\n",
        "\n",
        "#### ✅ Krok 1: Filtracja aktywnych graczy 🔍\n",
        "1. **Filtracja**: Uwzględniamy tylko aktywnych graczy, dla których kolumna `Inactive_flag` jest pusta (`NaN`), aby skupić się na zawodnikach obecnie aktywnych w federacjach.\n",
        "\n",
        "#### 📈 Krok 2: Zliczanie aktywnych graczy na federację 🧮\n",
        "1. **Grupowanie**: Zliczamy liczbę aktywnych graczy w każdej federacji, korzystając z metody `value_counts()`, aby każda federacja miała przypisaną liczbę swoich aktywnych zawodników.\n",
        "\n",
        "#### 🔝 Krok 3: Wybór Top 10 federacji\n",
        "1. **Sortowanie i wybór**: Sortujemy federacje według liczby aktywnych graczy i wybieramy top 10 federacji z największą liczbą zawodników, korzystając z `sort_values` oraz `head()`.\n",
        "\n",
        "#### 📊 Krok 4: Tworzenie wykresu słupkowego\n",
        "1. **Wizualizacja**: Używamy biblioteki `seaborn` do stworzenia wykresu słupkowego, który pokazuje liczbę aktywnych graczy w wybranych federacjach. Dodajemy rotację etykiet osi X (np. 45 stopni) oraz ustawiamy tytuł wykresu i opisy osi.\n",
        "\n",
        "---"
      ],
      "metadata": {
        "id": "vhPkOaSgUg-R"
      }
    },
    {
      "cell_type": "code",
      "source": [
        "import seaborn as sns\n",
        "import matplotlib.pyplot as plt\n",
        "\n",
        "active_players_by_federation = df[df['Inactive_flag'].isna()].groupby('Federation').size().reset_index(name='Active_Players')"
      ],
      "metadata": {
        "id": "NEVqrWevUgUp"
      },
      "execution_count": null,
      "outputs": []
    },
    {
      "cell_type": "markdown",
      "source": [
        "### Zaawansowane elementy do tworzenia interaktywnych wizualizacji przy pomocy plotly\n",
        "\n",
        " 🎉 Interaktywna Wizualizacja Top 3 Graczy w 4 Największych Federacjach Szachowych 🎉\n",
        "\n",
        "### 🎯 Cel Zadania\n",
        "Celem tego zadania jest stworzenie interaktywnego wykresu słupkowego przedstawiającego trzech najlepszych graczy w rankingu w czterech federacjach szachowych z największą liczbą aktywnych zawodników.\n",
        "\n",
        "---\n",
        "\n",
        "### 🔧 Instrukcje\n",
        "\n",
        "#### 📌 Krok 1: Filtracja aktywnych graczy i wybór top 4 federacji\n",
        "1. **Filtracja aktywnych graczy**: Wybierz tylko graczy, dla których wartość w kolumnie `Inactive_flag` jest `NaN`, oznaczającą aktywnych zawodników.\n",
        "2. **Zliczanie graczy w każdej federacji**: Użyj `value_counts()` na kolumnie `Federation` dla uzyskania liczby aktywnych graczy w każdej federacji.\n",
        "3. **Wybór top 4 federacji**: Posortuj federacje według liczby aktywnych graczy i wybierz cztery federacje z największą liczbą zawodników.\n",
        "\n",
        "#### 📌 Krok 2: Wybór top 3 graczy w każdej federacji\n",
        "1. **Znalezienie najlepszych graczy**: Dla każdej z wybranych federacji znajdź trzech graczy z najwyższym rankingiem (`Standard_Rating`) za pomocą `nlargest`.\n",
        "2. **Konsolidacja danych**: Dodaj wyniki do listy, a następnie użyj `pd.concat` do połączenia wszystkich wyników w jeden DataFrame.\n",
        "\n",
        "#### 📊 Krok 3: Utworzenie wykresu słupkowego\n",
        "1. **Wizualizacja w Plotly**: Użyj `plotly.express` i funkcji `px.bar()` do stworzenia poziomego wykresu słupkowego.\n",
        "2. **Konfiguracja `hover_data`**: Dodaj dane, aby po najechaniu kursorem wyświetlać szczegóły gracza, takie jak imię, nazwisko i wynik.\n",
        "\n",
        "---"
      ],
      "metadata": {
        "id": "xwFUS60HUy32"
      }
    },
    {
      "cell_type": "code",
      "source": [
        "import pandas as pd\n",
        "import plotly.express as px\n",
        "\n",
        "active_players = df[df['Inactive_flag'].isna()]\n",
        "active_players_by_federation = active_players.groupby('Federation').size().reset_index(name='Active_Players')"
      ],
      "metadata": {
        "id": "468K3ROGU6Ta"
      },
      "execution_count": null,
      "outputs": []
    },
    {
      "cell_type": "markdown",
      "source": [
        "# 🎯 Analiza Top 20 Zawodników według Rankingu Standardowego i Rapidowego\n",
        "\n",
        "### 📄 Opis zadania\n",
        "Celem tego zadania jest przeanalizowanie 20 najlepszych aktywnych szachistów w dwóch kategoriach rankingowych: standardowym i rapidowym. Przeanalizujemy, jak wiek zawodników wpływa na ich wyniki oraz zobaczymy, jak rozkładają się zawodnicy z różnych federacji w obu rankingach.\n",
        "\n",
        "---\n",
        "\n",
        "### 📝 Kroki do wykonania\n",
        "\n",
        "#### Krok 1: Obliczenie wieku zawodników 🧮\n",
        "   - Używamy kolumny `Year_of_birth`, aby obliczyć wiek zawodników, odejmując rok urodzenia od bieżącego roku (2024).\n",
        "   - Wartości `NaN` w `Year_of_birth` są wypełniane przez `0`, aby uniknąć błędów przy przekształcaniu do typu całkowitego.\n",
        "\n",
        "#### Krok 2: Filtracja aktywnych graczy 🔍\n",
        "   - Wybieramy tylko aktywnych zawodników (ci, którzy mają `NaN` w kolumnie `Inactive_flag`), aby skoncentrować się na obecnie uczestniczących w rozgrywkach.\n",
        "\n",
        "#### Krok 3: Wybór Top 20 zawodników w każdym rankingu 🏆\n",
        "   - Korzystając z kolumny `Standard_Rating`, wybieramy 20 zawodników z najwyższymi wynikami dla rankingu standardowego.\n",
        "   - Następnie z kolumny `Rapid_rating` wybieramy 20 najlepszych zawodników dla rankingu rapidowego.\n",
        "   - Dodajemy kolumnę `Ranking_Type`, aby odróżnić typ rankingu w wizualizacji.\n",
        "\n",
        "#### Krok 4: Tworzenie wykresu punktowego w Seaborn 📊\n",
        "   - Korzystamy z `seaborn.scatterplot`, aby stworzyć wykres punktowy dla obu rankingów:\n",
        "     - **Osie**: Oś X przedstawia wiek zawodników, a oś Y – wartość rankingu.\n",
        "     - **Kolory**: Zawodnicy są rozróżnieni według federacji, co ułatwia identyfikację ich przynależności.\n",
        "   - Wykresy są umieszczone obok siebie (dla rankingu standardowego i rapidowego), co umożliwia łatwe porównanie obu kategorii.\n",
        "\n",
        "---"
      ],
      "metadata": {
        "id": "4W6eqpWVVE_I"
      }
    },
    {
      "cell_type": "code",
      "source": [
        "import pandas as pd\n",
        "import seaborn as sns\n",
        "import matplotlib.pyplot as plt\n",
        "\n",
        "df['Year_of_birth'] = df['Year_of_birth'].fillna(0).astype(int)\n",
        "df['Age'] = 2024 - df['Year_of_birth']\n",
        "\n",
        "active_players = df[df['Inactive_flag'].isna()]"
      ],
      "metadata": {
        "id": "QNwHVQb0VGZK"
      },
      "execution_count": null,
      "outputs": []
    }
  ]
}