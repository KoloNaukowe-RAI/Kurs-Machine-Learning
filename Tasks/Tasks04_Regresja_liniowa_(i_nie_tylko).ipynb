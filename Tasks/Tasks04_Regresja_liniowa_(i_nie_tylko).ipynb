{
  "nbformat": 4,
  "nbformat_minor": 0,
  "metadata": {
    "colab": {
      "provenance": []
    },
    "kernelspec": {
      "name": "python3",
      "display_name": "Python 3"
    },
    "language_info": {
      "name": "python"
    }
  },
  "cells": [
    {
      "cell_type": "markdown",
      "source": [
        "# Zadania do tematu \"Regresja liniowa (i nie tylko)\""
      ],
      "metadata": {
        "id": "MDrqj6t4iFIW"
      }
    },
    {
      "cell_type": "markdown",
      "source": [
        "W tym Notebooku znajdują się zadania do tematu \"Wstęp do języka Python\", które mają na celu pokazać podstawy implementacji regresji przy użyciu biblioteki Scikit-Learn."
      ],
      "metadata": {
        "id": "TYRkfbmTiPYC"
      }
    },
    {
      "cell_type": "markdown",
      "source": [
        "# Zbiór danych\n",
        "\n",
        "Będziemy korzystać ze zbioru danych \"Student Performance\" dostępnego pod linkiem https://www.kaggle.com/datasets/nikhil7280/student-performance-multiple-linear-regression/data. Jeżeli ktoś ma konto na Kaggle to może pobrać dane w postaci `.csv` z tej platformy, a w innym przypadku można pobrać odpowiedni plik `.csv` z repozytorium do kursu (w folderze z zadaniami `Tasks` jest podfolder `dane`, a w nim plik `Student_Performance.csv`).\n",
        "\n",
        "Jak zaznacza autor, zbiór danych jest utworzony sztucznie i służy do celów ilustracyjnych, więc może nie odzwierciedlać rzeczywistości.\n",
        "\n",
        "Opis poszczególnych kolumn:\n",
        "- `Hours Studied`: Łączna liczba godzin spędzonych na nauce przez każdego ucznia.\n",
        "- `Previous Scores`: Wyniki uzyskane przez uczniów w poprzednich testach.\n",
        "- `Extracurricular Activities`: Czy uczeń uczestniczy w zajęciach pozalekcyjnych (Tak lub Nie).\n",
        "- `Sleep Hours`: Średnia liczba godzin snu na dobę.\n",
        "- `Sample Question Papers Practiced`: Liczba arkuszy z pytaniami ćwiczebnymi, które uczeń rozwiązał.\n",
        "\n",
        "Wartość do predykcji:\n",
        "- `Performance Index`: Wskaźnik ogólnej wydajności każdego ucznia. Wskaźnik ten odzwierciedla wyniki akademickie ucznia i jest zaokrąglony do najbliższej liczby całkowitej. Zakres wartości wskaźnika wynosi od 10 do 100, gdzie wyższe wartości oznaczają lepsze wyniki."
      ],
      "metadata": {
        "id": "-a--eExxitUd"
      }
    },
    {
      "cell_type": "markdown",
      "source": [
        "# 1. Wczytaj dane z pliku do postaci `pandas DataFrame`. Następnie wykorzystaj `head()`, żeby wyświetlić pierwsze 5 wierszy."
      ],
      "metadata": {
        "id": "TZAbjNDjl5Fs"
      }
    },
    {
      "cell_type": "code",
      "execution_count": null,
      "metadata": {
        "id": "BpNE80WehL_S"
      },
      "outputs": [],
      "source": [
        "# Wpisz swój kod poniżej\n"
      ]
    },
    {
      "cell_type": "markdown",
      "source": [
        "# 2. Wyświetl typy danych w każdej kolumnie oraz statystyki poszczególnych kolumn."
      ],
      "metadata": {
        "id": "iPWac2UemIOF"
      }
    },
    {
      "cell_type": "code",
      "source": [
        "# Wpisz swój kod poniżej\n"
      ],
      "metadata": {
        "id": "wihkY8dsmn-y"
      },
      "execution_count": null,
      "outputs": []
    },
    {
      "cell_type": "markdown",
      "source": [
        "Jak widzisz kolumna `Extracurricular Activities` przechowuje dane typu `object`. Nie jest to typ, który można wykorzystać do wrzucenia w model, więc musimy coś z tym zrobić."
      ],
      "metadata": {
        "id": "UnrzIetprQL_"
      }
    },
    {
      "cell_type": "markdown",
      "source": [
        "# 3. Zamień dane w kolumnie `Extracurricular Activities` na typ liczbowy - wartość `\"Yes\"` powinna odpowiadać `1`, a `\"No\"` to `0`. Następnie ponownie sprawdź statystyki poszczególnych kolumn.\n",
        "\n",
        "**Podpowiedź**: Możesz wykorzystać metodę `map`\n",
        "\n"
      ],
      "metadata": {
        "id": "onQT4OQVnCte"
      }
    },
    {
      "cell_type": "code",
      "source": [
        "# Wpisz swój kod poniżej\n"
      ],
      "metadata": {
        "id": "c67L7_55nXsv"
      },
      "execution_count": null,
      "outputs": []
    },
    {
      "cell_type": "markdown",
      "source": [
        "# 4. Podziel dane na zbiory treningowy, walidacyjny i testowy w stosunku 80:10:10. Wykorzystaj do tego funkcję `train_test_split` z biblioteki `scikit-learn` oraz użyj parametr `random_state=42` dla powtarzalności wyników i możliwości porównania rezultatów z innymi.\n",
        "\n",
        "Podział danych jest konieczny, żeby mieć pewność, że model nie nauczy się dopasowywać nadmiarowo do danych treningowych - jest to znane jako overfitting. Po podzieleniu danych wykorzystujemy zbiór walidacyjny do sprawdzania jakie rezultaty otrzymujemy na innych danych niż te, które model widział, a na zbiorze testowym jest finalny wynik (w rzeczywistości zwykle nie ma dostępu do wartości predykcji na zbiorze testowym).\n",
        "\n",
        "**Podpowiedź**: jako zbiór wartości `X` przyjmujemy nasz DataFrame bez kolumny `Performance Index`, bo ta kolumna jest wartością do predykcji `y`."
      ],
      "metadata": {
        "id": "XsVEVEq5pPWx"
      }
    },
    {
      "cell_type": "code",
      "source": [
        "# Wpisz swój kod poniżej\n",
        "from sklearn.model_selection import train_test_split\n"
      ],
      "metadata": {
        "id": "Op5kvgb-tYR7"
      },
      "execution_count": null,
      "outputs": []
    },
    {
      "cell_type": "markdown",
      "source": [
        "Sprawdź statystyki poszczególnych kolumn i zobacz czy są one zbliżone do tych w całym zbiorze."
      ],
      "metadata": {
        "id": "ux-_rxy8tjRm"
      }
    },
    {
      "cell_type": "code",
      "source": [
        "# Wpisz swój kod poniżej\n"
      ],
      "metadata": {
        "id": "FRETfQgjuHsn"
      },
      "execution_count": null,
      "outputs": []
    },
    {
      "cell_type": "markdown",
      "source": [
        "# 5. Korzystając z danych treningowych, stwórz wykres zależności pomiędzy zmienną `Performance Index` - dostępna jako `y_train`, a liczbą godzin nauki (`Hours Studied`) - dostępna w `X_train`. Zobacz, jak liczba godzin nauki wpływa na wyniki.\n",
        "\n",
        "**Podpowiedź**: Możesz użyć `matplotlib` lub `seaborn` do stworzenia wykresu punktowego (scatter plot)."
      ],
      "metadata": {
        "id": "BB_rxJJnuHNV"
      }
    },
    {
      "cell_type": "code",
      "source": [
        "# Wpisz swój kod poniżej\n"
      ],
      "metadata": {
        "id": "-6s7yg4YuGae"
      },
      "execution_count": null,
      "outputs": []
    },
    {
      "cell_type": "markdown",
      "source": [
        "# 6. Wykorzystaj szablon dostępny poniżej do wyświetlenia wielu wykresów, aby wyświetlić zależność `Performace Index` od danych z pozostałych kolumn. Zastanów się czy widać wpływ danej zmiennej na wartośc `Performance Index`.\n",
        "\n",
        "Dokumentacja i przykłady dla `subplot` dostępne są [na stronie matplotlib](https://matplotlib.org/stable/gallery/subplots_axes_and_figures/subplots_demo.html)."
      ],
      "metadata": {
        "id": "PP7gXn67tX21"
      }
    },
    {
      "cell_type": "code",
      "source": [
        "# Uzupełnij kod poniżej\n",
        "import matplotlib.pyplot as plt\n",
        "\n",
        "fig, axes = plt.subplots(nrows=2, ncols=2, figsize=(15, 10))\n",
        "## Przykład\n",
        "# axes[0, 0].plot(X_train['Previous Scores'], y_train, 'o')\n",
        "# axes[0, 0].set_xlabel('Previous Scores')\n",
        "# axes[0, 0].set_ylabel('Performance Index')\n",
        "# axes[0, 0].set_title('Zależność pomiędzy Previous Scores i Performance Index')"
      ],
      "metadata": {
        "id": "od7BrlZCvWoC"
      },
      "execution_count": null,
      "outputs": []
    },
    {
      "cell_type": "markdown",
      "source": [
        "# 7. Wykonaj prostą regresję liniową, wykorzystując poprzednie wyniki (`Previous Scores`) do przewidzenia zmiennej docelowej `Performance Index`. Skorzystaj z modelu `LinearRegression` z scikit-learn. Następnie sprawdź swój model na zbiorze walidacyjnym i wyświetl w formie wykresu wartości rzeczywiste i wartości przewidziane przez model (wykorzystaj do tego różne kolory).\n",
        "\n",
        "**W nazwie modelu dodaj jakieś oznaczene jego typu (np. `model_lr`), bo w późniejszych zadaniach będziemy chcieli porównać różne modele**"
      ],
      "metadata": {
        "id": "NV8QZbAjw9QU"
      }
    },
    {
      "cell_type": "code",
      "source": [
        "# Wpisz swój kod poniżej\n",
        "from sklearn.linear_model import LinearRegression\n"
      ],
      "metadata": {
        "id": "7i0kM0W7wKgd"
      },
      "execution_count": null,
      "outputs": []
    },
    {
      "cell_type": "markdown",
      "source": [
        "# 8. Ponownie wykonaj regresję liniową, ale tym razem wykorzystaj model `DecisionTreeRegressor`. Wykorzystaj poprzednie wyniki (`Previous Scores`) do przewidzenia zmiennej docelowej `Performance Index`, a potem znowu zrób wykres w celu porównania.\n",
        "\n",
        "**W nazwie modelu dodaj jakieś oznaczene jego typu (np. `model_dt`), bo w późniejszych zadaniach będziemy chcieli porównać różne modele**"
      ],
      "metadata": {
        "id": "VX0keW5Pyy4J"
      }
    },
    {
      "cell_type": "code",
      "source": [
        "# Wpisz swój kod poniżej\n",
        "from sklearn.tree import DecisionTreeRegressor\n"
      ],
      "metadata": {
        "id": "dNl9dzD9xOUK"
      },
      "execution_count": null,
      "outputs": []
    },
    {
      "cell_type": "markdown",
      "source": [
        "## Zbadaj, jak głębokość drzewa (parametr `max_depth`) wpływa na predykcję."
      ],
      "metadata": {
        "id": "7oGaKLK1_6qK"
      }
    },
    {
      "cell_type": "code",
      "source": [
        "# Wpisz swój kod poniżej\n"
      ],
      "metadata": {
        "id": "KTXdgoEDAELe"
      },
      "execution_count": null,
      "outputs": []
    },
    {
      "cell_type": "markdown",
      "source": [
        "# 9. W tym zadaniu zaimplementuj regresję liniową bazując na modelu `RandomForestRegressor`. Wykorzystaj kolumnę z poprzednimi wynikami (`Previous Scores`) do przewidzenia zmiennej docelowej `Performance Index`, a potem jeszcze raz zrób wykres w celu porównania.\n",
        "\n",
        "**W nazwie modelu dodaj jakieś oznaczene jego typu (np. `model_rf`), bo w późniejszych zadaniach będziemy chcieli porównać różne modele**"
      ],
      "metadata": {
        "id": "6LWBMhpAAIeo"
      }
    },
    {
      "cell_type": "code",
      "source": [
        "# Wpisz swój kod poniżej\n",
        "from sklearn.ensemble import RandomForestRegressor\n"
      ],
      "metadata": {
        "id": "ODufqe0lAmU7"
      },
      "execution_count": null,
      "outputs": []
    },
    {
      "cell_type": "markdown",
      "source": [
        "## Eksperymentuj z liczbą drzew (`n_estimators`) i sprawdź czy zmieniają się predykowane wartości."
      ],
      "metadata": {
        "id": "WgNg3a-PBVnn"
      }
    },
    {
      "cell_type": "code",
      "source": [
        "# Wpisz swój kod poniżej\n"
      ],
      "metadata": {
        "id": "oBA8c5TQBhUu"
      },
      "execution_count": null,
      "outputs": []
    },
    {
      "cell_type": "markdown",
      "source": [
        "# 10. Ostatni model, który dzisiaj poznamy wykorzystuje Support Vector Machine (SVM). Wykorzystaj model `SVR`, aby zaimplementować regresję liniową. Wykorzystaj kolumnę z poprzednimi wynikami (`Previous Scores`) do przewidzenia zmiennej docelowej `Performance Index`, a potem jeszcze raz zrób wykres w celu porównania.\n",
        "\n",
        "**W nazwie modelu dodaj jakieś oznaczene jego typu (np. `model_svm`), bo w późniejszych zadaniach będziemy chcieli porównać różne modele**"
      ],
      "metadata": {
        "id": "CRMjtrOUBsBp"
      }
    },
    {
      "cell_type": "code",
      "source": [
        "# Wpisz swój kod poniżej\n",
        "from sklearn.svm import SVR\n"
      ],
      "metadata": {
        "id": "rmtHVxppCJ6F"
      },
      "execution_count": null,
      "outputs": []
    },
    {
      "cell_type": "markdown",
      "source": [
        "## Zbadaj, jak różne jądra (`kernel`) wpływają na predykcję.\n",
        "\n",
        "Do wyboru są:\n",
        "- liniowy (`linear`),\n",
        "- wielomianowy (`poly`),\n",
        "- RBF - funkcja bazowa radialna (`rbf`),\n",
        "- sigmoidalny (`sigmoid`)."
      ],
      "metadata": {
        "id": "rCz1ZADECYrO"
      }
    },
    {
      "cell_type": "code",
      "source": [
        "# Wpisz swój kod poniżej\n"
      ],
      "metadata": {
        "id": "4IndkTUcC51B"
      },
      "execution_count": null,
      "outputs": []
    },
    {
      "cell_type": "markdown",
      "source": [
        "# 11. Porównaj wyniki poszczególnych modeli na zbiorze testowym. Jako metrykę przyjmij błąd średnio-kwadratowy `mean_squared_error`. Który model uzyskał najlepszy wynik, a który najgorszy? Czy na podstawie przebiegów z poprzednich zadań można było się spodziewać takich wyników?"
      ],
      "metadata": {
        "id": "wFC9C2XIC7x3"
      }
    },
    {
      "cell_type": "code",
      "source": [
        "# Wpisz swój kod poniżej\n",
        "from sklearn.metrics import mean_squared_error\n"
      ],
      "metadata": {
        "id": "yfG-wR-gDpGX"
      },
      "execution_count": null,
      "outputs": []
    },
    {
      "cell_type": "markdown",
      "source": [
        "# 12. Dotychczas wykorzystywaliśmy dane z zaledwie jednej kolumny. Utwórz 4 nowe modele (po jednym każdego typu), ale tym razem wykorzystaj cały zbiór treningowy podczas uczenia (`fit`). Następnie ponownie oblicz wartość błędu średnio-kwadratowego na zbiorze testowym i porównaj z wynikami z poprzedniego zadania. Czy wyniki są lepsze?"
      ],
      "metadata": {
        "id": "_I6EL1IgD-f2"
      }
    },
    {
      "cell_type": "code",
      "source": [
        "# Wpisz swój kod poniżej\n"
      ],
      "metadata": {
        "id": "hgPqf7ZFEOa8"
      },
      "execution_count": null,
      "outputs": []
    },
    {
      "cell_type": "markdown",
      "source": [
        "# 13. Przetestuj czy jesteś w stanie utworzyć lepszy model - możesz sprawdzić różne wartości parametrów jak we wcześniejszych zadaniach lub różne kombinacje wykorzystywanych kolumn przy uczeniu modeli. Po zakończeniu prześlij najlepszy uzyskany wynik wraz z nazwami wykorzystanych kolumn i wartościami poszczególnych parametrów najlepszego modelu."
      ],
      "metadata": {
        "id": "Bus_Noi-EODr"
      }
    },
    {
      "cell_type": "code",
      "source": [
        "# Wpisz swój kod poniżej\n"
      ],
      "metadata": {
        "id": "AxEJxLUyGj_c"
      },
      "execution_count": null,
      "outputs": []
    }
  ]
}