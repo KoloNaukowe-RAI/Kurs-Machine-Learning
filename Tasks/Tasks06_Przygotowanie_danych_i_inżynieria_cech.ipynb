{
  "cells": [
    {
      "cell_type": "markdown",
      "metadata": {
        "id": "r8R9XC9Dirp2"
      },
      "source": [
        "# Zadania do tematu \"Przygotowanie danych i inżynieria cech\"\n",
        "\n",
        "W tym Notebooku znajdują się zadania do tematu \"Przygotowanie danych i inżynieria cech\", które mają na celu pokazać co można zrobić przed wykorzystaniem danych w uczeniu maszynowym."
      ]
    },
    {
      "cell_type": "markdown",
      "metadata": {
        "id": "YdOM0Ld-i9qk"
      },
      "source": [
        "# Zbiór danych\n",
        "\n",
        "Będziemy korzystać ze zbioru danych \"TMDB Movies Dataset\" dostępnego pod linkiem https://www.kaggle.com/datasets/ahsanaseer/top-rated-tmdb-movies-10k. Jeżeli ktoś ma konto na Kaggle to może pobrać dane w postaci `.csv` z tej platformy, a w innym przypadku można pobrać odpowiedni plik `.csv` z repozytorium do kursu (w folderze z zadaniami `Tasks` jest podfolder `dane`, a w nim plik `top10K-TMDB-movies.csv`).\n",
        "\n",
        "Zbiór danych zawiera informacje na temat 10000 filmów, które miały najwyższe oceny przed 26.07.2022.\n",
        "\n",
        "Opis poszczególnych kolumn:\n",
        "- `ID` : Numer ID filmu na stronie internetowej.\n",
        "- `title`: Nazwa filmu.\n",
        "- `genre`: Gatunek filmu (kryminał, przygodowy, itp.).\n",
        "- `original_language`: Oryginalny język, w którym film został wydany.\n",
        "- `overview`: Streszczenie fabuły filmu.\n",
        "- `popularity`: Popularność filmu.\n",
        "- `release_date`: Data premiery filmu.\n",
        "- `vote_average`: Średnia ocena filmu.\n",
        "- `vote_count`: Liczba oddanych głosów na film.\n",
        "\n",
        "Dane z kolumny `vote_average` potraktujemy jako wartości, którą chcemy predykować."
      ]
    },
    {
      "cell_type": "markdown",
      "metadata": {
        "id": "ebOjBxR4kciS"
      },
      "source": [
        "# 1. Wczytaj dane z pliku do postaci pandas DataFrame. Następnie wykorzystaj head(), żeby wyświetlić pierwsze 5 wierszy."
      ]
    },
    {
      "cell_type": "code",
      "execution_count": 1,
      "metadata": {
        "id": "hd-W06-EiMq-"
      },
      "outputs": [],
      "source": [
        "import pandas as pd\n",
        "# Wpisz swój kod poniżej\n"
      ]
    },
    {
      "cell_type": "markdown",
      "metadata": {
        "id": "qUYj9LKQlWta"
      },
      "source": [
        "# 2. Podziel zbiór danych na wartość poszukiwaną `y` i dane `X`. Następnie podziel dane na zbiór treningowy, walidacyjny i testowy w stosunku 80:10:10. Użyj random_state=42"
      ]
    },
    {
      "cell_type": "code",
      "execution_count": 2,
      "metadata": {
        "id": "WPu1zGr3l_os"
      },
      "outputs": [],
      "source": [
        "from sklearn.model_selection import train_test_split\n",
        "# Wpisz swój kod poniżej\n"
      ]
    },
    {
      "cell_type": "markdown",
      "metadata": {
        "id": "ayS6ktOtkm7S"
      },
      "source": [
        "# 3. Wyświetl typy danych w każdej kolumnie oraz statystyki poszczególnych kolumn w zbiorze treningowym, walidacyjnym i testowym.\n",
        "\n",
        "Czy wszystkie filmy mają wartości w każdej kolumnie?"
      ]
    },
    {
      "cell_type": "code",
      "execution_count": 3,
      "metadata": {
        "id": "HAld2AsOkgWk"
      },
      "outputs": [],
      "source": [
        "# Wpisz swój kod poniżej\n"
      ]
    },
    {
      "cell_type": "markdown",
      "metadata": {
        "id": "Wo56x4wMnfWI"
      },
      "source": [
        "# 4. Pierwszą czynnością po uzyskaniu danych jest analiza, które kolumny mogą nam się przydać i w jakiej formie to powinno być. Data wydania filmu jest w formie `object`, więc zamień dane z kolumny `release_date` na typ `datetime`, aby ułatwić jej wykorzystanie.\n",
        "\n",
        "Nadpisz obecną kolumnę `release_date` we wszystkich zbiorach (treningowym, walidacyjnym i testowym). Do zamiany możesz wykorzystać `pd.to_datetime`"
      ]
    },
    {
      "cell_type": "code",
      "execution_count": 4,
      "metadata": {
        "id": "_1aXkuRAntlz"
      },
      "outputs": [],
      "source": [
        "# Wpisz swój kod poniżej\n"
      ]
    },
    {
      "cell_type": "markdown",
      "metadata": {
        "id": "Ffp7jVyGnFkS"
      },
      "source": [
        "# 5. Wypisz unikalne kategorie filmów w zbiorze treningowym `genre` i oryginalne języki `original_language`. Czy widzisz pewien problem z obecną formą kategorii filmów?\n",
        "\n",
        "**Podpowiedź:** możesz ustawić parametry, aby zmienić liczbę wyświetlanych w konsoli wartości. Dla `numpy` możesz wykorzystać\n",
        "```Python\n",
        "import numpy as np\n",
        "np.set_printoptions(threshold=np.inf)\n",
        "```"
      ]
    },
    {
      "cell_type": "code",
      "execution_count": 5,
      "metadata": {
        "id": "GhxoeveVo67X"
      },
      "outputs": [],
      "source": [
        "# Wpisz swój kod poniżej\n"
      ]
    },
    {
      "cell_type": "markdown",
      "metadata": {
        "id": "pdE5633zqX54"
      },
      "source": [
        "# 6. Zacznijmy od pozyskania dodatkowych informacji z kategorii danego filmu. Obecnie wszystkie typy są oddzielane od siebie przecinkami w jednym stringu, co dla nas powoduje powstanie olbrzymiej ilości różnych wartości (dlatego nie miałoby sensu nadawać im teraz wartości liczbowej) - dodatkowo nie ma zachowanej kolejności, więc możesz sprawdzić, że są filmy otagowane jako `'Action,Comedy'` i `'Comedy,Action'`."
      ]
    },
    {
      "cell_type": "markdown",
      "metadata": {
        "id": "Kja015d9rrfv"
      },
      "source": [
        "## 6.1. Jeżeli w poprzednim zadaniu nie zapisałeś unikalnych wartości kategorii filmów do zmiennej to zrób to teraz. Następnie podziel wszystkie stringi w miejscu wystąpienia przecinka i utwórz listę unikalnych wartości.\n",
        "\n",
        "Ile unikalnych kategorii istnieje?"
      ]
    },
    {
      "cell_type": "code",
      "execution_count": 6,
      "metadata": {
        "id": "MQmsd5XLsGuY"
      },
      "outputs": [],
      "source": [
        "# Wpisz swój kod poniżej\n"
      ]
    },
    {
      "cell_type": "markdown",
      "metadata": {
        "id": "m7A-R9i0vqfX"
      },
      "source": [
        "Jak widzisz, udało nam się w ten sposób bardzo zredukować liczbę unikalnych kategorii filmowych. Ale co dalej? Czy zmapowanie tych wartości i następnie sumowanie, gdy film ma więcej niż 1 kategorię byłoby miarodajne? No raczej nie, dlatego wykorzystamy `one-hot encoding`. Na czym to polega? W naszym przypadku traktujemy każdy film jako wektor, który przechowuje wartości binarne - 0 lub 1, które oznaczają czy dany film należy do pewnej kategorii (wtedy 1) lub nie należy (to wtedy 0)."
      ]
    },
    {
      "cell_type": "markdown",
      "metadata": {
        "id": "GOdwIahGvsVE"
      },
      "source": [
        "Zwróć uwagę, że pojawiła się wartość `nan` w liście unikalnych kategorii. Wynika ona z tego, że dany film nie miał zdefiniowanych kategorii. Później zobaczymy jakie są techniki uzupełniania brakujących danych."
      ]
    },
    {
      "cell_type": "markdown",
      "metadata": {
        "id": "RnyQj1l9zueG"
      },
      "source": [
        "Ze względu na brakujące wartości należy albo sprawdzać czy wartość z `row[\"genre\"]` jest typu `float` i wtedy ustawiać kolumnę `[\"genre_nan\"]` na 1 lub konwertować wartości z tej kolumny na `string` i traktować wszystkie wartości równo."
      ]
    },
    {
      "cell_type": "markdown",
      "metadata": {
        "id": "RkmQ7pKGg7zq"
      },
      "source": [
        "## 6.2. Utwórz kolumnę `\"number_of_genres\"`, w której umieścisz liczbę kategorii danego filmu.\n",
        "\n",
        "**Podpowiedź**: możesz wykorzystać `.str.count('znak')`, żeby policzyć wystąpienia danego znaku, np. `df['kolumna_1'].str.count('a')` zwróci liczbę wystąpień litery `a` w kolumnie `kolumna_1`."
      ]
    },
    {
      "cell_type": "code",
      "execution_count": 7,
      "metadata": {
        "id": "fr2B8-dnhQLe"
      },
      "outputs": [],
      "source": [
        "# Wpisz swój kod poniżej\n"
      ]
    },
    {
      "cell_type": "markdown",
      "metadata": {
        "id": "XhasIa7buaPI"
      },
      "source": [
        "## 6.3. Przeprowadź one-hot encodding, tak aby powstały nowe kolumny odpowiadające kategoriom filmów.\n",
        "\n",
        "**Podpowiedź**: możesz wykorzystać `.str.get_dummies(sep=',')`, które utworzy nowy dataframe i wypełni kolumny dla poszczególnych wartości, które mogą być oddzielone od siebie przecinkami. Do łączenia DataFrames służy `.join`.\n",
        "\n",
        "Na koniec sprawdź przy pomocy `describe()` jakie są wartości w poszczególnych kolumnach."
      ]
    },
    {
      "cell_type": "code",
      "execution_count": 8,
      "metadata": {
        "id": "PziWDQ_kvqM7"
      },
      "outputs": [],
      "source": [
        "# Wpisz swój kod poniżej\n"
      ]
    },
    {
      "cell_type": "markdown",
      "metadata": {
        "id": "kCIjuij6miEw"
      },
      "source": [
        "# 7. Teraz przejdźmy do tego w jakim języku powstał film. Wykorzystaj metodę `.value_counts()`, aby wypisać liczbę filmów w poszczególnym języku."
      ]
    },
    {
      "cell_type": "code",
      "execution_count": 9,
      "metadata": {
        "id": "FAW8tJV2pfp_"
      },
      "outputs": [],
      "source": [
        "# Wpisz swój kod poniżej\n"
      ]
    },
    {
      "cell_type": "markdown",
      "metadata": {
        "id": "r4Y5IohQrG6Q"
      },
      "source": [
        "## 7.1 Jak widzisz większość filmów jest w języku angielskim, dlatego przy podziale na grupy nie włączymy angielskiego do grupy europejskiej, aby nie wpływał on na inne języki (inne języki stanowiłyby wówczas mniejszość). Propozycja podziału na grupy językowe jest umieszczona poniżej. Na tej podstawie utwórz nową kolumnę (jeżeli w zbiorze testowym lub walidacyjnym są inne języki to dodaj je do \"Other\"), a następnie wykorzystaj `LabelEncoder`, żeby zamienić nazwę grupy na wartość liczbową (zapisz je do kolumny `'language_group_enc'`)"
      ]
    },
    {
      "cell_type": "code",
      "execution_count": 10,
      "metadata": {
        "id": "GLi3bjyKr7GR"
      },
      "outputs": [],
      "source": [
        "# Uruchom ten fragment kodu\n",
        "language_groups = {\n",
        "    \"en\": [\"en\"],\n",
        "    \"fr\": [\"fr\"],\n",
        "    \"it\": [\"it\"],\n",
        "    \"ja\": [\"ja\"],\n",
        "    \"es\": [\"es\"],\n",
        "    \"European\": [\"de\", \"nl\", \"sv\", \"da\", \"no\", \"pl\", \"hu\", \"fi\", \"cs\", \"is\", \"et\", \"sh\", \"ru\", \"bs\", \"uk\", \"ro\"],\n",
        "    \"Asian\": [\"ko\", \"cn\", \"zh\", \"hi\", \"th\", \"id\", \"tr\", \"fa\", \"te\", \"bn\", \"ab\", \"ml\"],\n",
        "    \"Other\": [\"pt\", \"af\", \"ar\", \"xx\", \"la\"]\n",
        "}"
      ]
    },
    {
      "cell_type": "code",
      "execution_count": 11,
      "metadata": {
        "id": "6WKXfJWAurzi"
      },
      "outputs": [],
      "source": [
        "# Wpisz swój kod poniżej\n"
      ]
    },
    {
      "cell_type": "code",
      "execution_count": 12,
      "metadata": {},
      "outputs": [],
      "source": [
        "from sklearn.preprocessing import LabelEncoder\n",
        "# Wpisz swój kod poniżej\n"
      ]
    },
    {
      "cell_type": "markdown",
      "metadata": {
        "id": "EimsXP79peFL"
      },
      "source": [
        "# 8. Następnym krokiem na naszej liście jest praca na wartościach liczbowych. Utwórz 2 nowe kolumny: `vote_count_scaled` oraz `vote_count_standardized`, w których będą dane po odpowiednio: `MinMaxScaler` i `StandardScaler` z biblioteki `sklearn.preprocessing`.\n",
        "\n",
        "**Pamiętaj, że na zbiorze treningowym należy wykorzystać `fit_transform`, a na pozostałych zbiorach `transform`, bo na zbiorze treningowym dopasowujemy skaler, a następnie tylko go wykorzystujemy do przeskalowania.**\n",
        "\n",
        "MinMaxScaler przeskalowuje dane do zakresu [0;1], a StandardScaler skaluje tak, aby wartość średnia wynosiła 0, a odchylenie standardowe 1."
      ]
    },
    {
      "cell_type": "code",
      "execution_count": 13,
      "metadata": {
        "id": "A6j3SFP-wzHD"
      },
      "outputs": [],
      "source": [
        "from sklearn.preprocessing import MinMaxScaler, StandardScaler\n",
        "# Wpisz swój kod poniżej\n"
      ]
    },
    {
      "cell_type": "markdown",
      "metadata": {
        "id": "KTSFr8sozC50"
      },
      "source": [
        "# 9. Wyświetl histogramy dla każdej z 3 kolumn: `\"vote_count\"`, `\"vote_count_scaled\"` i `\"vote_count_standardized\"`. Zmień liczbę wyświetlanych przedziałów (bins) na 20. Następnie wykorzystaj `vote_count_standardized` i utwórz `vote_count_binned_w` oraz `vote_count_binned_c`, które odpowiednio będą miały podział na 20 binów o równej długości i 20 binów o równej liczebności.\n",
        "\n",
        "Do utworzenia \"binów\" o równej szerokości możesz wykorzystać `pd.cut`, a o równej ilości próbek `pd.qcut`.\n",
        "\n",
        "**Podpowiedź:** do utworzenia labeli od 0 do 19 możesz wykorzystać `range(20)`."
      ]
    },
    {
      "cell_type": "code",
      "execution_count": 14,
      "metadata": {
        "id": "4-0oLriwzbgR"
      },
      "outputs": [],
      "source": [
        "import matplotlib.pyplot as plt\n",
        "# Wpisz swój kod poniżej\n"
      ]
    },
    {
      "cell_type": "markdown",
      "metadata": {
        "id": "3C9qTypbRIxz"
      },
      "source": [
        "# 10. Teraz przetestujemy dodawanie brakujących wartości. Wiemy, że w `\"genre\"` pojawiały się braki, więc spróbujemy dodać informację o ilości kategorii dla tych filmów, w których brakuje danych. Ze względu na to, że przy liczeniu kategorii mogło policzyć \"NaN\" jako typ filmu, to dla bezpieczeństwa ustawimy ilość kategorii w tych wierszach na `None` (zamiast tego może być dowolna wartość, byle była unikalna).\n",
        "\n",
        "Przykład:\n",
        "```Python\n",
        "X_train.loc[X_train['genre'].isna(), 'number_of_genres'] = None\n",
        "```"
      ]
    },
    {
      "cell_type": "code",
      "execution_count": 15,
      "metadata": {
        "id": "JroQHM_FVit8"
      },
      "outputs": [],
      "source": [
        "# Wpisz swój kod poniżej\n"
      ]
    },
    {
      "cell_type": "markdown",
      "metadata": {
        "id": "TDqfKk0xWhq3"
      },
      "source": [
        "Powyższy krok jest wykonany tylko dlatego, że mogły się tam pojawić wcześniej wartości, które nie powinny (w końcu NaN to nie kategoria filmowa). W rzeczywistości może być tak, że dane zamiast `None` albo `NaN` są wartości, które na pewno są błędne, np. gdyby po badaniach lekarskich okazało się, że ktoś ma wzrost 0 cm to ewidentnie coś jest nie tak."
      ]
    },
    {
      "cell_type": "markdown",
      "metadata": {
        "id": "MRko2zT0VwuG"
      },
      "source": [
        "# 11. Przetestuj metody na uzupełnianie braków w danych: różne sposoby dostępne dzięki `SimpleImputer` oraz `IterativeImputer` i `KNNImputer`. Po sprawdzeniu metody pamiętaj, żeby na nowo \"usunąć\" dane przy pomocy wcześniejszej komórki z kodem.\n",
        "\n",
        "**Pamiętaj, że na zbiorze treningowym należy wykorzystać `fit_transform`, a na pozostałych zbiorach `transform`**.\n",
        "\n",
        "Przykłady imputerów:\n",
        "```Python\n",
        "imputer_mean = SimpleImputer(strategy='mean')\n",
        "imputer_median = SimpleImputer(strategy='median')\n",
        "imputer_most_frequent = SimpleImputer(strategy='most_frequent')\n",
        "imputer_const = SimpleImputer(strategy='constant', fill_value=0)\n",
        "iter_imputer = IterativeImputer()\n",
        "knn_imputer = KNNImputer(n_neighbors=9)\n",
        "```"
      ]
    },
    {
      "cell_type": "code",
      "execution_count": 16,
      "metadata": {
        "id": "I_Bw5JUHXuJO"
      },
      "outputs": [],
      "source": [
        "from sklearn.experimental import enable_iterative_imputer\n",
        "from sklearn.impute import IterativeImputer, KNNImputer, SimpleImputer\n",
        "# Wpisz swój kod poniżej\n"
      ]
    },
    {
      "cell_type": "markdown",
      "metadata": {
        "id": "k6zjKGIsarp8"
      },
      "source": [
        "# 12. Utwórz kolumną `age`, w której będzie wiek filmu w latach. Wiek oblicz względem daty, kiedy dane zostały zebrane czyli 26.07.2022."
      ]
    },
    {
      "cell_type": "code",
      "execution_count": 17,
      "metadata": {
        "id": "O4xi7w2wbT8c"
      },
      "outputs": [],
      "source": [
        "# Wpisz swój kod poniżej\n"
      ]
    },
    {
      "cell_type": "markdown",
      "metadata": {
        "id": "DnhLQgEiYgPV"
      },
      "source": [
        "# 13. Utwórz model regresji z wykorzystaniem `RandomForestRegressor`, aby predykować jaka jest średnia ocena filmu. Jako metrykę wykorzystać MSE, a jako argument konstruktora podaj `random_state=42`. Porównaj wynik uzyskany dla kolumn `['vote_count', 'popularity']`, które dostępne były po wczytaniu datasetu oraz dla `['number_of_genres', 'vote_count_scaled', 'age', 'lang_group_en']`, nad którymi pracowaliśmy."
      ]
    },
    {
      "cell_type": "code",
      "execution_count": 18,
      "metadata": {
        "id": "wSL13tZUYOuE"
      },
      "outputs": [],
      "source": [
        "from sklearn.ensemble import RandomForestRegressor\n",
        "from sklearn.metrics import mean_squared_error\n",
        "# Wpisz swój kod poniżej\n"
      ]
    },
    {
      "cell_type": "markdown",
      "metadata": {
        "id": "tGwy3CHZlDUJ"
      },
      "source": [
        "# 14. Teraz wypróbujmy co się stanie jak dodamy wszystkie utworzone przez nas kolumny.\n",
        "\n",
        "```Python\n",
        "all_usable_columns = ['number_of_genres', 'Action',\n",
        "                      'Adventure', 'Animation', 'Comedy', 'Crime', 'Drama',\n",
        "                      'Family', 'Fantasy', 'History', 'Horror', 'Music', 'Mystery',\n",
        "                      'Romance', 'Science Fiction', 'TV Movie', 'Thriller', 'War',\n",
        "                      'Western', 'language_group_enc', 'vote_count_binned_w', 'age']\n",
        "```"
      ]
    },
    {
      "cell_type": "code",
      "execution_count": 19,
      "metadata": {
        "id": "oQbosNXicgIA"
      },
      "outputs": [],
      "source": [
        "# Wpisz swój kod poniżej\n"
      ]
    },
    {
      "cell_type": "markdown",
      "metadata": {
        "id": "4WZtEZZEeEdk"
      },
      "source": [
        "Czy dodanie większej liczby kolumn poprawiło wynik?\n",
        "\n",
        "Niestety, czasami może się zdarzyć, że dodanie większej liczby kolumn nie musi prowadzić do poprawy modelu. Aby uzyskać jak najlepszy model konieczne jest odpowiednie dobranie jego parametrów oraz właśnie przygotowanie danych, co może był procesem zajmującym sporo czasu."
      ]
    },
    {
      "cell_type": "markdown",
      "metadata": {
        "id": "6n_EKzLmfA7V"
      },
      "source": [
        "# 15. Freestyle. Spróbuj stworzyć model, który uzyska lepszy model niż te z wcześniejszych zadań. Możesz wypróbować inne zestawy kolumn, spróbować dodać nowe kolumny (np. długość opisu), inne rodzaje regresji lub zmiany parametrów modelu. Zapisz najlepszy wynik MSE, rodzaj regresji i parametry modelu oraz wykorzystane kolumny i je prześlij.\n",
        "\n",
        "Jedyne zasady:\n",
        "- musi być ustawiony `random_state = 42`,\n",
        "- jako metryka wykorzystane musi być `mean_squared_error`,\n",
        "- do uczenia wykorzystać należy zbiór treningowy, a nie walidacyjny lub testowy."
      ]
    },
    {
      "cell_type": "code",
      "execution_count": 20,
      "metadata": {
        "id": "qi8wdnm5iAE4"
      },
      "outputs": [],
      "source": [
        "# Wpisz swój kod poniżej\n"
      ]
    }
  ],
  "metadata": {
    "colab": {
      "provenance": []
    },
    "kernelspec": {
      "display_name": ".venv",
      "language": "python",
      "name": "python3"
    },
    "language_info": {
      "codemirror_mode": {
        "name": "ipython",
        "version": 3
      },
      "file_extension": ".py",
      "mimetype": "text/x-python",
      "name": "python",
      "nbconvert_exporter": "python",
      "pygments_lexer": "ipython3",
      "version": "3.11.11"
    }
  },
  "nbformat": 4,
  "nbformat_minor": 0
}
