{
  "nbformat": 4,
  "nbformat_minor": 0,
  "metadata": {
    "colab": {
      "provenance": []
    },
    "kernelspec": {
      "name": "python3",
      "display_name": "Python 3"
    },
    "language_info": {
      "name": "python"
    }
  },
  "cells": [
    {
      "cell_type": "markdown",
      "source": [
        "# Zadania do tematu \"Przygotowanie danych i inżynieria cech\"\n",
        "\n",
        "W tym Notebooku znajdują się zadania do tematu \"Przygotowanie danych i inżynieria cech\", które mają na celu pokazać co można zrobić przed wykorzystaniem danych w uczeniu maszynowym."
      ],
      "metadata": {
        "id": "r8R9XC9Dirp2"
      }
    },
    {
      "cell_type": "markdown",
      "source": [
        "# Zbiór danych\n",
        "\n",
        "Będziemy korzystać ze zbioru danych \"TMDB Movies Dataset\" dostępnego pod linkiem https://www.kaggle.com/datasets/ahsanaseer/top-rated-tmdb-movies-10k. Jeżeli ktoś ma konto na Kaggle to może pobrać dane w postaci `.csv` z tej platformy, a w innym przypadku można pobrać odpowiedni plik `.csv` z repozytorium do kursu (w folderze z zadaniami `Tasks` jest podfolder `dane`, a w nim plik `top10K-TMDB-movies.csv`).\n",
        "\n",
        "Zbiór danych zawiera informacje na temat 10000 filmów, które miały najwyższe oceny przed 26.07.2022.\n",
        "\n",
        "Opis poszczególnych kolumn:\n",
        "- `ID` : Numer ID filmu na stronie internetowej.\n",
        "- `title`: Nazwa filmu.\n",
        "- `genre`: Gatunek filmu (kryminał, przygodowy, itp.).\n",
        "- `original_language`: Oryginalny język, w którym film został wydany.\n",
        "- `overview`: Streszczenie fabuły filmu.\n",
        "- `popularity`: Popularność filmu.\n",
        "- `release_date`: Data premiery filmu.\n",
        "- `vote_average`: Średnia ocena filmu.\n",
        "- `vote_count`: Liczba oddanych głosów na film.\n",
        "\n",
        "Dane z kolumny `vote_average` potraktujemy jako wartości, którą chcemy predykować."
      ],
      "metadata": {
        "id": "YdOM0Ld-i9qk"
      }
    },
    {
      "cell_type": "markdown",
      "source": [
        "# 1. Wczytaj dane z pliku do postaci pandas DataFrame. Następnie wykorzystaj head(), żeby wyświetlić pierwsze 5 wierszy."
      ],
      "metadata": {
        "id": "ebOjBxR4kciS"
      }
    },
    {
      "cell_type": "code",
      "execution_count": null,
      "metadata": {
        "id": "hd-W06-EiMq-"
      },
      "outputs": [],
      "source": [
        "# Wpisz swój kod poniżej\n"
      ]
    },
    {
      "cell_type": "markdown",
      "source": [
        "# 2. Podziel zbiór danych na wartość poszukiwaną `y` i dane `X`. Następnie podziel dane na zbiór treningowy, walidacyjny i testowy w stosunku 80:10:10. Użyj random_state=42"
      ],
      "metadata": {
        "id": "qUYj9LKQlWta"
      }
    },
    {
      "cell_type": "code",
      "source": [
        "# Wpisz swój kod poniżej\n"
      ],
      "metadata": {
        "id": "WPu1zGr3l_os"
      },
      "execution_count": null,
      "outputs": []
    },
    {
      "cell_type": "markdown",
      "source": [
        "# 3. Wyświetl typy danych w każdej kolumnie oraz statystyki poszczególnych kolumn w zbiorze treningowym, walidacyjnym i testowym.\n",
        "\n",
        "Czy wszystkie filmy mają wartości w każdej kolumnie?"
      ],
      "metadata": {
        "id": "ayS6ktOtkm7S"
      }
    },
    {
      "cell_type": "code",
      "source": [
        "# Wpisz swój kod poniżej\n"
      ],
      "metadata": {
        "id": "HAld2AsOkgWk"
      },
      "execution_count": null,
      "outputs": []
    },
    {
      "cell_type": "markdown",
      "source": [
        "# 4. Pierwszą czynnością po uzyskaniu danych jest analiza, które kolumny mogą nam się przydać i w jakiej formie to powinno być. Data wydania filmu jest w formie `object`, więc zamień dane z kolumny `release_date` na typ `datetime`, aby ułatwić jej wykorzystanie.\n",
        "\n",
        "Nadpisz obecną kolumnę `release_date` we wszystkich zbiorach (treningowym, walidacyjnym i testowym)"
      ],
      "metadata": {
        "id": "Wo56x4wMnfWI"
      }
    },
    {
      "cell_type": "code",
      "source": [
        "# Wpisz swój kod poniżej\n"
      ],
      "metadata": {
        "id": "_1aXkuRAntlz"
      },
      "execution_count": null,
      "outputs": []
    },
    {
      "cell_type": "markdown",
      "source": [
        "# 5. Wypisz unikalne kategorie filmów w zbiorze treningowym `genre` i oryginalne języki `original_language`. Czy widzisz pewien problem z obecną formą kategorii filmów?\n",
        "\n",
        "**Podpowiedź:** możesz ustawić parametry, aby zmienić liczbę wyświetlanych w konsoli wartości. Dla `numpy` możesz wykorzystać\n",
        "```Python\n",
        "import numpy as np\n",
        "np.set_printoptions(threshold=np.inf)\n",
        "```"
      ],
      "metadata": {
        "id": "Ffp7jVyGnFkS"
      }
    },
    {
      "cell_type": "code",
      "source": [
        "# Wpisz swój kod poniżej\n"
      ],
      "metadata": {
        "id": "GhxoeveVo67X"
      },
      "execution_count": null,
      "outputs": []
    },
    {
      "cell_type": "markdown",
      "source": [
        "# 6. Zacznijmy od pozyskania dodatkowych informacji z kategorii danego filmu. Obecnie wszystkie typy są oddzielane od siebie przecinkami w jednym stringu, co dla nas powoduje powstanie olbrzymiej ilości różnych wartości (dlatego nie miałoby sensu nadawać im teraz wartości liczbowej) - dodatkowo nie ma zachowanej kolejności, więc możesz sprawdzić, że są filmy otagowane jako `'Action,Comedy'` i `'Comedy,Action'`."
      ],
      "metadata": {
        "id": "pdE5633zqX54"
      }
    },
    {
      "cell_type": "markdown",
      "source": [
        "## 6.1. Jeżeli w poprzednim zadaniu nie zapisałeś unikalnych wartości kategorii filmów do zmiennej to zrób to teraz. Następnie podziel wszystkie stringi w miejscu wystąpienia przecinka i utwórz listę unikalnych wartości.\n",
        "\n",
        "Ile unikalnych kategorii istnieje?"
      ],
      "metadata": {
        "id": "Kja015d9rrfv"
      }
    },
    {
      "cell_type": "code",
      "source": [
        "# Wpisz swój kod poniżej\n"
      ],
      "metadata": {
        "id": "MQmsd5XLsGuY"
      },
      "execution_count": null,
      "outputs": []
    },
    {
      "cell_type": "markdown",
      "source": [
        "Jak widzisz, udało nam się w ten sposób bardzo zredukować liczbę unikalnych kategorii filmowych. Ale co dalej? Czy zmapowanie tych wartości i następnie sumowanie, gdy film ma więcej niż 1 kategorię byłoby miarodajne? No raczej nie, dlatego wykorzystamy `one-hot encoding`. Na czym to polega? W naszym przypadku traktujemy każdy film jako wektor, który przechowuje wartości binarne - 0 lub 1, które oznaczają czy dany film należy do pewnej kategorii (wtedy 1) lub nie należy (to wtedy 0)."
      ],
      "metadata": {
        "id": "m7A-R9i0vqfX"
      }
    },
    {
      "cell_type": "markdown",
      "source": [
        "Zwróć uwagę, że pojawiła się wartość `nan` w liście unikalnych kategorii. Wynika ona z tego, że dany film nie miał zdefiniowanych kategorii. Później zobaczymy jakie są techniki uzupełniania brakujących danych."
      ],
      "metadata": {
        "id": "GOdwIahGvsVE"
      }
    },
    {
      "cell_type": "markdown",
      "source": [
        "Ze względu na brakujące wartości należy albo sprawdzać czy wartość z `row[\"genre\"]` jest typu `float` i wtedy ustawiać kolumnę `[\"genre_nan\"]` na 1 lub konwertować wartości z tej kolumny na `string` i traktować wszystkie wartości równo."
      ],
      "metadata": {
        "id": "RnyQj1l9zueG"
      }
    },
    {
      "cell_type": "markdown",
      "source": [
        "## 6.2. Utwórz kolumnę `\"number_of_genres\"`, w której umieścisz liczbę kategorii danego filmu.\n",
        "\n",
        "**Podpowiedź**: możesz wykorzystać `.str.count('znak')`, żeby policzyć wystąpienia danego znaku, np. `df['kolumna_1'].str.count('a')` zwróci liczbę wystąpień litery `a` w kolumnie `kolumna_1`."
      ],
      "metadata": {
        "id": "RkmQ7pKGg7zq"
      }
    },
    {
      "cell_type": "code",
      "source": [
        "# Wpisz swój kod poniżej\n"
      ],
      "metadata": {
        "id": "fr2B8-dnhQLe"
      },
      "execution_count": null,
      "outputs": []
    },
    {
      "cell_type": "markdown",
      "source": [
        "## 6.3. Przeprowadź one-hot encodding, tak aby powstały nowe kolumny odpowiadające kategoriom filmów.\n",
        "\n",
        "**Podpowiedź**: możesz wykorzystać `.str.get_dummies(sep=',')`, które utworzy nowy dataframe i wypełni kolumny dla poszczególnych wartości, które mogą być oddzielone od siebie przecinkami. Do łączenia DataFrames służy `.join`.\n",
        "\n",
        "Na koniec sprawdź przy pomocy `describe()` jakie są wartości w poszczególnych kolumnach."
      ],
      "metadata": {
        "id": "XhasIa7buaPI"
      }
    },
    {
      "cell_type": "code",
      "source": [
        "# Wpisz swój kod poniżej\n"
      ],
      "metadata": {
        "id": "PziWDQ_kvqM7"
      },
      "execution_count": null,
      "outputs": []
    },
    {
      "cell_type": "markdown",
      "source": [
        "# 7. Teraz przejdźmy do tego w jakim języku powstał film. Wykorzystaj metodę `.value_counts()`, aby wypisać liczbę filmów w poszczególnym języku."
      ],
      "metadata": {
        "id": "kCIjuij6miEw"
      }
    },
    {
      "cell_type": "code",
      "source": [
        "# Wpisz swój kod poniżej\n"
      ],
      "metadata": {
        "id": "FAW8tJV2pfp_"
      },
      "execution_count": null,
      "outputs": []
    },
    {
      "cell_type": "markdown",
      "source": [
        "## 7.1 Jak widzisz większość filmów jest w języku angielskim, dlatego przy podziale na grupy nie włączymy angielskiego do grupy europejskiej, aby nie wpływał on na inne języki (inne języki stanowiłyby wówczas mniejszość). Propozycja podziału na grupy językowe jest umieszczona poniżej. Na tej podstawie utwórz one-hot encodding na te 8 grup (jeżeli w zbiorze testowym lub walidacyjnym są inne języki to dodaj je do \"Other\")"
      ],
      "metadata": {
        "id": "r4Y5IohQrG6Q"
      }
    },
    {
      "cell_type": "code",
      "source": [
        "# Uruchom ten fragment kodu\n",
        "language_groups = {\n",
        "    \"en\": [\"en\"],\n",
        "    \"fr\": [\"fr\"],\n",
        "    \"it\": [\"it\"],\n",
        "    \"ja\": [\"ja\"],\n",
        "    \"es\": [\"es\"],\n",
        "    \"European\": [\"de\", \"nl\", \"sv\", \"da\", \"no\", \"pl\", \"hu\", \"fi\", \"cs\", \"is\", \"et\", \"sh\", \"ru\", \"bs\", \"uk\", \"ro\"],\n",
        "    \"Asian\": [\"ko\", \"cn\", \"zh\", \"hi\", \"th\", \"id\", \"tr\", \"fa\", \"te\", \"bn\", \"ab\", \"ml\"],\n",
        "    \"Other\": [\"pt\", \"af\", \"ar\", \"xx\", \"la\"]\n",
        "}"
      ],
      "metadata": {
        "id": "GLi3bjyKr7GR"
      },
      "execution_count": null,
      "outputs": []
    },
    {
      "cell_type": "code",
      "source": [
        "# Wpisz swój kod poniżej\n"
      ],
      "metadata": {
        "id": "6WKXfJWAurzi"
      },
      "execution_count": null,
      "outputs": []
    },
    {
      "cell_type": "markdown",
      "source": [
        "# 8. Następnym krokiem na naszej liście jest praca na wartościach liczbowych. Utwórz 2 nowe kolumny: `vote_count_scaled` oraz `vote_count_standardized`, w których będą dane po odpowiednio: `MinMaxScaler` i `StandardScaler` z biblioteki `sklearn.preprocessing`.\n",
        "\n",
        "**Pamiętaj, że na zbiorze treningowym należy wykorzystać `fit_transform`, a na pozostałych zbiorach `transform`, bo na zbiorze treningowym dopasowujemy skaler, a następnie tylko go wykorzystujemy do przeskalowania.**\n",
        "\n",
        "MinMaxScaler przeskalowuje dane do zakresu [0;1], a StandardScaler skaluje tak, aby wartość średnia wynosiła 0, a odchylenie standardowe 1."
      ],
      "metadata": {
        "id": "EimsXP79peFL"
      }
    },
    {
      "cell_type": "code",
      "source": [
        "# Wpisz swój kod poniżej\n"
      ],
      "metadata": {
        "id": "A6j3SFP-wzHD"
      },
      "execution_count": null,
      "outputs": []
    },
    {
      "cell_type": "markdown",
      "source": [
        "# 9. Wyświetl histogramy dla każdej z 3 kolumn: `\"vote_count\"`, `\"vote_count_scaled\"` i `\"vote_count_standardized\"`. Zmień liczbę wyświetlanych przedziałów (bins) na 20. Następnie wykorzystaj `vote_count_standardized` i utwórz `vote_count_binned_w` oraz `vote_count_binned_c`, które odpowiednio będą miały podział na 20 binów o równej długości i 20 binów o równej liczebności.\n",
        "\n",
        "**Podpowiedź:** do utworzenia labeli od 0 do 19 możesz wykorzystać `range(20)`."
      ],
      "metadata": {
        "id": "KTSFr8sozC50"
      }
    },
    {
      "cell_type": "code",
      "source": [
        "# Wpisz swój kod poniżej\n"
      ],
      "metadata": {
        "id": "4-0oLriwzbgR"
      },
      "execution_count": null,
      "outputs": []
    },
    {
      "cell_type": "markdown",
      "source": [
        "# 10. Teraz przetestujemy dodawanie brakujących wartości. Wiemy, że w `\"genre\"` pojawiały się braki, więc spróbujemy dodać informację o ilości kategorii dla tych filmów, w których brakuje danych. Ze względu na to, że przy liczeniu kategorii mogło policzyć \"NaN\" jako typ filmu, to dla bezpieczeństwa ustawimy ilość kategorii w tych wierszach na `None` (zamiast tego może być dowolna wartość, byle była unikalna).\n",
        "\n",
        "Przykład:\n",
        "```Python\n",
        "X_train.loc[X_train['genre'].isna(), 'number_of_genres'] = None\n",
        "```"
      ],
      "metadata": {
        "id": "3C9qTypbRIxz"
      }
    },
    {
      "cell_type": "code",
      "source": [
        "# Wpisz swój kod poniżej\n"
      ],
      "metadata": {
        "id": "JroQHM_FVit8"
      },
      "execution_count": null,
      "outputs": []
    },
    {
      "cell_type": "markdown",
      "source": [
        "Powyższy krok jest wykonany tylko dlatego, że mogły się tam pojawić wcześniej wartości, które nie powinny (w końcu NaN to nie kategoria filmowa). W rzeczywistości może być tak, że dane zamiast `None` albo `NaN` są wartości, które na pewno są błędne, np. gdyby po badaniach lekarskich okazało się, że ktoś ma wzrost 0 cm to ewidentnie coś jest nie tak."
      ],
      "metadata": {
        "id": "TDqfKk0xWhq3"
      }
    },
    {
      "cell_type": "markdown",
      "source": [
        "# 10.1. Przetestuj metody na uzupełnianie braków w danych: różne sposoby dostępne dzięki `SimpleImputer` oraz `IterativeImputer` i `KNNImputer`. Po sprawdzeniu metody pamiętaj, żeby na nowo \"usunąć\" dane przy pomocy wcześniejszej komórki z kodem.\n",
        "\n",
        "**Pamiętaj, że na zbiorze treningowym należy wykorzystać `fit_transform`, a na pozostałych zbiorach `transform`**"
      ],
      "metadata": {
        "id": "MRko2zT0VwuG"
      }
    },
    {
      "cell_type": "code",
      "source": [
        "# Wpisz swój kod poniżej\n"
      ],
      "metadata": {
        "id": "I_Bw5JUHXuJO"
      },
      "execution_count": null,
      "outputs": []
    },
    {
      "cell_type": "markdown",
      "source": [
        "# 12. Utwórz kolumną `age`, w której będzie wiek filmu w latach. Wiek oblicz względem daty, kiedy dane zostały zebrane czyli 26.07.2022."
      ],
      "metadata": {
        "id": "k6zjKGIsarp8"
      }
    },
    {
      "cell_type": "code",
      "source": [
        "# Wpisz swój kod poniżej\n"
      ],
      "metadata": {
        "id": "O4xi7w2wbT8c"
      },
      "execution_count": null,
      "outputs": []
    },
    {
      "cell_type": "markdown",
      "source": [
        "# 13. Utwórz model regresji z wykorzystaniem `RandomForestRegressor`, aby predykować jaka jest średnia ocena filmu. Jako metrykę wykorzystać MSE, a jako argument konstruktora podaj `random_state=42`. Porównaj wynik uzyskany dla kolumn `['vote_count', 'popularity']`, które dostępne były po wczytaniu datasetu oraz dla `['number_of_genres', 'vote_count_scaled', 'age', 'lang_group_en']`, nad którymi pracowaliśmy."
      ],
      "metadata": {
        "id": "DnhLQgEiYgPV"
      }
    },
    {
      "cell_type": "code",
      "source": [
        "# Wpisz swój kod poniżej\n"
      ],
      "metadata": {
        "id": "wSL13tZUYOuE"
      },
      "execution_count": null,
      "outputs": []
    },
    {
      "cell_type": "markdown",
      "source": [
        "# 14. Teraz wypróbujmy co się stanie jak dodamy wszystkie utworzone przez nas kolumny.\n",
        "\n",
        "```Python\n",
        "all_usable_columns = ['number_of_genres', 'Action',\n",
        "                      'Adventure', 'Animation', 'Comedy', 'Crime', 'Drama',\n",
        "                      'Family', 'Fantasy', 'History', 'Horror', 'Music', 'Mystery',\n",
        "                      'Romance', 'Science Fiction', 'TV Movie', 'Thriller', 'War',\n",
        "                      'Western', 'lang_group_en', 'lang_group_fr', 'lang_group_it',\n",
        "                      'lang_group_ja', 'lang_group_es', 'lang_group_European',\n",
        "                      'lang_group_Asian', 'lang_group_Other', 'vote_count_binned_w', 'age']\n",
        "```"
      ],
      "metadata": {
        "id": "tGwy3CHZlDUJ"
      }
    },
    {
      "cell_type": "code",
      "source": [
        "# Wpisz swój kod poniżej\n"
      ],
      "metadata": {
        "id": "oQbosNXicgIA"
      },
      "execution_count": null,
      "outputs": []
    },
    {
      "cell_type": "markdown",
      "source": [
        "Czy dodanie większej liczby kolumn poprawiło wynik?\n",
        "\n",
        "Niestety, czasami może się zdarzyć, że dodanie większej liczby kolumn nie musi prowadzić do poprawy modelu. Aby uzyskać jak najlepszy model konieczne jest odpowiednie dobranie jego parametrów oraz właśnie przygotowanie danych, co może był procesem zajmującym sporo czasu."
      ],
      "metadata": {
        "id": "4WZtEZZEeEdk"
      }
    },
    {
      "cell_type": "markdown",
      "source": [
        "# 15. Freestyle. Spróbuj stworzyć model, który uzyska lepszy model niż te z wcześniejszych zadań. Możesz wypróbować inne zestawy kolumn, spróbować dodać nowe kolumny (np. długość opisu), inne rodzaje regresji lub zmiany parametrów modelu. Zapisz najlepszy wynik MSE, rodzaj regresji i parametry modelu oraz wykorzystane kolumny i je prześlij.\n",
        "\n",
        "Jedyne zasady:\n",
        "- musi być ustawiony `random_state = 42`,\n",
        "- jako metryka wykorzystane musi być `mean_squared_error`,\n",
        "- do uczenia wykorzystać należy zbiór treningowy, a nie walidacyjny lub testowy."
      ],
      "metadata": {
        "id": "6n_EKzLmfA7V"
      }
    },
    {
      "cell_type": "code",
      "source": [
        "# Wpisz swój kod poniżej\n"
      ],
      "metadata": {
        "id": "qi8wdnm5iAE4"
      },
      "execution_count": null,
      "outputs": []
    }
  ]
}