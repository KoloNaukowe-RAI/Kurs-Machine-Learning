{
  "nbformat": 4,
  "nbformat_minor": 0,
  "metadata": {
    "colab": {
      "provenance": []
    },
    "kernelspec": {
      "name": "python3",
      "display_name": "Python 3"
    },
    "language_info": {
      "name": "python"
    }
  },
  "cells": [
    {
      "cell_type": "markdown",
      "source": [
        "# Zadania do tematu \"Wzmocnienie gradientowe (Gradient Boosting)\""
      ],
      "metadata": {
        "id": "MDrqj6t4iFIW"
      }
    },
    {
      "cell_type": "markdown",
      "source": [
        "W tym Notebooku znajdują się zadania do tematu \"Wzmocnienie gradientowe (Gradient Boosting)\", które mają na celu pokazać podstawy implementacji algorytmów wzmocnienia gradientowego."
      ],
      "metadata": {
        "id": "TYRkfbmTiPYC"
      }
    },
    {
      "cell_type": "markdown",
      "source": [
        "# Zbiór danych\n",
        "\n",
        "Będziemy korzystać ze zbioru danych \"F1 Race Results\", który utworzony został na podstawie danych dostępnych na [Ergast](https://ergast.com/mrd/). Na podstawie dostępnych danych dodane zostały nowe kolumny. Dane można pobrać z folderu z zadaniami `Tasks`, z podfolderu `dane` (plik `f1_race_results.csv`).\n",
        "\n",
        "Opis poszczególnych kolumn:\n",
        "- `Year` - sezon, w którym odbywał się dany wyścig,\n",
        "- `Round` - numer rundy w danym sezonie,\n",
        "- `Date` - data wyścigu,\n",
        "- `Circuit` - nazwa toru,\n",
        "- `Country` - nazwa państwa, w którym organizowany był wyścig,\n",
        "- `Driver` - imię i nazwisko kierowcy,\n",
        "- `Driver ID` - ID kierowcy (unikalna nazwa),\n",
        "- `Nationality`\t- narodowość kierowcy,\n",
        "- `Team` - nazwa zespołu, dla którego dany kierowca jechał,\n",
        "- `Position` - zajęta pozycja w wyścigu,\n",
        "- `Points` - liczba zdobytych punktów,\n",
        "- `Age` - wiek w dni wyścigu (w latach),\n",
        "- `Grid Position` - pozycja startowa,\n",
        "- `Fastest Lap Time` - czas najszybszego okrążenia w wyścigu uzyskany przez danego kierowcę,\n",
        "- `Fastest Lap Rank` - \"pozycja\" najszybszego okrążenia danego kierowcy w porównaniu z najszybszymi okrążeniami innych kierowców,\n",
        "- `Sprint Race` - informacja czy był to sprint,\n",
        "- `Seasonal Driver Standing Before The Race` - pozycja kierowcy w klasyfikacji generalnej przed wyścigiem,\n",
        "- `Seasonal Driver Standing After The Race` - pozycja kierowcy w klasyfikacji generalnej po wyścigu,\n",
        "- `Seasonal Average Position Before The Race` - średnia pozycja w wyścigach w tym sezonie,\n",
        "- `Seasonal Average Grid Position Before The Race` - średnia pozycja startowa w tym sezonie,\n",
        "- `Seasonal Average Points Before The Race` - średnia liczba punktów zdobywanych w wyścigach w tym sezonie,\n",
        "- `Seasonal Wins Before The Race` - liczba wygranych w sezonie,\n",
        "- `Seasonal Average Fastest Lap Rank Before The Race` - średnia \"pozycja\" najszybszego okrążenia danego kierowcy w porównaniu z najszybszymi okrążeniami innych kierowców,\n",
        "- `Seasonal Driver Standing Before The Race with Sprints` - pozycja kierowcy w klasyfikacji generalnej przed wyścigiem z uwzględnieniem sprintów,\n",
        "- `Seasonal Driver Standing After The Race with Sprints` - pozycja kierowcy w klasyfikacji generalnej po wyścigu z uwzględnieniem sprintów,\n",
        "- `Seasonal Average Position Before The Race with Sprints` - średnia pozycja w wyścigach w tym sezonie z uwzględnieniem sprintów,\n",
        "- `Seasonal Average Grid Position Before The Race with Sprints` - średnia pozycja startowa w wyścigach w tym sezonie z uwzględnieniem sprintów,\n",
        "- `Seasonal Average Points Before The Race with Sprints` - średnia liczba punktów w wyścigach w tym sezonie z uwzględnieniem sprintów,\n",
        "- `Seasonal Wins Before The Race with Sprints` - liczba wygranych w sezonie z uwzględnieniem sprintów,\n",
        "- `Seasonal Constructor Standing Before The Race` - pozycja zespołu w klasyfikacji konstruktorów przed wyścigiem,\n",
        "- `Seasonal Constructor Standing After The Race` - pozycja zespołu w klasyfikacji konstruktorów po wyścigu,\n",
        "- `Seasonal Constructor Standing Before The Race with Sprints` - pozycja zespołu w klasyfikacji konstruktorów przed wyścigiem z uwzględnieniem sprintów,\n",
        "- `Seasonal Constructor Standing After The Race with Sprints` - pozycja zespołu w klasyfikacji konstruktorów po wyścigu,\n",
        "- `Seasonal Constructor Average Position Before The Race` - średnia pozycja zespołu w wyścigach w tym sezonie,\n",
        "- `Seasonal Constructor Average Grid Position Before The Race` - średnia pozycja startowa zespołu w wyścigach w tym sezonie,\n",
        "- `Seasonal Constructor Average Position Before The Race with Sprints` - średnia pozycja startowa zespołu w wyścigach w tym sezonie z uwzględnieniem sprintów,\n",
        "- `Seasonal Constructor Average Grid Position Before The Race with Sprints` - średnia pozycja startowa zespołu w wyścigach w tym sezonie z uwzględnieniem sprintów,\n",
        "- `Career Races Before The Race` - liczba wyścigów, w których kierowca wystartował w całej karierze,\n",
        "- `Career Races On The Track Before The Race` - liczba wyścigów na danym torze, w których kierowca wystartował w całej karierze,\n",
        "- `Career Wins Before The Race` - liczba wygranych wyścigów w karierze,\n",
        "- `Career Average Position Before The Race` - średnia pozycja, którą kierowca zajmował w wyścigach w karierze,\n",
        "- `Career Average Grid Position Before the Race` - średnia pozycja startowa, którą kierowca zajmował w karierze,\n",
        "- `Career Average Fastest Lap Rank Before The Race` - średnia \"pozycja\" najszybszego okrążenia danego kierowcy w porównaniu z najszybszymi okrążeniami innych kierowców w karierze,\n",
        "- `Career Wins Before The Race with Sprints` - liczba wygranych wyścigów w karierze z uwzględnieniem sprintów,\n",
        "- `Career Average Position Before The Race with Sprints` - średnia pozycja, którą kierowca zajmował w wyścigach w karierze,\n",
        "- `Career Average Grid Position Before The Race with Sprints` - średnia pozycja startowa, którą kierowca zajmował w karierze,\n",
        "\n",
        "\n",
        "Na potrzeby przyjmiemy, że chcemy robić predykcję pozycji, którą kierowca zdobył w wyścigu (kolumna 'Position').\n",
        "\n",
        "> **📌 Ważne**\n",
        ">\n",
        "> Dla pierwszych wyścigów w każdym roku (poza 1950) statystyki sezonowe są wyliczone na podstawie całego **poprzedniego** sezonu!\n",
        "\n"
      ],
      "metadata": {
        "id": "-a--eExxitUd"
      }
    },
    {
      "cell_type": "markdown",
      "source": [
        "# 1. Wczytaj dane z pliku do postaci `pandas DataFrame`. Następnie wykorzystaj `head()`, żeby wyświetlić pierwsze 5 wierszy.\n",
        "\n",
        "**Podpowiedź:** wykorzystaj `pd.set_option('display.max_columns', None)`, żeby wyświetlać dane z wszystkich kolumn."
      ],
      "metadata": {
        "id": "TZAbjNDjl5Fs"
      }
    },
    {
      "cell_type": "code",
      "execution_count": null,
      "metadata": {
        "id": "BpNE80WehL_S"
      },
      "outputs": [],
      "source": [
        "# Wpisz swój kod poniżej\n"
      ]
    },
    {
      "cell_type": "markdown",
      "source": [
        "# 2. Wyświetl typy danych w każdej kolumnie oraz statystyki poszczególnych kolumn i liczbę brakujących wartości w każdej kolumnie."
      ],
      "metadata": {
        "id": "iPWac2UemIOF"
      }
    },
    {
      "cell_type": "code",
      "source": [
        "# Wpisz swój kod poniżej\n"
      ],
      "metadata": {
        "id": "wihkY8dsmn-y"
      },
      "execution_count": null,
      "outputs": []
    },
    {
      "cell_type": "markdown",
      "source": [
        "Statystyki z najszybszymi okrążeniami dostępne były dla wyścigów od sezonu 2004. Przez to brakuje tej informacji dla większości wyścigów."
      ],
      "metadata": {
        "id": "UnrzIetprQL_"
      }
    },
    {
      "cell_type": "markdown",
      "source": [
        "# 3. Utwórz nowy DataFrame, w którym będą poniższe kolumny. Następnie odrzuć sprinty (wyścigi, które mają `True` w kolumnie `\"Sprint Race\"`) i wiersze z brakującymi danymi w kolumnach `\"Seasonal Average Position Before The Race\"`, `\"Seasonal Constructor Average Position Before The Race\"` i `\"Career Average Position Before The Race\"`.\n",
        "\n",
        "```Python\n",
        "columns_to_use = [\"Year\",\n",
        "                  \"Round\",\n",
        "                  \"Driver\",\n",
        "                  \"Position\",\n",
        "                  \"Age\",\n",
        "                  \"Grid Position\",\n",
        "                  \"Sprint Race\",\n",
        "                  \"Seasonal Driver Standing Before The Race\",\n",
        "                  \"Seasonal Average Position Before The Race\",\n",
        "                  \"Seasonal Average Grid Position Before The Race\",\n",
        "                  \"Seasonal Wins Before The Race\",\n",
        "                  \"Seasonal Constructor Standing Before The Race\",\n",
        "                  \"Seasonal Constructor Average Position Before The Race\",\n",
        "                  \"Seasonal Constructor Average Grid Position Before The Race\",\n",
        "                  \"Career Races Before The Race\",\n",
        "                  \"Career Races On The Track Before The Race\",\n",
        "                  \"Career Wins Before The Race\",\n",
        "                  \"Career Average Position Before The Race\",\n",
        "                  \"Career Average Grid Position Before the Race\"\n",
        "                  ]\n",
        "```"
      ],
      "metadata": {
        "id": "WQJ7FVb8Ums_"
      }
    },
    {
      "cell_type": "code",
      "source": [
        "# Wpisz swój kod poniżej\n"
      ],
      "metadata": {
        "id": "Z_INhV6YWfzn"
      },
      "execution_count": null,
      "outputs": []
    },
    {
      "cell_type": "markdown",
      "source": [
        "# 4. Podziel dane na zbiór treningowy, walidacyjny i testowy w stosunku 80:10:10. Wykorzystaj `random_state = 42`"
      ],
      "metadata": {
        "id": "rYgF3v4yZOsB"
      }
    },
    {
      "cell_type": "code",
      "source": [
        "# Wpisz swój kod poniżej\n"
      ],
      "metadata": {
        "id": "DIYqRf1nZZ2l"
      },
      "execution_count": null,
      "outputs": []
    },
    {
      "cell_type": "markdown",
      "source": [
        "# 5. Utwórz i wyświetl macierz korelacji dla zbioru treningowego (uwzględnij pozycję uzyskaną w wyścigu).\n",
        "\n",
        "Wykorzystaj kolumny:\n",
        "```Python\n",
        "columns_for_correlation_matrix = [\"Position\",\n",
        "                                  \"Year\",\n",
        "                                  \"Round\",\n",
        "                                  \"Age\",\n",
        "                                  \"Grid Position\",\n",
        "                                  \"Seasonal Driver Standing Before The Race\",\n",
        "                                  \"Seasonal Average Position Before The Race\",\n",
        "                                  \"Seasonal Average Grid Position Before The Race\",\n",
        "                                  \"Seasonal Wins Before The Race\",\n",
        "                                  \"Seasonal Constructor Standing Before The Race\",\n",
        "                                  \"Seasonal Constructor Average Position Before The Race\",\n",
        "                                  \"Seasonal Constructor Average Grid Position Before The Race\",\n",
        "                                  \"Career Races Before The Race\",\n",
        "                                  \"Career Races On The Track Before The Race\",\n",
        "                                  \"Career Wins Before The Race\",\n",
        "                                  \"Career Average Position Before The Race\",\n",
        "                                  \"Career Average Grid Position Before the Race\"]\n",
        "```\n",
        "\n",
        "Do utworzenia macierzy korelacji możesz wykorzystać `dataframe_name.corr()`, a do wyświetlenia `heatmap` z biblioteki seaborn."
      ],
      "metadata": {
        "id": "O_y2GASNW-_F"
      }
    },
    {
      "cell_type": "code",
      "source": [
        "# Wpisz swój kod poniżej\n"
      ],
      "metadata": {
        "id": "mgwWcP4tXJCj"
      },
      "execution_count": null,
      "outputs": []
    },
    {
      "cell_type": "markdown",
      "source": [
        "Czy widzisz jakieś ciekawe/zaskakujące związki pomiędzy poszczególnymi kolumnami?\n",
        "\n",
        "Które kolumny są najbardziej skorelowane z pozycją zajętą w wyścigu przez kierowcę? Pamiętaj, że wartość ujemna w macierzy korelacji nie oznacza braku korelacji, a po prostu zależność, w której wzrost jednej wartości powoduje spadek drugiej."
      ],
      "metadata": {
        "id": "qDg0nZA1YdzA"
      }
    },
    {
      "cell_type": "markdown",
      "source": [
        "# 6. Oddziel kolumnę `\"Position\"` od każdego zbioru i zapisz ją do `y_train`, `y_val` i `y_test`. Pamiętaj, żeby po utworzeniu nowych zmiennych usunąć też tę kolumnę z wcześniejszych zmiennych."
      ],
      "metadata": {
        "id": "21a0MYUvZI5u"
      }
    },
    {
      "cell_type": "code",
      "source": [
        "# Wpisz swój kod poniżej\n"
      ],
      "metadata": {
        "id": "BAiLDSXrbFKh"
      },
      "execution_count": null,
      "outputs": []
    },
    {
      "cell_type": "markdown",
      "source": [
        "# 7. Przed implementacją Gradient Boostingu utwórzmy model drzewa decyzyjnego i losowego lasu, które potraktujemy jako punkt odniesienia. Oblicz wartość błędu MSE dla danych ze zbioru walidacyjnego i testowego. Przyjmijmy, że modele wykorzystają dane z 4 kolumn:\n",
        "\n",
        "```Python\n",
        "columns_for_model = [\"Seasonal Average Position Before The Race\",\n",
        "                     \"Seasonal Constructor Standing Before The Race\",\n",
        "                     \"Seasonal Constructor Average Position Before The Race\",\n",
        "                     \"Career Average Position Before The Race\"]\n",
        "```\n",
        "\n",
        "**Ustaw `random_state = 42`**"
      ],
      "metadata": {
        "id": "1VcmP-IdbZmG"
      }
    },
    {
      "cell_type": "code",
      "source": [
        "# Wpisz swój kod poniżej\n"
      ],
      "metadata": {
        "id": "KzAv38u-cDrL"
      },
      "execution_count": null,
      "outputs": []
    },
    {
      "cell_type": "markdown",
      "source": [
        "O ile pozycji się średnio myli model? Pamiętaj, że MSE wykorzystuje błąd kwadratowy."
      ],
      "metadata": {
        "id": "tNoT7EJZdqfa"
      }
    },
    {
      "cell_type": "markdown",
      "source": [
        "# 8. Zaimplementuj model regresora korzystającego z Gradient Boostingu dostępnego w bibliotece `scikit-learn`. Wykonaj predykcję dla danych ze zbioru walidacyjnego i testowego. Dodaj również pomiar czasu jaki zajmuje nauczenie modelu (ile czasu zajmuje `fit`) - wykorzystaj bibliotekę time i metodę `time()`. Czy błąd MSE jest mniejszy?\n",
        "\n",
        "**Wykorzystaj te same kolumny co dla drzewa decyzyjnego oraz ustaw `random_state = 42`.**"
      ],
      "metadata": {
        "id": "OvSupGf8d1XU"
      }
    },
    {
      "cell_type": "code",
      "source": [
        "# Wpisz swój kod poniżej\n"
      ],
      "metadata": {
        "id": "_wcxYiXNrOa6"
      },
      "execution_count": null,
      "outputs": []
    },
    {
      "cell_type": "markdown",
      "source": [
        "# 9. Teraz zaimplementuj model Gradient boostingu przy pomocy XGBoost. Wykorzystaj te same kolumny, `random_state = 42`, wykonaj pomiar czasu i oblicz błąd MSE."
      ],
      "metadata": {
        "id": "q0bfAhZqf-Fr"
      }
    },
    {
      "cell_type": "code",
      "source": [
        "# Wpisz swój kod poniżej\n"
      ],
      "metadata": {
        "id": "XpEC1mRfhCpk"
      },
      "execution_count": null,
      "outputs": []
    },
    {
      "cell_type": "markdown",
      "source": [
        "Czy widzisz różnicę w czasie potrzebnym na trening modelu?"
      ],
      "metadata": {
        "id": "0DSX2U4thRVH"
      }
    },
    {
      "cell_type": "markdown",
      "source": [
        "# 10. Teraz zaimplementuj model Gradient boostingu przy pomocy LightGBM. Wykorzystaj te same kolumny, `random_state = 42`, wykonaj pomiar czasu i oblicz błąd MSE."
      ],
      "metadata": {
        "id": "Phkkj2xNhYZn"
      }
    },
    {
      "cell_type": "code",
      "source": [
        "# Wpisz swój kod poniżej\n"
      ],
      "metadata": {
        "id": "MouWZ9uFhfx4"
      },
      "execution_count": null,
      "outputs": []
    },
    {
      "cell_type": "markdown",
      "source": [
        "# 11. Jak widzisz wykorzystanie Gradient Boostingu poprawia wyniki, a wykorzystanie bibliotek LightGBM i XGBoost skraca czas obliczeń. Teraz spróbujemy poprawić wyniki poprzez zmianę hiperparametrów. Wykorzystaj przygotowaną siatkę hiperparametrów dla modelu XGBoost oraz `GridSearchCV`, aby znaleźć najlepsze hiperparametry modelu. Wypisz jakie hiperparametry zostały wskazane jako optymalne oraz sprawdź czy błąd MSE dla zbioru walidacyjnego i testowego jest mniejszy.\n",
        "\n",
        "`GridSearchCV` służy do wyszukiwania najlepszego modelu na podstawie gotowej siatki (stąd nazwa) parametrów. Sprawdza kombinacje wartości poszczególnych parametrów, aby znaleźć te optymalne. Dokumentacja dostępna [tutaj](https://scikit-learn.org/dev/modules/generated/sklearn.model_selection.GridSearchCV.html). Jako metrykę ustaw parametr `scoring='neg_mean_squared_error'`.\n",
        "\n",
        "**UWAGA** `GridSearchCV` sprawdza każdą możliwą kombinację i dlatego może zająć sporo czasu. W parametrach `GridSearchCV` ustaw `cv=3` (jest to liczba cross-walidacji - czyli podziałów danych treningowych na mniejsze części, aby sprawdzić jak model działa dla poszczególnych fragmentów zbioru).\n",
        "\n",
        "```Python\n",
        "xgboost_param_grid = {\n",
        "    'n_estimators': [50, 100, 200, 300],\n",
        "    'learning_rate': [0.01, 0.1, 0.5],\n",
        "    'max_depth': [3, 5]\n",
        "}\n",
        "```"
      ],
      "metadata": {
        "id": "CTSTtwXeiJoc"
      }
    },
    {
      "cell_type": "code",
      "source": [
        "# Wpisz swój kod poniżej\n"
      ],
      "metadata": {
        "id": "Lai3iWpnjqVu"
      },
      "execution_count": null,
      "outputs": []
    },
    {
      "cell_type": "markdown",
      "source": [
        "# 12. Teraz poszukamy najlepszych parametrów dla modelu LightGBM, ale zamiast przeszukiwania po siatce parametrów skorzystamy z losowego próbkowania z przestrzeni parametrów przy pomocy `RandomizedSearchCV`.\n",
        "\n",
        "`RandomizedSearchCV` zamiast przeszukiwać wszystkie możliwe kombinacje, wybiera losowy podzbiór kombinacji z określonej przestrzeni hiperparametrów. Dla każdego hiperparametru definiujemy zakres wartości, a `RandomizedSearchCV` losowo wybiera kombinacje określoną liczbę razy `n_iter`. Pełna dokumentacja dostępna [tutaj](https://scikit-learn.org/1.5/modules/generated/sklearn.model_selection.RandomizedSearchCV.html).\n",
        "\n",
        "Ponownie wykorzystaj potrójną cross-walidacją `cv=3` oraz ustaw liczbę iteracji na `n_iter = 24`. Czy uzyskane w ten sposób hiperparametry są zbliżone do tych, które zwrócił `GridSearchCV` w poprzednim zadaniu?\n",
        "\n",
        "```Python\n",
        "from scipy.stats import randint\n",
        "\n",
        "lgbm_param_grid = {\n",
        "    'n_estimators': randint(50, 300),\n",
        "    'learning_rate': [0.01, 0.1, 0.5],\n",
        "    'max_depth': randint(3, 10)}\n",
        "```"
      ],
      "metadata": {
        "id": "SooY0wcAmt3x"
      }
    },
    {
      "cell_type": "code",
      "source": [
        "# Wpisz swój kod poniżej\n"
      ],
      "metadata": {
        "id": "9exuAn81nqfd"
      },
      "execution_count": null,
      "outputs": []
    },
    {
      "cell_type": "markdown",
      "source": [
        "# 13. Już wiesz jak można zaimplementować wzmocnienie gradientowe i jak możesz przeszukiwać przestrzeń hiperparametrów, aby zoptymalizować model. Z poprzednich tematów wiesz też, że wybór kolumn ma wpływ na jakość modelu, oraz że można samemu wyciągać dane, aby polepszyć model. Korzystając z tego spróbuj utworzyć model, który uzyska mniejszą wartość metryki MSE, a następnie prześlij jego implementację (rodzaj modelu, hiperparametry oraz wykorzystane kolumny danych).\n",
        "\n",
        "W tym przypadku można np. sprawdzić czy fakt, że kierowca jeździ w swojej ojczyźnie ułatwia zdobywanie dobrego miejsca w wyścigu dzięki dopingowi kibiców lub czy usunięcie pierwszych wyścigów sezonu ze zbiorów danych poprawi wyniki (z tego względu, że tam znajdują się wyniki z poprzedniego sezonu)."
      ],
      "metadata": {
        "id": "yCLIax4MpTK8"
      }
    },
    {
      "cell_type": "code",
      "source": [
        "# Wpisz swój kod poniżej\n"
      ],
      "metadata": {
        "id": "ByXPEUuFqdVc"
      },
      "execution_count": null,
      "outputs": []
    }
  ]
}