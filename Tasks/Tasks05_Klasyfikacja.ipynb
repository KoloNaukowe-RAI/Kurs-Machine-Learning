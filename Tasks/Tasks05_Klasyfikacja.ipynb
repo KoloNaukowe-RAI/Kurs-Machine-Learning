{
 "cells": [
  {
   "cell_type": "markdown",
   "metadata": {
    "id": "BrLlkEuc-AQ8"
   },
   "source": [
    "# Zadania do tematu \"Klasyfikacja\"\n",
    "\n",
    "W tym Notebooku znajdują się zadania do tematu \"Klasyfikacja\", aby pokazać implementację i działanie algorytmów do klasyfikacji."
   ]
  },
  {
   "cell_type": "markdown",
   "metadata": {
    "id": "XUq92IdM-tgr"
   },
   "source": [
    "# Zbiór danych\n",
    "\n",
    "Będziemy korzystać ze zbioru danych \"Stroke Diagnosis Dataset\" dostępnego pod linkiem https://www.kaggle.com/datasets/fedesoriano/stroke-prediction-dataset/data. Jeżeli ktoś ma konto na Kaggle to może pobrać dane w postaci .csv z tej platformy, a w innym przypadku można pobrać odpowiedni plik .csv z repozytorium do kursu (w folderze z zadaniami Tasks jest podfolder dane, a w nim plik `healthcare-dataset-stroke-data.csv`).\n",
    "\n",
    "## Opis\n",
    "Według Światowej Organizacji Zdrowia (WHO) udar jest drugą najczęstszą przyczyną zgonów na świecie i odpowiada za około 11% wszystkich zgonów.\n",
    "Ten zbiór danych służy do przewidywania, czy pacjent może doznać udaru na podstawie parametrów wejściowych, takich jak płeć, wiek, różne choroby i palenie tytoniu. Każdy wiersz danych zawiera istotne informacje o pacjencie. (opis z Kaggle)\n",
    "\n",
    "## Opis poszczególnych kolumn:\n",
    "- **id** - Unikalny identyfikator (ID).  \n",
    "- **gender** - Płeć: \"Male\" (Mężczyzna), \"Female\" (Kobieta) lub \"Other\" (Inna).  \n",
    "- **age** - Wiek pacjenta.  \n",
    "- **hypertension** - Nadciśnienie: 0, jeśli pacjent nie ma nadciśnienia, 1, jeśli pacjent ma nadciśnienie.  \n",
    "- **heart_disease** - Choroby serca: 0, jeśli pacjent nie ma chorób serca, 1, jeśli pacjent ma chorobę serca.  \n",
    "- **ever_married** - Czy kiedykolwiek był żonaty/zamężna: \"No\" (Nie) lub \"Yes\" (Tak).  \n",
    "- **work_type** - Rodzaj pracy: \"children\" (dzieci), \"Govt_job\" (Praca w sektorze rządowym), \"Never_worked\" (Nigdy nie pracował), \"Private\" (Sektor prywatny) lub \"Self-employed\" (Praca na własny rachunek).  \n",
    "- **Residence_type** - Typ miejsca zamieszkania: \"Rural\" (Wiejska) lub \"Urban\" (Miejska).  \n",
    "- **avg_glucose_level** - Średni poziom glukozy we krwi (Średni poziom glukozy).  \n",
    "- **bmi** - Wskaźnik masy ciała (BMI).  \n",
    "- **smoking_status** - Status palenia: \"formerly smoked\" (kiedyś palił), \"never smoked\" (nigdy nie palił), \"smokes\" (pali) lub \"Unknown\" (Nieznane).  \n",
    "  *Uwaga*: \"Unknown\" w **smoking_status** oznacza, że informacja jest niedostępna dla tego pacjenta.  \n",
    "- **stroke** - Udar: 1, jeśli pacjent miał udar, lub 0, jeśli nie. **Jest to zmienna docelowa, która będzie podlegała predykcji**  \n"
   ]
  },
  {
   "cell_type": "markdown",
   "metadata": {
    "id": "-9WB3y0E-7LE"
   },
   "source": [
    "# 1. Wczytaj dane z pliku do postaci pandas DataFrame. Następnie wykorzystaj head(), żeby wyświetlić pierwsze 5 wierszy."
   ]
  },
  {
   "cell_type": "code",
   "execution_count": null,
   "metadata": {
    "id": "Gx7Dhn8Z9moz"
   },
   "outputs": [],
   "source": [
    "import pandas as pd\n",
    "# Wpisz swój kod poniżej\n"
   ]
  },
  {
   "cell_type": "markdown",
   "metadata": {
    "id": "IkRWNS1rUIhb"
   },
   "source": [
    "# 2. Sprawdź czy nie występują braki w zbiorze danych (użyj `.info()`). Jeżeli jakiś wiersz nie ma wartości to go usuń.\n",
    "\n",
    "W późniejszych tematach poznamy inne metody radzenia sobie z tym problemem.\n",
    "\n",
    "Do usuwania służy `dropna()`."
   ]
  },
  {
   "cell_type": "code",
   "execution_count": null,
   "metadata": {
    "id": "bkM0TAAJUFke"
   },
   "outputs": [],
   "source": [
    "# Wpisz swój kod poniżej\n"
   ]
  },
  {
   "cell_type": "markdown",
   "metadata": {
    "id": "DUNJw5wjBBtF"
   },
   "source": [
    "# 3. Podziel zbiór danych na wartość poszukiwaną y i dane X. Następnie podziel dane na zbiór treningowy, walidacyjny i testowy w stosunku 80:10:10. Użyj random_state=42"
   ]
  },
  {
   "cell_type": "code",
   "execution_count": null,
   "metadata": {
    "id": "Fkd7dErVBcSD"
   },
   "outputs": [],
   "source": [
    "from sklearn.model_selection import train_test_split\n",
    "# Wpisz swój kod poniżej\n"
   ]
  },
  {
   "cell_type": "markdown",
   "metadata": {
    "id": "oxfvRAyyBgXq"
   },
   "source": [
    "# 4. Wyświetl typy danych w każdej kolumnie zbioru treningowego, a następnie wykorzystaj `LabelEncoder`, aby we wszystkich kolumnach były dane numeryczne. Pamiętaj, żeby zrobić to również dla zmiennej docelowej\n",
    "\n",
    "Przykład implementacji `LabelEncoder`\n",
    "```Python\n",
    "from sklearn.preprocessing import LabelEncoder\n",
    "\n",
    "le = LabelEncoder()\n",
    "df1['kolumna'] = encoder.fit_transform(df1['kolumna'])\n",
    "df2['kolumna'] = encoder.transform(df2['kolumna'])\n",
    "```\n",
    "Pamiętaj, żeby używać `fit_transform` jedynie na zbiorze treningowym, a następnie tym samym enkoderem jedynie transformować wartości w zbiorach walidacyjnym i testowym.\n",
    "\n",
    "Istnieje możliwość sprawdzenia czemu odpowiada dana wartość liczbowa. Aby to zrobić można wywołać (w tym przypadku sprawdzimy co zostało zakodowane jako `0` i `1`, ale można to dowolnie zmienić):\n",
    "```Python\n",
    "le.inverse_transform([0, 1])\n",
    "```\n",
    "\n",
    "Warto byłoby zapisać enkodery poszczególnych kolumn do słownika, żeby potem móc sprawdzić co się kryje pod poszczególnymi numerami."
   ]
  },
  {
   "cell_type": "code",
   "execution_count": null,
   "metadata": {
    "id": "kpfiu-7eHQv-"
   },
   "outputs": [],
   "source": [
    "from sklearn.preprocessing import LabelEncoder\n",
    "# Wpisz swój kod poniżej\n"
   ]
  },
  {
   "cell_type": "markdown",
   "metadata": {
    "id": "BKeSfW8GHXFH"
   },
   "source": [
    "# 5. Utwórz macierz korelacji (i wyświetl w formie heatmapy), aby zbadać jakie powiązania występują pomiędzy poszczególnymi kolumnami.\n",
    "\n",
    "Do złączenia `X_train` i `y_train` możesz wykorzystać poniższy fragment kodu:\n",
    "```Python\n",
    "y_train_series = pd.Series(y_train, name='stroke', index=X_train.index)\n",
    "all_data = pd.concat([X_train, y_train_series], axis=1)\n",
    "```\n",
    "Do wyliczenia macierzy korelacji możesz skorzystać z `df.corr()`\n"
   ]
  },
  {
   "cell_type": "code",
   "execution_count": null,
   "metadata": {
    "id": "JlfUVm8-HyIH"
   },
   "outputs": [],
   "source": [
    "from matplotlib import pyplot as plt\n",
    "import seaborn as sns\n",
    "# Wpisz swój kod poniżej\n"
   ]
  },
  {
   "cell_type": "markdown",
   "metadata": {
    "id": "A65P7vS9Jd4j"
   },
   "source": [
    "# 6. Utwórz punkt odniesienia dla późniejszych modeli. Sprawdź jaki jest udział pacjentów z udarem do wszystkich pacjentów w zbiorze treningowym (możesz policzyć średnią wartość), a następnie losowo wygeneruj informację o udarze dla zbioru walidacyjnego i testowego (z prawdopodobieństwem wynikającym z wyliczonego stosunku). Następnie oblicz `accuracy_score` dla wyniku na zbiorze walidacyjnym.\n",
    "\n",
    "Możesz wykorzystać `np.random.choice`. Dokumentacja dostępna jest [tutaj](https://numpy.org/doc/2.0/reference/random/generated/numpy.random.choice.html)."
   ]
  },
  {
   "cell_type": "code",
   "execution_count": null,
   "metadata": {
    "id": "4DMK0f03KlQy"
   },
   "outputs": [],
   "source": [
    "from sklearn.metrics import accuracy_score\n",
    "import numpy as np\n",
    "\n",
    "np.random.seed(42)\n",
    "# Wpisz swój kod poniżej\n"
   ]
  },
  {
   "cell_type": "markdown",
   "metadata": {
    "id": "RQLECdrCMdDx"
   },
   "source": [
    "# 7. Utwórz i wytrenuj klasyfikator o strukturze drzewa decyzyjnego `DecisionTreeClassifier`. Dokonaj predykcję i oblicz dokładność na zbiorze walidacyjnym i testowym.\n",
    "\n",
    "Pamiętaj, żeby ustawić `random_state=42`.\n",
    "\n",
    "Dokumentacja dla `DecisionTreeClassifier` dostępna jest [tutaj](https://scikit-learn.org/1.5/modules/generated/sklearn.tree.DecisionTreeClassifier.html#sklearn.tree.DecisionTreeClassifier)"
   ]
  },
  {
   "cell_type": "code",
   "execution_count": null,
   "metadata": {
    "id": "qrEECEjRNajp"
   },
   "outputs": [],
   "source": [
    "from sklearn.tree import DecisionTreeClassifier\n",
    "# Wpisz swój kod poniżej\n"
   ]
  },
  {
   "cell_type": "markdown",
   "metadata": {
    "id": "shnqT18wWXRL"
   },
   "source": [
    "# 8. Wygeneruj graf drzewa z poprzedniego zadania.\n",
    "\n",
    "Dokumentacja `plot_tree` dostępna jest [tutaj](https://scikit-learn.org/1.5/modules/generated/sklearn.tree.plot_tree.html)"
   ]
  },
  {
   "cell_type": "code",
   "execution_count": null,
   "metadata": {
    "id": "bJ5s8j40WWDF"
   },
   "outputs": [],
   "source": [
    "from sklearn.tree import plot_tree\n",
    "# Wpisz swój kod poniżej\n"
   ]
  },
  {
   "cell_type": "markdown",
   "metadata": {
    "id": "0nDjJQqHXIPG"
   },
   "source": [
    "# 9. Utwórz i wytrenuj klasyfikator o strukturze lasu losowego `RandomForestClassifier`. Dokonaj predykcję i oblicz dokładność na zbiorze walidacyjnym i testowym.\n",
    "\n",
    "Pamiętaj, żeby ustawić `random_state=42`.\n",
    "\n",
    "Dokumentacja dla `RandomForestClassifier` dostępna jest [tutaj](https://scikit-learn.org/1.5/modules/generated/sklearn.ensemble.RandomForestClassifier.html#sklearn.ensemble.RandomForestClassifier)"
   ]
  },
  {
   "cell_type": "code",
   "execution_count": null,
   "metadata": {
    "id": "5XZb36vNYC7s"
   },
   "outputs": [],
   "source": [
    "from sklearn.ensemble import RandomForestClassifier\n",
    "# Wpisz swój kod poniżej\n"
   ]
  },
  {
   "cell_type": "markdown",
   "metadata": {
    "id": "mDWTBHK2YalX"
   },
   "source": [
    "# 10. Utwórz i wytrenuj klasyfikator o strukturze k najbliższych sąsiadów `KNeighborsClassifier`. Dokonaj predykcję i oblicz dokładność na zbiorze walidacyjnym i testowym.\n",
    "\n",
    "Przyjmij `n_neighbors=5` sąsiadów.\n",
    "\n",
    "Dokumentacja dla `KNeighborsClassifier` dostępna jest [tutaj](https://scikit-learn.org/1.5/modules/generated/sklearn.neighbors.KNeighborsClassifier.html#sklearn.neighbors.KNeighborsClassifier)"
   ]
  },
  {
   "cell_type": "code",
   "execution_count": null,
   "metadata": {
    "id": "D8cNKnEXZ1Uy"
   },
   "outputs": [],
   "source": [
    "from sklearn.neighbors import KNeighborsClassifier\n",
    "# Wpisz swój kod poniżej\n"
   ]
  },
  {
   "cell_type": "markdown",
   "metadata": {
    "id": "Le33BAXOaFCI"
   },
   "source": [
    "# 11. Utwórz i wytrenuj klasyfikator o strukturze SVM `SVC`. Dokonaj predykcję i oblicz dokładność na zbiorze walidacyjnym i testowym.\n",
    "\n",
    "Pamiętaj, żeby ustawić `random_state=42`.\n",
    "\n",
    "Dokumentacja dla `SVC` dostępna jest [tutaj](https://scikit-learn.org/1.5/modules/generated/sklearn.svm.SVC.html)"
   ]
  },
  {
   "cell_type": "code",
   "execution_count": null,
   "metadata": {
    "id": "5jqAWDU2aYAg"
   },
   "outputs": [],
   "source": [
    "from sklearn.svm import SVC\n",
    "# Wpisz swój kod poniżej\n"
   ]
  },
  {
   "cell_type": "markdown",
   "metadata": {
    "id": "eghmpm8masWO"
   },
   "source": [
    "# 12. Oprócz wykorzystania pojedynczych klasyfikatorów istnieje możliwość wykorzystania kilku klasyfikatorów, które mogą głosować nad wynikiem klasyfikacji. Wykorzystaj wcześniejsze modele, aby utworzyć `VotingClassifier`. Dokonaj predykcję i oblicz dokładność na zbiorze walidacyjnym i testowym.\n",
    "\n",
    "Pamiętaj, żeby ustawić `random_state=42`. Wykorzystaj też sposób głosowania `voting='hard'` - jest to konieczne, ponieważ `soft` wymaga zwrócenia prawdopodobieństwa, co nie jest możliwe dla SVC. Możliwa jest również zmiana wag głosów poszczególnych klasyfikatorów, ale na razie zostawmy wszystkim równe.\n",
    "\n",
    "Dokumentacja dla `VotingClassifier` dostępna jest [tutaj](https://scikit-learn.org/1.5/modules/generated/sklearn.ensemble.VotingClassifier.html#sklearn.ensemble.VotingClassifier)"
   ]
  },
  {
   "cell_type": "code",
   "execution_count": null,
   "metadata": {
    "id": "3ZqQOP1tasDq"
   },
   "outputs": [],
   "source": [
    "from sklearn.ensemble import VotingClassifier\n",
    "# Wpisz swój kod poniżej\n"
   ]
  },
  {
   "cell_type": "markdown",
   "metadata": {},
   "source": [
    "# 13: Utwórz macierz pomyłek `confusion_matrix` i wykorzystaj pełność, precyzję i F1 score do oceny modelu lasu losowego. Czy błędy modelu polegające na klasyfikacji jako `0` (brak udaru), gdy powinno być `1`, nie brzmi niebezpiecznie?"
   ]
  },
  {
   "cell_type": "code",
   "execution_count": null,
   "metadata": {},
   "outputs": [],
   "source": [
    "from sklearn.metrics import confusion_matrix\n",
    "# Wpisz swój kod poniżej\n"
   ]
  },
  {
   "cell_type": "code",
   "execution_count": null,
   "metadata": {},
   "outputs": [],
   "source": [
    "from sklearn.metrics import recall_score, f1_score, precision_score\n",
    "# Wpisz swój kod poniżej\n"
   ]
  },
  {
   "cell_type": "markdown",
   "metadata": {
    "id": "_JLiI1e6wAz1"
   },
   "source": [
    "# 14: Optymalizacja Hiperparametrów Modelu Random Forest za pomocą RandomizedSearchCV\n",
    "\n",
    "## Kroki\n",
    "\n",
    "1. Dostosuj `RandomizedSearchCV` z wybranymi hiperparametrami:\n",
    "   - `n_estimators`, `max_depth`, `min_samples_split`, `min_samples_leaf`, `bootstrap`.\n",
    "2. Ustaw liczbę iteracji na `50`, ilość crossvalidacji na `5`, a metrykę na `recall`.\n",
    "3. Znajdź najlepsze hiperparametry i przetestuj zoptymalizowany model na zbiorach walidacyjnym i testowym.\n",
    "\n",
    "\n",
    "- [RandomizedSearchCV](https://scikit-learn.org/stable/modules/generated/sklearn.model_selection.RandomizedSearchCV.html)\n",
    "\n"
   ]
  },
  {
   "cell_type": "code",
   "execution_count": null,
   "metadata": {},
   "outputs": [],
   "source": [
    "from sklearn.model_selection import cross_val_score\n",
    "# Wpisz swój kod poniżej\n"
   ]
  },
  {
   "cell_type": "code",
   "execution_count": null,
   "metadata": {
    "id": "IFK9j9vBuh67"
   },
   "outputs": [],
   "source": [
    "from sklearn.model_selection import RandomizedSearchCV\n",
    "\n",
    "param_dist = {\n",
    "    'n_estimators': [10, 50, 100, 200],\n",
    "    'max_depth': [None, 10, 20, 30],\n",
    "    'min_samples_split': [2, 5, 10],\n",
    "    'min_samples_leaf': [1, 2, 4],\n",
    "    'bootstrap': [True, False]\n",
    "\n",
    "}\n",
    "\n",
    "# Wpisz swój kod poniżej\n"
   ]
  },
  {
   "cell_type": "markdown",
   "metadata": {},
   "source": [
    "# 15: Wykonaj predykcję z wyliczeniem prawdopodobieństwa i utwórz próg o wartości `0.06`, a następnie utwórz nową predykcję, gdzie zaklasyfikujesz, że pacjent ma udar, jeżeli jego prawdopodobieństwo jest większe niż próg. Wylicz dokładność, pełność, F1 score i precyzję i wyświetl macierz pomyłek. Czy takie predykcje są lepsze niż bez zastosowania progu?\n",
    "\n",
    "Do predykcji z podaniem prawdopobieństwa wykorzystać `predict_proba`."
   ]
  },
  {
   "cell_type": "code",
   "execution_count": null,
   "metadata": {},
   "outputs": [],
   "source": [
    "# Wpisz swój kod poniżej\n"
   ]
  }
 ],
 "metadata": {
  "colab": {
   "provenance": []
  },
  "kernelspec": {
   "display_name": ".venv",
   "language": "python",
   "name": "python3"
  },
  "language_info": {
   "codemirror_mode": {
    "name": "ipython",
    "version": 3
   },
   "file_extension": ".py",
   "mimetype": "text/x-python",
   "name": "python",
   "nbconvert_exporter": "python",
   "pygments_lexer": "ipython3",
   "version": "3.11.10"
  }
 },
 "nbformat": 4,
 "nbformat_minor": 0
}
