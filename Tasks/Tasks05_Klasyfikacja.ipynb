{
  "nbformat": 4,
  "nbformat_minor": 0,
  "metadata": {
    "colab": {
      "provenance": []
    },
    "kernelspec": {
      "name": "python3",
      "display_name": "Python 3"
    },
    "language_info": {
      "name": "python"
    }
  },
  "cells": [
    {
      "cell_type": "markdown",
      "source": [
        "# Zadania do tematu \"Klasyfikacja\"\n",
        "\n",
        "W tym Notebooku znajdują się zadania do tematu \"Klasyfikacja\", aby pokazać implementację i działanie algorytmów do klasyfikacji."
      ],
      "metadata": {
        "id": "BrLlkEuc-AQ8"
      }
    },
    {
      "cell_type": "markdown",
      "source": [
        "# Zbiór danych\n",
        "\n",
        "Będziemy korzystać ze zbioru danych \"Stroke Diagnosis Dataset\" dostępnego pod linkiem https://www.kaggle.com/datasets/fedesoriano/stroke-prediction-dataset/data. Jeżeli ktoś ma konto na Kaggle to może pobrać dane w postaci .csv z tej platformy, a w innym przypadku można pobrać odpowiedni plik .csv z repozytorium do kursu (w folderze z zadaniami Tasks jest podfolder dane, a w nim plik `healthcare-dataset-stroke-data.csv`).\n",
        "\n",
        "## Opis\n",
        "Według Światowej Organizacji Zdrowia (WHO) udar jest drugą najczęstszą przyczyną zgonów na świecie i odpowiada za około 11% wszystkich zgonów.\n",
        "Ten zbiór danych służy do przewidywania, czy pacjent może doznać udaru na podstawie parametrów wejściowych, takich jak płeć, wiek, różne choroby i palenie tytoniu. Każdy wiersz danych zawiera istotne informacje o pacjencie. (opis z Kaggle)\n",
        "\n",
        "## Opis poszczególnych kolumn:\n",
        "- **id** - Unikalny identyfikator (ID).  \n",
        "- **gender** - Płeć: \"Male\" (Mężczyzna), \"Female\" (Kobieta) lub \"Other\" (Inna).  \n",
        "- **age** - Wiek pacjenta.  \n",
        "- **hypertension** - Nadciśnienie: 0, jeśli pacjent nie ma nadciśnienia, 1, jeśli pacjent ma nadciśnienie.  \n",
        "- **heart_disease** - Choroby serca: 0, jeśli pacjent nie ma chorób serca, 1, jeśli pacjent ma chorobę serca.  \n",
        "- **ever_married** - Czy kiedykolwiek był żonaty/zamężna: \"No\" (Nie) lub \"Yes\" (Tak).  \n",
        "- **work_type** - Rodzaj pracy: \"children\" (dzieci), \"Govt_job\" (Praca w sektorze rządowym), \"Never_worked\" (Nigdy nie pracował), \"Private\" (Sektor prywatny) lub \"Self-employed\" (Praca na własny rachunek).  \n",
        "- **Residence_type** - Typ miejsca zamieszkania: \"Rural\" (Wiejska) lub \"Urban\" (Miejska).  \n",
        "- **avg_glucose_level** - Średni poziom glukozy we krwi (Średni poziom glukozy).  \n",
        "- **bmi** - Wskaźnik masy ciała (BMI).  \n",
        "- **smoking_status** - Status palenia: \"formerly smoked\" (kiedyś palił), \"never smoked\" (nigdy nie palił), \"smokes\" (pali) lub \"Unknown\" (Nieznane).  \n",
        "  *Uwaga*: \"Unknown\" w **smoking_status** oznacza, że informacja jest niedostępna dla tego pacjenta.  \n",
        "- **stroke** - Udar: 1, jeśli pacjent miał udar, lub 0, jeśli nie. **Jest to zmienna docelowa, która będzie podlegała predykcji**  \n"
      ],
      "metadata": {
        "id": "XUq92IdM-tgr"
      }
    },
    {
      "cell_type": "markdown",
      "source": [
        "# 1. Wczytaj dane z pliku do postaci pandas DataFrame. Następnie wykorzystaj head(), żeby wyświetlić pierwsze 5 wierszy."
      ],
      "metadata": {
        "id": "-9WB3y0E-7LE"
      }
    },
    {
      "cell_type": "code",
      "execution_count": null,
      "metadata": {
        "id": "Gx7Dhn8Z9moz"
      },
      "outputs": [],
      "source": [
        "import pandas as pd\n",
        "# Wpisz swój kod poniżej\n"
      ]
    },
    {
      "cell_type": "markdown",
      "source": [
        "# 2. Sprawdź czy nie występują braki w zbiorze danych (użyj `.info()`). Jeżeli jakiś wiersz nie ma wartości to go usuń.\n",
        "\n",
        "W późniejszych tematach poznamy inne metody radzenia sobie z tym problemem.\n",
        "\n",
        "Do usuwania służy `dropna()`."
      ],
      "metadata": {
        "id": "IkRWNS1rUIhb"
      }
    },
    {
      "cell_type": "code",
      "source": [
        "# Wpisz swój kod poniżej\n"
      ],
      "metadata": {
        "id": "bkM0TAAJUFke"
      },
      "execution_count": null,
      "outputs": []
    },
    {
      "cell_type": "markdown",
      "source": [
        "# 3. Podziel zbiór danych na wartość poszukiwaną y i dane X. Następnie podziel dane na zbiór treningowy, walidacyjny i testowy w stosunku 80:10:10. Użyj random_state=42"
      ],
      "metadata": {
        "id": "DUNJw5wjBBtF"
      }
    },
    {
      "cell_type": "code",
      "source": [
        "from sklearn.model_selection import train_test_split\n",
        "# Wpisz swój kod poniżej\n"
      ],
      "metadata": {
        "id": "Fkd7dErVBcSD"
      },
      "execution_count": null,
      "outputs": []
    },
    {
      "cell_type": "markdown",
      "source": [
        "# 4. Wyświetl typy danych w każdej kolumnie zbioru treningowego, a następnie wykorzystaj `LabelEncoder`, aby we wszystkich kolumnach były dane numeryczne. Pamiętaj, żeby zrobić to również dla zmiennej docelowej\n",
        "\n",
        "Przykład implementacji `LabelEncoder`\n",
        "```Python\n",
        "from sklearn.preprocessing import LabelEncoder\n",
        "\n",
        "le = LabelEncoder()\n",
        "df1['kolumna'] = encoder.fit_transform(df1['kolumna'])\n",
        "df2['kolumna'] = encoder.transform(df2['kolumna'])\n",
        "```\n",
        "Pamiętaj, żeby używać `fit_transform` jedynie na zbiorze treningowym, a następnie tym samym enkoderem jedynie transformować wartości w zbiorach walidacyjnym i testowym.\n",
        "\n",
        "Istnieje możliwość sprawdzenia czemu odpowiada dana wartość liczbowa. Aby to zrobić można wywołać (w tym przypadku sprawdzimy co zostało zakodowane jako `0` i `1`, ale można to dowolnie zmienić):\n",
        "```Python\n",
        "le.inverse_transform([0, 1])\n",
        "```\n",
        "\n",
        "Warto byłoby zapisać enkodery poszczególnych kolumn do słownika, żeby potem móc sprawdzić co się kryje pod poszczególnymi numerami."
      ],
      "metadata": {
        "id": "oxfvRAyyBgXq"
      }
    },
    {
      "cell_type": "code",
      "source": [
        "from sklearn.preprocessing import LabelEncoder\n",
        "# Wpisz swój kod poniżej\n"
      ],
      "metadata": {
        "id": "kpfiu-7eHQv-"
      },
      "execution_count": null,
      "outputs": []
    },
    {
      "cell_type": "markdown",
      "source": [
        "# 5. Utwórz macierz korelacji (i wyświetl w formie heatmapy), aby zbadać jakie powiązania występują pomiędzy poszczególnymi kolumnami.\n",
        "\n",
        "Do złączenia `X_train` i `y_train` możesz wykorzystać poniższy fragment kodu:\n",
        "```Python\n",
        "y_train_series = pd.Series(y_train, name='stroke', index=X_train.index)\n",
        "all_data = pd.concat([X_train, y_train_series], axis=1)\n",
        "```\n",
        "Do wyliczenia macierzy korelacji możesz skorzystać z `df.corr()`\n"
      ],
      "metadata": {
        "id": "BKeSfW8GHXFH"
      }
    },
    {
      "cell_type": "code",
      "source": [
        "from matplotlib import pyplot as plt\n",
        "import seaborn as sns\n",
        "# Wpisz swój kod poniżej\n"
      ],
      "metadata": {
        "id": "JlfUVm8-HyIH"
      },
      "execution_count": null,
      "outputs": []
    },
    {
      "cell_type": "markdown",
      "source": [
        "# 6. Utwórz punkt odniesienia dla późniejszych modeli. Sprawdź jaki jest udział pacjentów z udarem do wszystkich pacjentów w zbiorze treningowym (możesz policzyć średnią wartość), a następnie losowo wygeneruj informację o udarze dla zbioru walidacyjnego i testowego (z prawdopodobieństwem wynikającym z wyliczonego stosunku). Następnie oblicz `accuracy_score` dla wyniku na zbiorze walidacyjnym.\n",
        "\n",
        "Możesz wykorzystać `np.random.choice`. Dokumentacja dostępna jest [tutaj](https://numpy.org/doc/2.0/reference/random/generated/numpy.random.choice.html)."
      ],
      "metadata": {
        "id": "A65P7vS9Jd4j"
      }
    },
    {
      "cell_type": "code",
      "source": [
        "from sklearn.metrics import accuracy_score\n",
        "import numpy as np\n",
        "\n",
        "np.random.seed(42)\n",
        "# Wpisz swój kod poniżej\n"
      ],
      "metadata": {
        "id": "4DMK0f03KlQy"
      },
      "execution_count": null,
      "outputs": []
    },
    {
      "cell_type": "markdown",
      "source": [
        "# 7. Utwórz i wytrenuj klasyfikator o strukturze drzewa decyzyjnego `DecisionTreeClassifier`. Dokonaj predykcję i oblicz dokładność na zbiorze walidacyjnym i testowym.\n",
        "\n",
        "Pamiętaj, żeby ustawić `random_state=42`.\n",
        "\n",
        "Dokumentacja dla `DecisionTreeClassifier` dostępna jest [tutaj](https://scikit-learn.org/1.5/modules/generated/sklearn.tree.DecisionTreeClassifier.html#sklearn.tree.DecisionTreeClassifier)"
      ],
      "metadata": {
        "id": "RQLECdrCMdDx"
      }
    },
    {
      "cell_type": "code",
      "source": [
        "from sklearn.tree import DecisionTreeClassifier\n",
        "# Wpisz swój kod poniżej\n"
      ],
      "metadata": {
        "id": "qrEECEjRNajp"
      },
      "execution_count": null,
      "outputs": []
    },
    {
      "cell_type": "markdown",
      "source": [
        "# 8. Wygeneruj graf drzewa z poprzedniego zadania.\n",
        "\n",
        "Dokumentacja `plot_tree` dostępna jest [tutaj](https://scikit-learn.org/1.5/modules/generated/sklearn.tree.plot_tree.html)"
      ],
      "metadata": {
        "id": "shnqT18wWXRL"
      }
    },
    {
      "cell_type": "code",
      "source": [
        "from sklearn.tree import plot_tree\n",
        "# Wpisz swój kod poniżej\n"
      ],
      "metadata": {
        "id": "bJ5s8j40WWDF"
      },
      "execution_count": null,
      "outputs": []
    },
    {
      "cell_type": "markdown",
      "source": [
        "# 9. Utwórz i wytrenuj klasyfikator o strukturze lasu losowego `RandomForestClassifier`. Dokonaj predykcję i oblicz dokładność na zbiorze walidacyjnym i testowym.\n",
        "\n",
        "Pamiętaj, żeby ustawić `random_state=42`.\n",
        "\n",
        "Dokumentacja dla `RandomForestClassifier` dostępna jest [tutaj](https://scikit-learn.org/1.5/modules/generated/sklearn.ensemble.RandomForestClassifier.html#sklearn.ensemble.RandomForestClassifier)"
      ],
      "metadata": {
        "id": "0nDjJQqHXIPG"
      }
    },
    {
      "cell_type": "code",
      "source": [
        "from sklearn.ensemble import RandomForestClassifier\n",
        "# Wpisz swój kod poniżej\n"
      ],
      "metadata": {
        "id": "5XZb36vNYC7s"
      },
      "execution_count": null,
      "outputs": []
    },
    {
      "cell_type": "markdown",
      "source": [
        "# 10. Utwórz i wytrenuj klasyfikator o strukturze k najbliższych sąsiadów `KNeighborsClassifier`. Dokonaj predykcję i oblicz dokładność na zbiorze walidacyjnym i testowym.\n",
        "\n",
        "Pamiętaj, żeby ustawić `random_state=42`. Przyjmij `n_neighbors=5` sąsiadów.\n",
        "\n",
        "Dokumentacja dla `KNeighborsClassifier` dostępna jest [tutaj](https://scikit-learn.org/1.5/modules/generated/sklearn.neighbors.KNeighborsClassifier.html#sklearn.neighbors.KNeighborsClassifier)"
      ],
      "metadata": {
        "id": "mDWTBHK2YalX"
      }
    },
    {
      "cell_type": "code",
      "source": [
        "from sklearn.neighbors import KNeighborsClassifier\n",
        "# Wpisz swój kod poniżej\n"
      ],
      "metadata": {
        "id": "D8cNKnEXZ1Uy"
      },
      "execution_count": null,
      "outputs": []
    },
    {
      "cell_type": "markdown",
      "source": [
        "# 11. Utwórz i wytrenuj klasyfikator o strukturze SVM `SVC`. Dokonaj predykcję i oblicz dokładność na zbiorze walidacyjnym i testowym.\n",
        "\n",
        "Pamiętaj, żeby ustawić `random_state=42`.\n",
        "\n",
        "Dokumentacja dla `SVC` dostępna jest [tutaj](https://scikit-learn.org/1.5/modules/generated/sklearn.svm.SVC.html)"
      ],
      "metadata": {
        "id": "Le33BAXOaFCI"
      }
    },
    {
      "cell_type": "code",
      "source": [
        "from sklearn.svm import SVC\n",
        "# Wpisz swój kod poniżej\n"
      ],
      "metadata": {
        "id": "5jqAWDU2aYAg"
      },
      "execution_count": null,
      "outputs": []
    },
    {
      "cell_type": "markdown",
      "source": [
        "# 12. Oprócz wykorzystania pojedynczych klasyfikatorów istnieje możliwość wykorzystania kilku klasyfikatorów, które mogą głosować nad wynikiem klasyfikacji. Wykorzystaj wcześniejsze modele, aby utworzyć `VotingClassifier`. Dokonaj predykcję i oblicz dokładność na zbiorze walidacyjnym i testowym.\n",
        "\n",
        "Pamiętaj, żeby ustawić `random_state=42`. Wykorzystaj też sposób głosowania `voting='hard'` - jest to konieczne, ponieważ `soft` wymaga zwrócenia prawdopodobieństwa, co nie jest możliwe dla SVC. Możliwa jest również zmiana wag głosów poszczególnych klasyfikatorów, ale na razie zostawmy wszystkim równe.\n",
        "\n",
        "Dokumentacja dla `VotingClassifier` dostępna jest [tutaj](https://scikit-learn.org/1.5/modules/generated/sklearn.ensemble.VotingClassifier.html#sklearn.ensemble.VotingClassifier)"
      ],
      "metadata": {
        "id": "eghmpm8masWO"
      }
    },
    {
      "cell_type": "code",
      "source": [
        "from sklearn.ensemble import VotingClassifier\n",
        "# Wpisz swój kod poniżej\n"
      ],
      "metadata": {
        "id": "3ZqQOP1tasDq"
      },
      "execution_count": null,
      "outputs": []
    },
    {
      "cell_type": "markdown",
      "source": [
        "# Zadanie 13: Optymalizacja Hiperparametrów Modelu Random Forest za pomocą RandomizedSearchCV\n",
        "\n",
        "## Kroki\n",
        "\n",
        "1. Dostosuj `RandomizedSearchCV` z wybranymi hiperparametrami:\n",
        "   - `n_estimators`, `max_depth`, `min_samples_split`, `min_samples_leaf`, `bootstrap`.\n",
        "2. Ustaw liczbę iteracji na `50`, ilość crossvalidacji na `5`, a metrykę na `accuracy`.\n",
        "3. Znajdź najlepsze hiperparametry i przetestuj zoptymalizowany model na zbiorach walidacyjnym i testowym.\n",
        "\n",
        "\n",
        "- [RandomizedSearchCV](https://scikit-learn.org/stable/modules/generated/sklearn.model_selection.RandomizedSearchCV.html)\n",
        "\n"
      ],
      "metadata": {
        "id": "_JLiI1e6wAz1"
      }
    },
    {
      "cell_type": "code",
      "source": [
        "from sklearn.model_selection import train_test_split, RandomizedSearchCV\n",
        "from sklearn.ensemble import RandomForestClassifier\n",
        "from sklearn.metrics import accuracy_score\n",
        "\n",
        "param_dist = {\n",
        "    'n_estimators': [10, 50, 100, 200],\n",
        "    'max_depth': [None, 10, 20, 30],\n",
        "    'min_samples_split': [2, 5, 10],\n",
        "    'min_samples_leaf': [1, 2, 4],\n",
        "    'bootstrap': [True, False]\n",
        "\n",
        "}\n",
        "\n",
        "# Wpisz swój kod poniżej\n"
      ],
      "metadata": {
        "id": "IFK9j9vBuh67"
      },
      "execution_count": null,
      "outputs": []
    }
  ]
}