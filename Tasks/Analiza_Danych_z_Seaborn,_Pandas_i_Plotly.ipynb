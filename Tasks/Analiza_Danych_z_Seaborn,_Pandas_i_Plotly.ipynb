{
  "nbformat": 4,
  "nbformat_minor": 0,
  "metadata": {
    "colab": {
      "provenance": []
    },
    "kernelspec": {
      "name": "python3",
      "display_name": "Python 3"
    },
    "language_info": {
      "name": "python"
    }
  },
  "cells": [
    {
      "cell_type": "code",
      "execution_count": 1,
      "metadata": {
        "colab": {
          "base_uri": "https://localhost:8080/"
        },
        "id": "qrktWEPOh3XU",
        "outputId": "2febcfd3-4276-44b3-d358-e930426c6c38"
      },
      "outputs": [
        {
          "output_type": "stream",
          "name": "stdout",
          "text": [
            "Collecting openml\n",
            "  Downloading openml-0.15.0-py3-none-any.whl.metadata (9.9 kB)\n",
            "Collecting liac-arff>=2.4.0 (from openml)\n",
            "  Downloading liac-arff-2.5.0.tar.gz (13 kB)\n",
            "  Preparing metadata (setup.py) ... \u001b[?25l\u001b[?25hdone\n",
            "Collecting xmltodict (from openml)\n",
            "  Downloading xmltodict-0.14.2-py2.py3-none-any.whl.metadata (8.0 kB)\n",
            "Requirement already satisfied: requests in /usr/local/lib/python3.10/dist-packages (from openml) (2.32.3)\n",
            "Requirement already satisfied: scikit-learn>=0.18 in /usr/local/lib/python3.10/dist-packages (from openml) (1.5.2)\n",
            "Requirement already satisfied: python-dateutil in /usr/local/lib/python3.10/dist-packages (from openml) (2.8.2)\n",
            "Requirement already satisfied: pandas>=1.0.0 in /usr/local/lib/python3.10/dist-packages (from openml) (2.2.2)\n",
            "Requirement already satisfied: scipy>=0.13.3 in /usr/local/lib/python3.10/dist-packages (from openml) (1.13.1)\n",
            "Requirement already satisfied: numpy>=1.6.2 in /usr/local/lib/python3.10/dist-packages (from openml) (1.26.4)\n",
            "Collecting minio (from openml)\n",
            "  Downloading minio-7.2.12-py3-none-any.whl.metadata (6.5 kB)\n",
            "Requirement already satisfied: pyarrow in /usr/local/lib/python3.10/dist-packages (from openml) (17.0.0)\n",
            "Requirement already satisfied: tqdm in /usr/local/lib/python3.10/dist-packages (from openml) (4.66.6)\n",
            "Requirement already satisfied: packaging in /usr/local/lib/python3.10/dist-packages (from openml) (24.2)\n",
            "Requirement already satisfied: pytz>=2020.1 in /usr/local/lib/python3.10/dist-packages (from pandas>=1.0.0->openml) (2024.2)\n",
            "Requirement already satisfied: tzdata>=2022.7 in /usr/local/lib/python3.10/dist-packages (from pandas>=1.0.0->openml) (2024.2)\n",
            "Requirement already satisfied: six>=1.5 in /usr/local/lib/python3.10/dist-packages (from python-dateutil->openml) (1.16.0)\n",
            "Requirement already satisfied: joblib>=1.2.0 in /usr/local/lib/python3.10/dist-packages (from scikit-learn>=0.18->openml) (1.4.2)\n",
            "Requirement already satisfied: threadpoolctl>=3.1.0 in /usr/local/lib/python3.10/dist-packages (from scikit-learn>=0.18->openml) (3.5.0)\n",
            "Requirement already satisfied: certifi in /usr/local/lib/python3.10/dist-packages (from minio->openml) (2024.8.30)\n",
            "Requirement already satisfied: urllib3 in /usr/local/lib/python3.10/dist-packages (from minio->openml) (2.2.3)\n",
            "Requirement already satisfied: argon2-cffi in /usr/local/lib/python3.10/dist-packages (from minio->openml) (23.1.0)\n",
            "Collecting pycryptodome (from minio->openml)\n",
            "  Downloading pycryptodome-3.21.0-cp36-abi3-manylinux_2_17_x86_64.manylinux2014_x86_64.whl.metadata (3.4 kB)\n",
            "Requirement already satisfied: typing-extensions in /usr/local/lib/python3.10/dist-packages (from minio->openml) (4.12.2)\n",
            "Requirement already satisfied: charset-normalizer<4,>=2 in /usr/local/lib/python3.10/dist-packages (from requests->openml) (3.4.0)\n",
            "Requirement already satisfied: idna<4,>=2.5 in /usr/local/lib/python3.10/dist-packages (from requests->openml) (3.10)\n",
            "Requirement already satisfied: argon2-cffi-bindings in /usr/local/lib/python3.10/dist-packages (from argon2-cffi->minio->openml) (21.2.0)\n",
            "Requirement already satisfied: cffi>=1.0.1 in /usr/local/lib/python3.10/dist-packages (from argon2-cffi-bindings->argon2-cffi->minio->openml) (1.17.1)\n",
            "Requirement already satisfied: pycparser in /usr/local/lib/python3.10/dist-packages (from cffi>=1.0.1->argon2-cffi-bindings->argon2-cffi->minio->openml) (2.22)\n",
            "Downloading openml-0.15.0-py3-none-any.whl (157 kB)\n",
            "\u001b[2K   \u001b[90m━━━━━━━━━━━━━━━━━━━━━━━━━━━━━━━━━━━━━━━━\u001b[0m \u001b[32m158.0/158.0 kB\u001b[0m \u001b[31m9.8 MB/s\u001b[0m eta \u001b[36m0:00:00\u001b[0m\n",
            "\u001b[?25hDownloading minio-7.2.12-py3-none-any.whl (94 kB)\n",
            "\u001b[2K   \u001b[90m━━━━━━━━━━━━━━━━━━━━━━━━━━━━━━━━━━━━━━━━\u001b[0m \u001b[32m94.3/94.3 kB\u001b[0m \u001b[31m7.2 MB/s\u001b[0m eta \u001b[36m0:00:00\u001b[0m\n",
            "\u001b[?25hDownloading xmltodict-0.14.2-py2.py3-none-any.whl (10.0 kB)\n",
            "Downloading pycryptodome-3.21.0-cp36-abi3-manylinux_2_17_x86_64.manylinux2014_x86_64.whl (2.3 MB)\n",
            "\u001b[2K   \u001b[90m━━━━━━━━━━━━━━━━━━━━━━━━━━━━━━━━━━━━━━━━\u001b[0m \u001b[32m2.3/2.3 MB\u001b[0m \u001b[31m65.7 MB/s\u001b[0m eta \u001b[36m0:00:00\u001b[0m\n",
            "\u001b[?25hBuilding wheels for collected packages: liac-arff\n",
            "  Building wheel for liac-arff (setup.py) ... \u001b[?25l\u001b[?25hdone\n",
            "  Created wheel for liac-arff: filename=liac_arff-2.5.0-py3-none-any.whl size=11716 sha256=e49571fe8fd8bb8f4ce96c25d7d08b4c015a7eda598b4c08c1cef3f8f2a548b0\n",
            "  Stored in directory: /root/.cache/pip/wheels/5d/2a/9c/3895d9617f8f49a0883ba686326d598e78a1c2f54fe3cae86d\n",
            "Successfully built liac-arff\n",
            "Installing collected packages: xmltodict, pycryptodome, liac-arff, minio, openml\n",
            "Successfully installed liac-arff-2.5.0 minio-7.2.12 openml-0.15.0 pycryptodome-3.21.0 xmltodict-0.14.2\n"
          ]
        }
      ],
      "source": [
        "!pip install openml"
      ]
    },
    {
      "cell_type": "code",
      "source": [
        "import openml\n",
        "import pandas as pd\n",
        "import matplotlib.pyplot as plt\n",
        "\n",
        "\n",
        "dataset_id = 43566\n",
        "data = openml.datasets.get_dataset(dataset_id)\n",
        "df, *_ = data.get_data()\n",
        "print(df.head())"
      ],
      "metadata": {
        "colab": {
          "base_uri": "https://localhost:8080/"
        },
        "id": "VhctXYaziHR6",
        "outputId": "7ff40fe7-3997-406f-862a-a1f50cce9864"
      },
      "execution_count": 3,
      "outputs": [
        {
          "output_type": "stream",
          "name": "stdout",
          "text": [
            "   Fide_id                 Name Federation Gender  Year_of_birth Title  \\\n",
            "0  1503014      Carlsen, Magnus        NOR      M         1990.0    GM   \n",
            "1  2020009     Caruana, Fabiano        USA      M         1992.0    GM   \n",
            "2  4100018      Kasparov, Garry        RUS      M         1963.0    GM   \n",
            "3  8603677          Ding, Liren        CHN      M         1992.0    GM   \n",
            "4  4168119  Nepomniachtchi, Ian        RUS      M         1990.0    GM   \n",
            "\n",
            "   Standard_Rating  Rapid_rating  Blitz_rating Inactive_flag  \n",
            "0           2863.0        2881.0        2886.0          None  \n",
            "1           2835.0        2773.0        2711.0          None  \n",
            "2           2812.0        2783.0        2801.0             i  \n",
            "3           2791.0        2836.0        2788.0          None  \n",
            "4           2784.0        2778.0        2785.0          None  \n"
          ]
        }
      ]
    },
    {
      "cell_type": "markdown",
      "source": [
        "# 🎯 zad1: Analiza Proporcji Aktywnych Graczy według Płci\n",
        "\n",
        "### 📄 Opis\n",
        "Celem tego zadania jest przeanalizowanie proporcji aktywnych graczy według płci oraz ich wizualizacja przy pomocy wykresu kołowego. Wykorzystamy bibliotekę Matplotlib do stworzenia wykresu, który pokazuje udział mężczyzn i kobiet w zbiorze aktywnych zawodników.\n",
        "\n",
        "---\n",
        "\n",
        "### 📝 Kroki do wykonania:\n",
        "\n",
        "#### 1. Filtracja aktywnych graczy 🕵️‍♀️\n",
        "   - Wyodrębnij jedynie aktywnych graczy, czyli tych, dla których kolumna `Inactive_flag` ma wartość `NaN`.\n",
        "   - To oznacza, że gracz jest aktywny i zostanie uwzględniony w analizie.\n",
        "\n",
        "#### 2. Obliczenie liczby aktywnych mężczyzn i kobiet 👩‍🔬👨‍🔬\n",
        "   - Użyj metody `value_counts()` na kolumnie `Gender` w przefiltrowanym zbiorze danych, aby policzyć, ilu aktywnych graczy jest wśród mężczyzn i kobiet.\n",
        "\n",
        "#### 3. Przeliczenie liczby na tysiące oraz wyliczenie procentów 📊\n",
        "   - Oblicz procentowy udział każdej płci, aby zobaczyć proporcje mężczyzn i kobiet w zbiorze aktywnych graczy.\n",
        "   - Dla lepszej czytelności przelicz liczby na tysiące i przygotuj je do wyświetlenia na wykresie.\n",
        "\n",
        "#### 4. Tworzenie legendy 🏷️\n",
        "   - Przygotuj etykiety z liczbą graczy oraz ich procentowym udziałem.\n",
        "   - Użyj f-stringów, aby sformatować tekst etykiet w formacie: `\"Kobiety: 120.5k (16.3%)\"`.\n",
        "\n",
        "#### 5. Tworzenie wykresu kołowego 🥧\n",
        "   - Użyj `plt.pie()` z Matplotlib, aby stworzyć wykres kołowy pokazujący proporcje mężczyzn i kobiet.\n",
        "   - Ustaw parametr `autopct='%1.1f%%'`, aby na wykresie były widoczne wartości procentowe dla każdej płci.\n",
        "\n",
        "---\n",
        "\n",
        "\n",
        "📌 Podpowiedzi:\n",
        "\n",
        "- Zliczanie liczby mężczyzn i kobiet: Użyj value_counts() na kolumnie Gender, aby uzyskać liczby mężczyzn i kobiet. Na przykład: gender_counts_active = active_players['Gender'].value_counts().\n",
        "\n",
        "- Przeliczenie liczby na tysiące: Podziel każdą wartość przez 1000 i zaokrąglij wynik do jednego miejsca po przecinku, aby wartości były wyświetlane jako tysiące. Przykład: (gender_counts_active / 1000).round(1).\n",
        "\n",
        "- Etykiety dla legendy: Użyj f-stringów do formatowania tekstu, np. f\"Mężczyźni: {liczba}k ({procent}%)\", aby stworzyć informacyjne etykiety z liczbą i procentem graczy każdej płci."
      ],
      "metadata": {
        "id": "hx7sf7NHkIaZ"
      }
    },
    {
      "cell_type": "code",
      "source": [],
      "metadata": {
        "id": "3k09FNe9mZt1"
      },
      "execution_count": null,
      "outputs": []
    },
    {
      "cell_type": "markdown",
      "source": [
        "# 🎯 ZAD2: Analiza Top 20 Zawodników według Rankingu Standardowego i Rapidowego\n",
        "\n",
        "### 📄 Opis zadania\n",
        "Celem tego zadania jest przeanalizowanie 20 najlepszych aktywnych szachistów w dwóch kategoriach rankingowych: standardowym i rapidowym. Przeanalizujemy, jak wiek zawodników wpływa na ich wyniki oraz zobaczymy, jak rozkładają się zawodnicy z różnych federacji w obu rankingach.\n",
        "\n",
        "---\n",
        "\n",
        "### 📝 Kroki do wykonania\n",
        "\n",
        "#### Krok 1: Obliczenie wieku zawodników 🧮\n",
        "   - Używamy kolumny `Year_of_birth`, aby obliczyć wiek zawodników, odejmując rok urodzenia od bieżącego roku (2024).\n",
        "   - Wartości `NaN` w `Year_of_birth` są wypełniane przez `0`, aby uniknąć błędów przy przekształcaniu do typu całkowitego.\n",
        "\n",
        "#### Krok 2: Filtracja aktywnych graczy 🔍\n",
        "   - Wybieramy tylko aktywnych zawodników (ci, którzy mają `NaN` w kolumnie `Inactive_flag`), aby skoncentrować się na obecnie uczestniczących w rozgrywkach.\n",
        "\n",
        "#### Krok 3: Wybór Top 20 zawodników w każdym rankingu 🏆\n",
        "   - Korzystając z kolumny `Standard_Rating`, wybieramy 20 zawodników z najwyższymi wynikami dla rankingu standardowego.\n",
        "   - Następnie z kolumny `Rapid_rating` wybieramy 20 najlepszych zawodników dla rankingu rapidowego.\n",
        "   - Dodajemy kolumnę `Ranking_Type`, aby odróżnić typ rankingu w wizualizacji.\n",
        "\n",
        "#### Krok 4: Tworzenie wykresu punktowego w Seaborn 📊\n",
        "   - Korzystamy z `seaborn.scatterplot`, aby stworzyć wykres punktowy dla obu rankingów:\n",
        "     - **Osie**: Oś X przedstawia wiek zawodników, a oś Y – wartość rankingu.\n",
        "     - **Kolory**: Zawodnicy są rozróżnieni według federacji, co ułatwia identyfikację ich przynależności.\n",
        "   - Wykresy są umieszczone obok siebie (dla rankingu standardowego i rapidowego), co umożliwia łatwe porównanie obu kategorii.\n",
        "\n",
        "---"
      ],
      "metadata": {
        "id": "9RifjxJVlTN8"
      }
    },
    {
      "cell_type": "code",
      "source": [],
      "metadata": {
        "id": "OfrmFN3qmbku"
      },
      "execution_count": null,
      "outputs": []
    },
    {
      "cell_type": "markdown",
      "source": [
        " 🥇 ZAD 2.1: Analiza Udziału Tytułów wśród Aktywnych Graczy\n",
        "\n",
        "### 🎯 Cel zadania\n",
        "\n",
        "Stworzymy wykres kołowy pokazujący procentowy udział poszczególnych tytułów wśród aktywnych graczy. W wersji rozszerzonej uwzględnimy także podział na płeć, aby wizualizacja była bardziej informatywna.\n",
        "\n",
        "---------------------------------------\n",
        "\n",
        "### 📝 Instrukcje\n",
        "\n",
        "#### Podstawowa wersja ✅\n",
        "1. **Przygotowanie danych**:\n",
        "   - Oblicz liczbę graczy w każdej kategorii tytułów, korzystając z `value_counts()` na kolumnie `Title`.\n",
        "2. **Tworzenie wykresu kołowego**:\n",
        "   - Wykorzystaj `plotly.express.pie` do utworzenia wykresu:\n",
        "     - Parametr `names` ustawia etykiety dla poszczególnych segmentów ( w tym przypadku nazwę tytułu).\n",
        "     - Parametr `values` ustawia wartości segmentów ( w tym przypadku  liczbę zawodników w każdej kategorii).\n",
        "   - W Plotly, gdy ustawisz `textinfo='percent+label` w fig.update_traces, procenty są automatycznie obliczane przez bibliotekę\n",
        "\n",
        "#### 🔗 Linki pomocnicze\n",
        "- https://plotly.com/python-api-reference/generated/plotly.express.pie\n",
        "-https://www.geeksforgeeks.org/pie-plot-using-plotly-in-python/\n",
        "\n",
        "#### Rozszerzona wersja z podziałem na płeć 🚀\n",
        "\n",
        "1. **Przygotuj dane**: Pogrupuj dane według Title i Gender, a następnie przekształć wynik, aby uzyskać liczbę mężczyzn i kobiet w każdej kategorii tytułów. Użyj groupby(['Title', 'Gender']).size().unstack(fill_value=0), aby stworzyć tabelę, w której wiersze odpowiadają tytułom, a kolumny zawierają liczbę mężczyzn (M) i kobiet (F).\n",
        "\n",
        "2. **Stwórz listę etykiet**: Korzystając z pętli, przejdź przez każdy tytuł w danych i dla każdego z nich pobierz liczbę mężczyzn i kobiet z tabeli `(  .loc[title, 'M'] i .loc[title, 'F']`). Następnie połącz te informacje w jednym napisie, np. `\"GM (M: 10, F: 2)\"`.\n",
        "\n",
        "---------------------------------"
      ],
      "metadata": {
        "id": "vRNi-YFUieAI"
      }
    },
    {
      "cell_type": "code",
      "source": [
        "import plotly.express as px\n",
        "\n",
        "active_players = df['Inactive_flag'].isna()\n",
        "df_active = df[active_players]\n",
        "\n"
      ],
      "metadata": {
        "id": "BY-WCS03jssL"
      },
      "execution_count": 5,
      "outputs": []
    },
    {
      "cell_type": "markdown",
      "source": [
        "####🌍 ZAD3: Analiza Liczby Aktywnych Graczy w Poszczególnych Federacjach na Mapie Świata\n",
        "------------------------------------------\n",
        "\n",
        "### 🎯 Cel zadania\n",
        "Celem tego zadania jest wizualizacja liczby aktywnych szachistów na całym świecie w różnych federacjach, przedstawiona za pomocą interaktywnej mapy.\n",
        "\n",
        "---\n",
        "\n",
        "### 🔧 Instrukcje\n",
        "#### Krok 1: Przygotowanie danych\n",
        "1. **Filtracja aktywnych graczy**: Uwzględniamy tylko aktywnych zawodników. W kolumnie `Inactive_flag` wartość `NaN` oznacza gracza aktywnego.\n",
        "2. **Agregacja danych**: Korzystamy z `value_counts()` na kolumnie `Federation`, aby uzyskać liczbę aktywnych zawodników dla każdej federacji.\n",
        "\n",
        "#### Krok 2: Tworzenie mapy\n",
        "Używamy funkcji `plotly.express.choropleth`, aby stworzyć interaktywną mapę świata, gdzie kolor każdego kraju reprezentuje liczbę aktywnych graczy.\n",
        "\n",
        "### Parametry dla `px.choropleth`\n",
        "- **`locations`** 🌐 – kolumna zawierająca kody krajów w formacie ISO Alpha-3, np. \"POL\" dla Polski. W naszym przypadku będzie to kolumna `\"Federation\"`.\n",
        "- **`color`** 🎨 – kolumna z wartościami liczbowymi, które będą reprezentowane kolorem na mapie, czyli `\"Active_Players\"`.\n",
        "- **`hover_name`** 🖱️ – kolumna, która wyświetla nazwę federacji po najechaniu kursorem na kraj, również `\"Federation\"`.\n",
        "\n",
        "\n",
        "### 🔗 Dodatkowe linki\n",
        "https://plotly.com/python/choropleth-maps/\n",
        "\n",
        "https://plotly.github.io/plotly.py-docs/generated/plotly.express.choropleth.html"
      ],
      "metadata": {
        "id": "k7O3YPiHjz2E"
      }
    },
    {
      "cell_type": "markdown",
      "source": [
        "Przykład wizualizacji przedstawiający liczbę graczy z tytułem GM wsródza pomocą biblioteki Plotly"
      ],
      "metadata": {
        "id": "u6NQqzKbmFrx"
      }
    },
    {
      "cell_type": "code",
      "source": [],
      "metadata": {
        "colab": {
          "base_uri": "https://localhost:8080/",
          "height": 542
        },
        "id": "pX4fgW4b0lpr",
        "outputId": "0bc20b56-b962-4551-8592-48f0021e4537"
      },
      "execution_count": 10,
      "outputs": [
        {
          "output_type": "display_data",
          "data": {
            "text/html": [
              "<html>\n",
              "<head><meta charset=\"utf-8\" /></head>\n",
              "<body>\n",
              "    <div>            <script src=\"https://cdnjs.cloudflare.com/ajax/libs/mathjax/2.7.5/MathJax.js?config=TeX-AMS-MML_SVG\"></script><script type=\"text/javascript\">if (window.MathJax && window.MathJax.Hub && window.MathJax.Hub.Config) {window.MathJax.Hub.Config({SVG: {font: \"STIX-Web\"}});}</script>                <script type=\"text/javascript\">window.PlotlyConfig = {MathJaxConfig: 'local'};</script>\n",
              "        <script charset=\"utf-8\" src=\"https://cdn.plot.ly/plotly-2.35.2.min.js\"></script>                <div id=\"8fc9a4d7-0b7b-4f04-b96d-a2f4394933f1\" class=\"plotly-graph-div\" style=\"height:525px; width:100%;\"></div>            <script type=\"text/javascript\">                                    window.PLOTLYENV=window.PLOTLYENV || {};                                    if (document.getElementById(\"8fc9a4d7-0b7b-4f04-b96d-a2f4394933f1\")) {                    Plotly.newPlot(                        \"8fc9a4d7-0b7b-4f04-b96d-a2f4394933f1\",                        [{\"coloraxis\":\"coloraxis\",\"geo\":\"geo\",\"hovertemplate\":\"\\u003cb\\u003e%{hovertext}\\u003c\\u002fb\\u003e\\u003cbr\\u003e\\u003cbr\\u003eFederation=%{location}\\u003cbr\\u003eTitle_Count=%{z}\\u003cextra\\u003e\\u003c\\u002fextra\\u003e\",\"hovertext\":[\"RUS\",\"GER\",\"USA\",\"UKR\",\"IND\",\"ESP\",\"HUN\",\"FRA\",\"SRB\",\"CHN\",\"POL\",\"ISR\",\"ARM\",\"NED\",\"ENG\",\"CZE\",\"BUL\",\"GEO\",\"CRO\",\"CUB\",\"AZE\",\"ARG\",\"SWE\",\"ROU\",\"UZB\",\"BLR\",\"ITA\",\"NOR\",\"IRI\",\"KAZ\",\"DEN\",\"GRE\",\"CAN\",\"BRA\",\"PHI\",\"SVK\",\"ISL\",\"TUR\",\"VIE\",\"SLO\",\"LAT\",\"MKD\",\"AUS\",\"PER\",\"COL\",\"AUT\",\"BEL\",\"SUI\",\"LTU\",\"BIH\",\"MGL\",\"MDA\",\"SCO\",\"CHI\",\"EGY\",\"MNE\",\"EST\",\"BAN\",\"FIN\",\"TKM\",\"SGP\",\"POR\",\"MEX\",\"PAR\",\"QAT\",\"TUN\",\"INA\",\"ALG\",\"VEN\",\"MNC\",\"AND\",\"URU\",\"FID\",\"UAE\",\"TJK\",\"ECU\",\"NZL\",\"FAI\",\"WLS\",\"KOR\",\"ALB\",\"CRC\",\"ZAM\",\"BOL\",\"IRL\",\"DOM\",\"MAR\",\"RSA\"],\"locations\":[\"RUS\",\"GER\",\"USA\",\"UKR\",\"IND\",\"ESP\",\"HUN\",\"FRA\",\"SRB\",\"CHN\",\"POL\",\"ISR\",\"ARM\",\"NED\",\"ENG\",\"CZE\",\"BUL\",\"GEO\",\"CRO\",\"CUB\",\"AZE\",\"ARG\",\"SWE\",\"ROU\",\"UZB\",\"BLR\",\"ITA\",\"NOR\",\"IRI\",\"KAZ\",\"DEN\",\"GRE\",\"CAN\",\"BRA\",\"PHI\",\"SVK\",\"ISL\",\"TUR\",\"VIE\",\"SLO\",\"LAT\",\"MKD\",\"AUS\",\"PER\",\"COL\",\"AUT\",\"BEL\",\"SUI\",\"LTU\",\"BIH\",\"MGL\",\"MDA\",\"SCO\",\"CHI\",\"EGY\",\"MNE\",\"EST\",\"BAN\",\"FIN\",\"TKM\",\"SGP\",\"POR\",\"MEX\",\"PAR\",\"QAT\",\"TUN\",\"INA\",\"ALG\",\"VEN\",\"MNC\",\"AND\",\"URU\",\"FID\",\"UAE\",\"TJK\",\"ECU\",\"NZL\",\"FAI\",\"WLS\",\"KOR\",\"ALB\",\"CRC\",\"ZAM\",\"BOL\",\"IRL\",\"DOM\",\"MAR\",\"RSA\"],\"name\":\"\",\"z\":[237,96,95,88,66,55,52,51,50,48,47,44,40,38,36,34,32,31,30,27,26,23,22,21,17,17,16,16,15,15,14,14,14,14,13,13,13,12,12,11,11,10,10,9,9,9,9,9,8,8,7,7,7,6,6,6,6,5,5,5,4,4,4,4,3,3,3,3,2,2,2,2,2,2,1,1,1,1,1,1,1,1,1,1,1,1,1,1],\"type\":\"choropleth\"}],                        {\"template\":{\"data\":{\"histogram2dcontour\":[{\"type\":\"histogram2dcontour\",\"colorbar\":{\"outlinewidth\":0,\"ticks\":\"\"},\"colorscale\":[[0.0,\"#0d0887\"],[0.1111111111111111,\"#46039f\"],[0.2222222222222222,\"#7201a8\"],[0.3333333333333333,\"#9c179e\"],[0.4444444444444444,\"#bd3786\"],[0.5555555555555556,\"#d8576b\"],[0.6666666666666666,\"#ed7953\"],[0.7777777777777778,\"#fb9f3a\"],[0.8888888888888888,\"#fdca26\"],[1.0,\"#f0f921\"]]}],\"choropleth\":[{\"type\":\"choropleth\",\"colorbar\":{\"outlinewidth\":0,\"ticks\":\"\"}}],\"histogram2d\":[{\"type\":\"histogram2d\",\"colorbar\":{\"outlinewidth\":0,\"ticks\":\"\"},\"colorscale\":[[0.0,\"#0d0887\"],[0.1111111111111111,\"#46039f\"],[0.2222222222222222,\"#7201a8\"],[0.3333333333333333,\"#9c179e\"],[0.4444444444444444,\"#bd3786\"],[0.5555555555555556,\"#d8576b\"],[0.6666666666666666,\"#ed7953\"],[0.7777777777777778,\"#fb9f3a\"],[0.8888888888888888,\"#fdca26\"],[1.0,\"#f0f921\"]]}],\"heatmap\":[{\"type\":\"heatmap\",\"colorbar\":{\"outlinewidth\":0,\"ticks\":\"\"},\"colorscale\":[[0.0,\"#0d0887\"],[0.1111111111111111,\"#46039f\"],[0.2222222222222222,\"#7201a8\"],[0.3333333333333333,\"#9c179e\"],[0.4444444444444444,\"#bd3786\"],[0.5555555555555556,\"#d8576b\"],[0.6666666666666666,\"#ed7953\"],[0.7777777777777778,\"#fb9f3a\"],[0.8888888888888888,\"#fdca26\"],[1.0,\"#f0f921\"]]}],\"heatmapgl\":[{\"type\":\"heatmapgl\",\"colorbar\":{\"outlinewidth\":0,\"ticks\":\"\"},\"colorscale\":[[0.0,\"#0d0887\"],[0.1111111111111111,\"#46039f\"],[0.2222222222222222,\"#7201a8\"],[0.3333333333333333,\"#9c179e\"],[0.4444444444444444,\"#bd3786\"],[0.5555555555555556,\"#d8576b\"],[0.6666666666666666,\"#ed7953\"],[0.7777777777777778,\"#fb9f3a\"],[0.8888888888888888,\"#fdca26\"],[1.0,\"#f0f921\"]]}],\"contourcarpet\":[{\"type\":\"contourcarpet\",\"colorbar\":{\"outlinewidth\":0,\"ticks\":\"\"}}],\"contour\":[{\"type\":\"contour\",\"colorbar\":{\"outlinewidth\":0,\"ticks\":\"\"},\"colorscale\":[[0.0,\"#0d0887\"],[0.1111111111111111,\"#46039f\"],[0.2222222222222222,\"#7201a8\"],[0.3333333333333333,\"#9c179e\"],[0.4444444444444444,\"#bd3786\"],[0.5555555555555556,\"#d8576b\"],[0.6666666666666666,\"#ed7953\"],[0.7777777777777778,\"#fb9f3a\"],[0.8888888888888888,\"#fdca26\"],[1.0,\"#f0f921\"]]}],\"surface\":[{\"type\":\"surface\",\"colorbar\":{\"outlinewidth\":0,\"ticks\":\"\"},\"colorscale\":[[0.0,\"#0d0887\"],[0.1111111111111111,\"#46039f\"],[0.2222222222222222,\"#7201a8\"],[0.3333333333333333,\"#9c179e\"],[0.4444444444444444,\"#bd3786\"],[0.5555555555555556,\"#d8576b\"],[0.6666666666666666,\"#ed7953\"],[0.7777777777777778,\"#fb9f3a\"],[0.8888888888888888,\"#fdca26\"],[1.0,\"#f0f921\"]]}],\"mesh3d\":[{\"type\":\"mesh3d\",\"colorbar\":{\"outlinewidth\":0,\"ticks\":\"\"}}],\"scatter\":[{\"fillpattern\":{\"fillmode\":\"overlay\",\"size\":10,\"solidity\":0.2},\"type\":\"scatter\"}],\"parcoords\":[{\"type\":\"parcoords\",\"line\":{\"colorbar\":{\"outlinewidth\":0,\"ticks\":\"\"}}}],\"scatterpolargl\":[{\"type\":\"scatterpolargl\",\"marker\":{\"colorbar\":{\"outlinewidth\":0,\"ticks\":\"\"}}}],\"bar\":[{\"error_x\":{\"color\":\"#2a3f5f\"},\"error_y\":{\"color\":\"#2a3f5f\"},\"marker\":{\"line\":{\"color\":\"#E5ECF6\",\"width\":0.5},\"pattern\":{\"fillmode\":\"overlay\",\"size\":10,\"solidity\":0.2}},\"type\":\"bar\"}],\"scattergeo\":[{\"type\":\"scattergeo\",\"marker\":{\"colorbar\":{\"outlinewidth\":0,\"ticks\":\"\"}}}],\"scatterpolar\":[{\"type\":\"scatterpolar\",\"marker\":{\"colorbar\":{\"outlinewidth\":0,\"ticks\":\"\"}}}],\"histogram\":[{\"marker\":{\"pattern\":{\"fillmode\":\"overlay\",\"size\":10,\"solidity\":0.2}},\"type\":\"histogram\"}],\"scattergl\":[{\"type\":\"scattergl\",\"marker\":{\"colorbar\":{\"outlinewidth\":0,\"ticks\":\"\"}}}],\"scatter3d\":[{\"type\":\"scatter3d\",\"line\":{\"colorbar\":{\"outlinewidth\":0,\"ticks\":\"\"}},\"marker\":{\"colorbar\":{\"outlinewidth\":0,\"ticks\":\"\"}}}],\"scattermapbox\":[{\"type\":\"scattermapbox\",\"marker\":{\"colorbar\":{\"outlinewidth\":0,\"ticks\":\"\"}}}],\"scatterternary\":[{\"type\":\"scatterternary\",\"marker\":{\"colorbar\":{\"outlinewidth\":0,\"ticks\":\"\"}}}],\"scattercarpet\":[{\"type\":\"scattercarpet\",\"marker\":{\"colorbar\":{\"outlinewidth\":0,\"ticks\":\"\"}}}],\"carpet\":[{\"aaxis\":{\"endlinecolor\":\"#2a3f5f\",\"gridcolor\":\"white\",\"linecolor\":\"white\",\"minorgridcolor\":\"white\",\"startlinecolor\":\"#2a3f5f\"},\"baxis\":{\"endlinecolor\":\"#2a3f5f\",\"gridcolor\":\"white\",\"linecolor\":\"white\",\"minorgridcolor\":\"white\",\"startlinecolor\":\"#2a3f5f\"},\"type\":\"carpet\"}],\"table\":[{\"cells\":{\"fill\":{\"color\":\"#EBF0F8\"},\"line\":{\"color\":\"white\"}},\"header\":{\"fill\":{\"color\":\"#C8D4E3\"},\"line\":{\"color\":\"white\"}},\"type\":\"table\"}],\"barpolar\":[{\"marker\":{\"line\":{\"color\":\"#E5ECF6\",\"width\":0.5},\"pattern\":{\"fillmode\":\"overlay\",\"size\":10,\"solidity\":0.2}},\"type\":\"barpolar\"}],\"pie\":[{\"automargin\":true,\"type\":\"pie\"}]},\"layout\":{\"autotypenumbers\":\"strict\",\"colorway\":[\"#636efa\",\"#EF553B\",\"#00cc96\",\"#ab63fa\",\"#FFA15A\",\"#19d3f3\",\"#FF6692\",\"#B6E880\",\"#FF97FF\",\"#FECB52\"],\"font\":{\"color\":\"#2a3f5f\"},\"hovermode\":\"closest\",\"hoverlabel\":{\"align\":\"left\"},\"paper_bgcolor\":\"white\",\"plot_bgcolor\":\"#E5ECF6\",\"polar\":{\"bgcolor\":\"#E5ECF6\",\"angularaxis\":{\"gridcolor\":\"white\",\"linecolor\":\"white\",\"ticks\":\"\"},\"radialaxis\":{\"gridcolor\":\"white\",\"linecolor\":\"white\",\"ticks\":\"\"}},\"ternary\":{\"bgcolor\":\"#E5ECF6\",\"aaxis\":{\"gridcolor\":\"white\",\"linecolor\":\"white\",\"ticks\":\"\"},\"baxis\":{\"gridcolor\":\"white\",\"linecolor\":\"white\",\"ticks\":\"\"},\"caxis\":{\"gridcolor\":\"white\",\"linecolor\":\"white\",\"ticks\":\"\"}},\"coloraxis\":{\"colorbar\":{\"outlinewidth\":0,\"ticks\":\"\"}},\"colorscale\":{\"sequential\":[[0.0,\"#0d0887\"],[0.1111111111111111,\"#46039f\"],[0.2222222222222222,\"#7201a8\"],[0.3333333333333333,\"#9c179e\"],[0.4444444444444444,\"#bd3786\"],[0.5555555555555556,\"#d8576b\"],[0.6666666666666666,\"#ed7953\"],[0.7777777777777778,\"#fb9f3a\"],[0.8888888888888888,\"#fdca26\"],[1.0,\"#f0f921\"]],\"sequentialminus\":[[0.0,\"#0d0887\"],[0.1111111111111111,\"#46039f\"],[0.2222222222222222,\"#7201a8\"],[0.3333333333333333,\"#9c179e\"],[0.4444444444444444,\"#bd3786\"],[0.5555555555555556,\"#d8576b\"],[0.6666666666666666,\"#ed7953\"],[0.7777777777777778,\"#fb9f3a\"],[0.8888888888888888,\"#fdca26\"],[1.0,\"#f0f921\"]],\"diverging\":[[0,\"#8e0152\"],[0.1,\"#c51b7d\"],[0.2,\"#de77ae\"],[0.3,\"#f1b6da\"],[0.4,\"#fde0ef\"],[0.5,\"#f7f7f7\"],[0.6,\"#e6f5d0\"],[0.7,\"#b8e186\"],[0.8,\"#7fbc41\"],[0.9,\"#4d9221\"],[1,\"#276419\"]]},\"xaxis\":{\"gridcolor\":\"white\",\"linecolor\":\"white\",\"ticks\":\"\",\"title\":{\"standoff\":15},\"zerolinecolor\":\"white\",\"automargin\":true,\"zerolinewidth\":2},\"yaxis\":{\"gridcolor\":\"white\",\"linecolor\":\"white\",\"ticks\":\"\",\"title\":{\"standoff\":15},\"zerolinecolor\":\"white\",\"automargin\":true,\"zerolinewidth\":2},\"scene\":{\"xaxis\":{\"backgroundcolor\":\"#E5ECF6\",\"gridcolor\":\"white\",\"linecolor\":\"white\",\"showbackground\":true,\"ticks\":\"\",\"zerolinecolor\":\"white\",\"gridwidth\":2},\"yaxis\":{\"backgroundcolor\":\"#E5ECF6\",\"gridcolor\":\"white\",\"linecolor\":\"white\",\"showbackground\":true,\"ticks\":\"\",\"zerolinecolor\":\"white\",\"gridwidth\":2},\"zaxis\":{\"backgroundcolor\":\"#E5ECF6\",\"gridcolor\":\"white\",\"linecolor\":\"white\",\"showbackground\":true,\"ticks\":\"\",\"zerolinecolor\":\"white\",\"gridwidth\":2}},\"shapedefaults\":{\"line\":{\"color\":\"#2a3f5f\"}},\"annotationdefaults\":{\"arrowcolor\":\"#2a3f5f\",\"arrowhead\":0,\"arrowwidth\":1},\"geo\":{\"bgcolor\":\"white\",\"landcolor\":\"#E5ECF6\",\"subunitcolor\":\"white\",\"showland\":true,\"showlakes\":true,\"lakecolor\":\"white\"},\"title\":{\"x\":0.05},\"mapbox\":{\"style\":\"light\"}}},\"geo\":{\"domain\":{\"x\":[0.0,1.0],\"y\":[0.0,1.0]},\"center\":{}},\"coloraxis\":{\"colorbar\":{\"title\":{\"text\":\"Title_Count\"}},\"colorscale\":[[0.0,\"rgb(255,255,204)\"],[0.125,\"rgb(255,237,160)\"],[0.25,\"rgb(254,217,118)\"],[0.375,\"rgb(254,178,76)\"],[0.5,\"rgb(253,141,60)\"],[0.625,\"rgb(252,78,42)\"],[0.75,\"rgb(227,26,28)\"],[0.875,\"rgb(189,0,38)\"],[1.0,\"rgb(128,0,38)\"]]},\"legend\":{\"tracegroupgap\":0},\"title\":{\"text\":\"Liczba zawodników z tytułem GM w każdej federacji\"}},                        {\"responsive\": true}                    ).then(function(){\n",
              "                            \n",
              "var gd = document.getElementById('8fc9a4d7-0b7b-4f04-b96d-a2f4394933f1');\n",
              "var x = new MutationObserver(function (mutations, observer) {{\n",
              "        var display = window.getComputedStyle(gd).display;\n",
              "        if (!display || display === 'none') {{\n",
              "            console.log([gd, 'removed!']);\n",
              "            Plotly.purge(gd);\n",
              "            observer.disconnect();\n",
              "        }}\n",
              "}});\n",
              "\n",
              "// Listen for the removal of the full notebook cells\n",
              "var notebookContainer = gd.closest('#notebook-container');\n",
              "if (notebookContainer) {{\n",
              "    x.observe(notebookContainer, {childList: true});\n",
              "}}\n",
              "\n",
              "// Listen for the clearing of the current output cell\n",
              "var outputEl = gd.closest('.output');\n",
              "if (outputEl) {{\n",
              "    x.observe(outputEl, {childList: true});\n",
              "}}\n",
              "\n",
              "                        })                };                            </script>        </div>\n",
              "</body>\n",
              "</html>"
            ]
          },
          "metadata": {}
        }
      ]
    }
  ]
}